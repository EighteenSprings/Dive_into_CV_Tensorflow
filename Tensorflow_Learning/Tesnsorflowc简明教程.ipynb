{
  "nbformat": 4,
  "nbformat_minor": 0,
  "metadata": {
    "colab": {
      "name": "Tesnsorflowc简明教程.ipynb",
      "provenance": [],
      "collapsed_sections": [],
      "toc_visible": true
    },
    "kernelspec": {
      "name": "python3",
      "display_name": "Python 3"
    }
  },
  "cells": [
    {
      "cell_type": "markdown",
      "metadata": {
        "id": "36nIiJAa3Bno"
      },
      "source": [
        "# 1. 基础操作"
      ]
    },
    {
      "cell_type": "code",
      "metadata": {
        "id": "_TR3AwJv3PrI"
      },
      "source": [
        "import tensorflow as tf"
      ],
      "execution_count": null,
      "outputs": []
    },
    {
      "cell_type": "code",
      "metadata": {
        "colab": {
          "base_uri": "https://localhost:8080/"
        },
        "id": "TMaOoB_82hfc",
        "outputId": "9afe0e6b-4258-4045-fcb7-37a4ff820ab8"
      },
      "source": [
        "tf.random.uniform(shape = ())"
      ],
      "execution_count": null,
      "outputs": [
        {
          "output_type": "execute_result",
          "data": {
            "text/plain": [
              "<tf.Tensor: shape=(), dtype=float32, numpy=0.19983757>"
            ]
          },
          "metadata": {
            "tags": []
          },
          "execution_count": 3
        }
      ]
    },
    {
      "cell_type": "code",
      "metadata": {
        "colab": {
          "base_uri": "https://localhost:8080/"
        },
        "id": "M7jyagLO3T_x",
        "outputId": "8d0be5c4-fc61-4438-e95d-9caee9c15725"
      },
      "source": [
        "tf.zeros(shape=(2), dtype=tf.float32)"
      ],
      "execution_count": null,
      "outputs": [
        {
          "output_type": "execute_result",
          "data": {
            "text/plain": [
              "<tf.Tensor: shape=(2,), dtype=float32, numpy=array([0., 0.], dtype=float32)>"
            ]
          },
          "metadata": {
            "tags": []
          },
          "execution_count": 8
        }
      ]
    },
    {
      "cell_type": "code",
      "metadata": {
        "colab": {
          "base_uri": "https://localhost:8080/"
        },
        "id": "4ukPNYhE3gkH",
        "outputId": "5014d0c8-2bb4-4538-b798-044bfacc7604"
      },
      "source": [
        "A = tf.random.normal(shape = (2,2))\r\n",
        "A.numpy()"
      ],
      "execution_count": null,
      "outputs": [
        {
          "output_type": "execute_result",
          "data": {
            "text/plain": [
              "array([[ 0.36110538, -1.1769955 ],\n",
              "       [-1.1967709 , -2.1535163 ]], dtype=float32)"
            ]
          },
          "metadata": {
            "tags": []
          },
          "execution_count": 9
        }
      ]
    },
    {
      "cell_type": "markdown",
      "metadata": {
        "id": "zpenDQaP38q2"
      },
      "source": [
        "# 2. 自动求导"
      ]
    },
    {
      "cell_type": "code",
      "metadata": {
        "colab": {
          "base_uri": "https://localhost:8080/"
        },
        "id": "-klq5e5_3tke",
        "outputId": "2cb933a6-3dff-4b16-9b00-a4e1fa1b9c18"
      },
      "source": [
        "# 简单的y = x^2 求导\r\n",
        "x = tf.Variable(initial_value=3.)\r\n",
        "with tf.GradientTape() as tape:\r\n",
        "  y = tf.square(x)\r\n",
        "y_grad = tape.gradient(y, x)\r\n",
        "print([y, y_grad])"
      ],
      "execution_count": null,
      "outputs": [
        {
          "output_type": "stream",
          "text": [
            "[<tf.Tensor: shape=(), dtype=float32, numpy=9.0>, <tf.Tensor: shape=(), dtype=float32, numpy=6.0>]\n"
          ],
          "name": "stdout"
        }
      ]
    },
    {
      "cell_type": "code",
      "metadata": {
        "colab": {
          "base_uri": "https://localhost:8080/"
        },
        "id": "WGImgazh6Frq",
        "outputId": "ecc4c6d0-7496-41c9-e4f1-9b05027da625"
      },
      "source": [
        "# 多元函数求偏导\r\n",
        "X = tf.constant([[1.,2.], [3., 4.]])\r\n",
        "y = tf.constant( [[1.], [2.]])\r\n",
        "w = tf.Variable(initial_value=[[1.], [2.]])\r\n",
        "b = tf.Variable(initial_value=1.)\r\n",
        "with tf.GradientTape() as tape:\r\n",
        "  L = tf.reduce_sum(tf.square( tf.matmul(X, w) + b - y ))\r\n",
        "w_grad, b_grad = tape.gradient(L, [w, b])\r\n",
        "print(L, w_grad, b_grad)"
      ],
      "execution_count": null,
      "outputs": [
        {
          "output_type": "stream",
          "text": [
            "tf.Tensor(125.0, shape=(), dtype=float32) tf.Tensor(\n",
            "[[ 70.]\n",
            " [100.]], shape=(2, 1), dtype=float32) tf.Tensor(30.0, shape=(), dtype=float32)\n"
          ],
          "name": "stdout"
        }
      ]
    },
    {
      "cell_type": "markdown",
      "metadata": {
        "id": "8_AulnCi82w1"
      },
      "source": [
        "# 3. 基础示例: 线性回归"
      ]
    },
    {
      "cell_type": "code",
      "metadata": {
        "id": "KCVuq6bA7Fvn"
      },
      "source": [
        "# 定义数据\r\n",
        "import numpy as np\r\n",
        "X_raw = np.arange(2013, 2018, dtype = np.float32)\r\n",
        "y_raw = np.array([12000, 14000, 15000, 16500, 17500], dtype = np.float32)\r\n",
        "\r\n",
        "#对数据放缩到[0,1]之间\r\n",
        "X = (X_raw - X_raw.min())/(X_raw.max() - X_raw.min())\r\n",
        "y = (y_raw - y_raw.min())/(y_raw.max() - y_raw.min())"
      ],
      "execution_count": null,
      "outputs": []
    },
    {
      "cell_type": "markdown",
      "metadata": {
        "id": "ZkR5TdEZ95PP"
      },
      "source": [
        "问题:  \r\n",
        "    回顾机器学习知识，使用梯度下降法,对于多元函数$f(x)$，求局部最小值"
      ]
    },
    {
      "cell_type": "markdown",
      "metadata": {
        "id": "jeU8NolPFG0g"
      },
      "source": [
        "## 3.1 先用自己的理解，使用tensorflow现有学习的知识练习一遍  \r\n",
        "Note: Tensorflow对变量tf.Variable的赋值要使用assign，且shape应该一致"
      ]
    },
    {
      "cell_type": "code",
      "metadata": {
        "id": "Aw0Kf5R_9uMl"
      },
      "source": [
        "X_tensor = tf.constant(X, dtype=tf.float32)\r\n",
        "y_tensor = tf.constant(y, dtype=tf.float32)\r\n",
        "w = tf.Variable(initial_value=0.5, dtype = tf.float32)\r\n",
        "b = tf.Variable(initial_value=0.0, dtype=tf.float32)\r\n",
        "lr = 1e-3\r\n",
        "L_progress = []\r\n",
        "for i in range(1000):\r\n",
        "  with tf.GradientTape() as tape:\r\n",
        "    L = tf.reduce_sum( tf.square( tf.multiply(w, X_tensor) + b - y ))\r\n",
        "  w_grad, b_grad = tape.gradient(L, [w,b])\r\n",
        "  L_progress.append(L.numpy())\r\n",
        "  w.assign(w - tf.multiply(lr,w_grad))\r\n",
        "  b.assign(b - tf.multiply(lr,b_grad))"
      ],
      "execution_count": null,
      "outputs": []
    },
    {
      "cell_type": "code",
      "metadata": {
        "id": "OIsydfxC9zaI"
      },
      "source": [
        "import matplotlib.pyplot as plt"
      ],
      "execution_count": null,
      "outputs": []
    },
    {
      "cell_type": "code",
      "metadata": {
        "colab": {
          "base_uri": "https://localhost:8080/",
          "height": 279
        },
        "id": "F4LeozRnEaNy",
        "outputId": "9c2b8ff4-d8e1-45f0-f96a-74af2df0e359"
      },
      "source": [
        "plt.plot(list(range(len(L_progress))), L_progress)\r\n",
        "plt.xlabel(r'iterations')\r\n",
        "plt.ylabel(r'Loss')\r\n",
        "plt.show()"
      ],
      "execution_count": null,
      "outputs": [
        {
          "output_type": "display_data",
          "data": {
            "image/png": "[encoded data removed]",
            "text/plain": [
              "<Figure size 432x288 with 1 Axes>"
            ]
          },
          "metadata": {
            "tags": [],
            "needs_background": "light"
          }
        }
      ]
    },
    {
      "cell_type": "markdown",
      "metadata": {
        "id": "RnX3CNY5FZbm"
      },
      "source": [
        "## 3.2 使用Tensorflow的Optimizer尝试一遍"
      ]
    },
    {
      "cell_type": "code",
      "metadata": {
        "id": "XRZzOXvNEuHm"
      },
      "source": [
        "X_tensor = tf.constant(X, dtype = tf.float32)\r\n",
        "y_tensor = tf.constant(y, dtype = tf.float32)\r\n",
        "\r\n",
        "a = tf.Variable(initial_value=0.)\r\n",
        "b = tf.Variable(initial_value=0.)\r\n",
        "variables = [ a, b]\r\n",
        "num_epochs = 10000 # 这里改成迭代1w次，因为1k次b的值仍然没有稳定\r\n",
        "lr = 1e-3\r\n",
        "optimizer = tf.keras.optimizers.SGD(learning_rate=lr)\r\n",
        "a_progress = []\r\n",
        "b_progress = []\r\n",
        "L_progress = []\r\n",
        "for e in range(num_epochs):\r\n",
        "  with tf.GradientTape() as tape:\r\n",
        "    y_pred = a*X + b\r\n",
        "    loss = tf.reduce_sum( tf.square(y_pred - y))\r\n",
        "  grads = tape.gradient(loss, variables)\r\n",
        "  optimizer.apply_gradients(grads_and_vars = zip(grads, variables))\r\n",
        "  a_progress.append(variables[0].numpy())\r\n",
        "  b_progress.append(variables[1].numpy())\r\n",
        "  L_progress.append(loss.numpy())\r\n"
      ],
      "execution_count": null,
      "outputs": []
    },
    {
      "cell_type": "code",
      "metadata": {
        "colab": {
          "base_uri": "https://localhost:8080/",
          "height": 284
        },
        "id": "0Zn9IX0iHsu4",
        "outputId": "e0e56ce6-ee28-4d65-8428-4664d32a1904"
      },
      "source": [
        "# 将参数a、b以及损失loss的图像画出来\r\n",
        "fig = plt.figure(figsize=(20,4),dpi = 100)\r\n",
        "plt.subplot(1,3,1)\r\n",
        "plt.plot(list(range(num_epochs)), a_progress, 'r-')\r\n",
        "plt.xlabel(r'num_epoch')\r\n",
        "plt.ylabel(r'a')\r\n",
        "plt.subplot(1,3,2)\r\n",
        "plt.plot(list(range(num_epochs)), b_progress, 'g-')\r\n",
        "plt.xlabel(r'num_epoch')\r\n",
        "plt.ylabel(r'b')\r\n",
        "plt.subplot(1,3,3)\r\n",
        "plt.plot(list(range(num_epochs)), L_progress, 'y-')\r\n",
        "plt.xlabel(r'num_epoch')\r\n",
        "plt.ylabel(r'loss')"
      ],
      "execution_count": null,
      "outputs": [
        {
          "output_type": "execute_result",
          "data": {
            "text/plain": [
              "Text(0, 0.5, 'loss')"
            ]
          },
          "metadata": {
            "tags": []
          },
          "execution_count": 69
        },
        {
          "output_type": "display_data",
          "data": {
            "image/png": "[encoded data removed]",
            "text/plain": [
              "<Figure size 2000x400 with 3 Axes>"
            ]
          },
          "metadata": {
            "tags": [],
            "needs_background": "light"
          }
        }
      ]
    },
    {
      "cell_type": "markdown",
      "metadata": {
        "id": "dMaUkikKMWGN"
      },
      "source": [
        "# 4. 模型建立和训练  \r\n",
        "这里我们使用tf.keras构建模型  \r\n",
        "![Tensorflow模型.png](data:image/png;base64,iVBORw0KGgoAAAANSUhEUgAABCUAAAH/CAYAAABglWd8AAANj3RFWHRteGZpbGUAJTNDbXhmaWxlJTIwaG9zdCUzRCUyMmFwcC5kaWFncmFtcy5uZXQlMjIlMjBtb2RpZmllZCUzRCUyMjIwMjAtMTItMjFUMDMlM0EzMyUzQTEyLjg4MFolMjIlMjBhZ2VudCUzRCUyMjUuMCUyMChXaW5kb3dzJTIwTlQlMjAxMC4wJTNCJTIwV2luNjQlM0IlMjB4NjQpJTIwQXBwbGVXZWJLaXQlMkY1MzcuMzYlMjAoS0hUTUwlMkMlMjBsaWtlJTIwR2Vja28pJTIwQ2hyb21lJTJGODcuMC40MjgwLjg4JTIwU2FmYXJpJTJGNTM3LjM2JTIyJTIwZXRhZyUzRCUyMkhEbDBTdEw0UTh3THlGTnJFektwJTIyJTIwdmVyc2lvbiUzRCUyMjE0LjEuMSUyMiUyMHR5cGUlM0QlMjJkZXZpY2UlMjIlM0UlM0NkaWFncmFtJTIwaWQlM0QlMjJYQlNsWW1EWXV6azVqd25RTFZwZyUyMiUyMG5hbWUlM0QlMjJQYWdlLTElMjIlM0U1Vnh0azVzMkVQNDFta2slMkI5SVozeEVld2NmSWg3YVJ6N1RUcGx4dk95RFlOdGx5TTQ3diUyQiUyQmtwQ0dGdnNIY1RIaSUyQnZPM015QkVBSSUyRnoycDN0YnNDbVpQMTA0Y3MycTUlMkJwakZKa2FIRlQ4aWNJc1BRTlJPemY3emx1V2l4c1ZZMExMTWtscDJxaHZ2a0gxTGVLVnYzU1V4Mlp4MXpTdE04Mlo0M3p1bG1RJTJCYjVXVnVVWmZSdzNtMUIwJTJGT25icU1scVRYY3o2TzAzdnBIRXVlcm9oVWJidFglMkJrU1RMVmZsazNmR0tLJTJCdW83Q3glMkZ5VzRWeGZSdzBtU0d5SnhrbE9iRjBmcHBRbElPWG9sTGNkJTJGc2hhdkhGOHZJSm05elEySjhtUDM5NnpwN0lJZGYlMkZuUWZQdTFYdnpzJTJGeVZHJTJCUiUyQmxlJTJGbUQ1c3ZsemlVQkc5NXVZOEVFMFpBYUhWWktUJTJCMjAwNTFjUGpIUFd0c3JYS1R2VDJhRWNqbVE1ZVhyeFBmWGpyMmRpUSUyQmlhNU5rejZ5SnZzQ1ZlVW1CMFU1NGZLdmgxelpHTnF4UHM3VkptSXNuNThqaDJCUXM3a01qOEFFb09ib2FKMGJ2bGglMkZNb2k1dHhpdEprdWVHOUdTZ2tZdzI3UXZJTmp2RWlUYllmdXdQVTFSVkV2VHFpaGdzQWFsbDlBV3E3JTJGMlZBTGQyNk5rQ05HcDYlMkZrYzJPWm91VXFaelFSVDVHT0VDaGpRSWY0ZG5iNXZpQ2J2SjdlYSUyRmVBWnkyb2NpbkJjeDRBNERUN0F0TnMxazZHekFxaFhmOXRPUjI4ZTR4MmlYenU1ak85MnVPU2dlVFdzRU1qeTZDVmgyMDBPR0M1JTJCdGM4THhRU0tDTEFoMEZRaFQ5RUhrJTJCQ2kwVWVBaDc3OFMxQVBrdXZ3MTdLSmpsaTd0dkpJdDJkMnZ1VnJ5dmNjRFF5eFhZODR4JTJCSXhPYVVxWUNwaHU2SVZ4ZWt6UlZtbXJhZ25PUk1LdnZ5d3ZySkk3NVk4QzVjRDVidXA0T3VuWk9yYUVCMHdFRDFCcTlhZXZyY3hLd2dwRU5pTDhOWU9UMTVpSmNQVWFtYmJmRFNDODdkZzRTWVBWRFpwaVllZkxyQ29HckFjJTJGaHglMkJ3Z01KRm52dzNST05xdFJOOSUyQjREMWFzU1o0Y1YlMkZvQWs0cWg1RHBYUXVGREZFTiUyQlpyUXhCN1R5dThlSHBKTmtqODhvSENHZ2duQ0UzNEpZJTJCUk5CUld1OUJkWU95TUJVT1JDUjdNeDJjamVSQnk0bkQzJTJCTEp2cmVHeGNxOEx1V2hCcUN0c0JKRUVmVW1GN2dDUklVdlRSMVpLbnFDWEF2RUdydTk2Y3ZaSVpDSzN4bGJqdVhodGNRTWlnaE1zY0hTNDFlakElMkJYUFdWR2FSTk1RbzBoRTJoUkMydW5wbHFTOSUyQnglMkI5NmY2R2VITDkzWUglMkI4OTR6ZndBMll6VGFHb21kSzJoY0szeFNYV2Vjb3RLbGZtN05nUWRuWEtyeGEyZ0Z0YU1RNHp2JTJGdzlOS0c2WGFINXAwZEdoWDNXcEhYZ3ozS2xtVkNmem54M3Z3JTJCRm41SkZmdDNxM25RQXYwb0RaS3kzbFpjT3JGZHJvdkdhNHRjdmlLOTBid2tzdlQ1WElRZXF2N2tLTFdGVkhGOHpDVmVDSSUyQkIlMkZESXFqMlNLcVRPSWxLVmZOTk10WGRFazNVUnBXcmNvc3J2cDhvblFyd2Z5TDVQbXp6QmxFJTJCNXhDNW9RJTJGNkhWYzJYdlJmVFlucjBtR25PSjVsQzFKJTJGbHBIRERPVmtUVEtrJTJCJTJGbmI5SzlBQU1yOVk0Y3Z6N2tWbmV1VFFFQXElMkZpT1hNRkI4QnQ3NHV2UUFyOGIzN0FQJTJGQXlqV2Y0c0FEJTJGY0czN1FFbDcxc3E3UCUyRnFpaEVNdXNlMFFRanYzSkliQUFyaG1nVGV6eiUyRkRESElvMTJ1MlIlMkJEaFQ3N2RuekZ5bWM0dVFyUDdtenk5UHAwJTJCbkY2Yk04YTI5MW1vMkpEY1BlTUwzTHR0WTJSejdoTTAxNGF1S29YU3lGVlVNSlhCVldVOTVWTVZZZlNGM3h1OHBBQlJDMWdRVDF4NSUyRjlodHpZaU5KQW5wTDhTemtHT3o2NWk1MVZOJTJGR1RINWVnWnIlMkZGYWl0cXpxaWlwcXphTFU4Wm9yV291UTBEOVN4cXBVWjdpNmkxcFg4c3NneTlJNzF3MVA4dkRkUTNXVUJvNXViSlVuWHZ4V1FOck1RdEtPd0l4ZEg4RVBsVG1VdkdkYWZ6UjkyajA5QVVNc3pGWW1ITTU3VTRGcnNTTzQlMkJPN1hSVVlLTG9Rd09xaUlCU3dQMGw5NEc1d3NHZXlWdyUyQm5vazBVUTMlMkJlanp5SmdneGdaWEN3SVJBTVQlMkJQcnhDd0tLRHdOUlM0b3NYa2s2UUkydUwlMkZFMFZBUmN6QUZFSGhSQkdFRDJiSFFEOFVzWWNvVWhUZFRWQmtqYSUyRldvSUFaSTBSb3RpSXI0anR5Q1I2RUo2a1BoN01YT0pJOVQlMkJURHZhbWd5T0trQlU2Tm9ySWtMRnZSOWVOJTJCeHpNVGRQOG95NGJNWUV1eWhQMG96azdaNVhQVk5NYXkzaW9URzJXRkExU0lCUGt1Ym05MFFmRTVpMDhuV2JVdzVkUUJib0V3VU5pb0p0dE56Qjk3ZkJYWG9vNjNLeGU2eFhMWGFodFpLZHlac1p4eVMlMkZXbFZYN2FPdVdXV3VLbGxyZjE3WlMzcUl0dmpLeklDRWtWRmZsNmNxWDNDRW5wMkRhTGpEbW15TmpxaWtCbHVxM0lxQU9aYWhGUzN5TFRRVEN1UyUyRnJOdHZSYm85SmZpbW1wTWJTdTZCOVlZNVNQdnhiNjI4WkhyVkZEOFNwcmxwbzV1WlQlMkJvMGN4RlAxdEtnTUdwTDl0V3Q4YU5UeGVZNjByNVYlMkZiTWRjMyUyRlVZTCUyQms4S1EwajZTQSUyQm5OU0dpZ1YxWTBTejVoMjd5S0JVWmwzWWV4a2c1bUhGVmg2TXJpN2lMVlllU0RqU2RkckxEcUltZVQ3cHRlWWZkS3klMkJzMXRWTFUxZUpZakZpdDRJSlJkTXVpQzVmUjRGNzF6dVMxR1dHN3RYeiUyQjhOdTBMUGh6V1pGM09ZNlNlbUFoNXI2QmlwUG9UcUwlMkZqYUd3ZlZTUmRUc1ptbHc5QmVzNkdnMFFHVkR4WGFxVU1USHdvYk5QQ3BWYjQ2R0VlZUZhSmpyUFdvZDBlQXF1WDR3U1FaWjF2NTJ0VVA3YnJBSSUyQkUlMkZQU3ZTSEQwJTJCT1FZaXBBMlppVUVKS0Y2V1JrTUF1N2Z0TTdKRG9QeVUyQ2lIQWR3b0dKdVNGelVPYVNFMjI0QUhjOFZLZlRrMDdWVzZEVDZqZWQyQSUyQmdRVWRKMlRHMDJNRjZtRDZzazRJUDlENFJpZmV4eEFiamx5eEtVbklCUnNrTUYlMkI5NjdoSlNzZ08zOHBrOFpaQ2RocjklMkJFTFFNSlliWnIzSmJRaUlEWDA3WjlDTW5kUGlVeG9EQm54S1Q2a3g0Rk9ZOHJFVzdWaU45cXY4dEYyMGUlMkJyVzVJR2olMkZRNndUaHVUZnE4bCUyRllWaUhZJTJGJTJCODVqTnhja2VkU0J6NEFwTHA4V1hRd2FrdnpTWHpmU1BXck9wc21hcFVkcEw2YTlsamZxbXY4VkhVWWFrdjIxMVFPSFZqRVolMkZtVlYlMkZhN1MlMkZScjlxUmZxbUh5b09jVkllQkhwa0IwdCUyQkFIOVpSRjBHcUx2ankySFlhMVVqcVpKMU0lMkZFbVY5ayUyRkEzNFFxcVB2aTdEVDZvdVVoU0JVMyUyRlUwdzM4QiUzQyUyRmRpYWdyYW0lM0UlM0MlMkZteGZpbGUlM0XyVZegAAAgAElEQVR4XuydC7QVxZX+t/+4dFCMEQQ1GER8gJrIxPFBAsaIw1VhIlmgoAK+YAYjBAcBUXkKIiog0YBKFF+AAYxENCJgRB3BoCKROFGI6CCKDx4magQ1j/tfX2kd6vTtc7r7dJ0+1d1fr+WSe089f7tuddV3du3aTUTqhQ8JkAAJkAAJkAAJkAAJkAAJkAAJkAAJJExgN4gS9fXUJRLmzupIgARIgARIgARIgARIgARIgARIINcEdtttN6EokeshwM6TAAmQAAmQAAmQAAmQAAmQAAmQQG0IUJSoDXfWSgIkQAIkQAIkQAIkQAIkQAIkQAK5J0BRIvdDgABIgARIgARIgARIgARIgARIgARIoDYEKErUhjtrJQESIAESIAESIAESIAESIAESIIHcE6AokfshQAAkQAIkQAIkQAIkQAIkQAIkQAIkUBsCFCVqw521kgAJkAAJkAAJkAAJkAAJkAAJkEDuCVCUyP0QIAASIAESIAESIAESIAESIAESIAESqA0BihK14c5aSYAESIAESIAESIAESIAESIAESCD3BChK5H4IEAAJkAAJkIBtAni58sk2gfr6+mx3kL0jARIgARIggYQIUJRICDSrIQESIAESyA8BvFy5ac2uvWnf7NqWPSMBEiABEkieAEWJ5JmzRhIgARIggYwT4KY12wamfbNtX/aOBEiABEggWQIUJZLlzdpIgARIgARyQICb1mwbmfbNtn3ZOxIgARIggWQJUJRIljdrIwESIAESyAEBblqzbWTaN9v2Ze9IgARIgASSJUBRIlnerI0ESIAESCAHBLhpzbaRad9s25e9IwESIAESSJYARYlkebM2EiABEiCBHBDgpjXbRqZ9s21f9o4ESIAESCBZAhQlkuXN2kiABEiABHJAgJvWbBuZ9s22fdk7EiABEiCBZAlQlEiWN2sjARIgARLIAQFuWrNtZNo32/Zl70iABEiABJIlQFEiWd6sjQRIgARIIAcEuGnNtpFp32zbl70jARIgARJIlgBFiWR5szYSIAESIIEcEOCm1Y6RJ0yYICtXrpTTTz9drrjiigaFjh8/XkaPHt3g98jTsWNHGTBggEybNk0aNWpkp0FflUL7WsXJwkiABEiABHJOgKJEzgcAu08CJEACJGCfQNxNq95U+7Vszpw50rt3b/uNjlDi+vXrpVevXrJ27Vq18W/evLm88MILMnfuXGnatGmEkhomNctu166dzJ8/X1avXi2TJ09W/27Tpo3s3LlThgwZIi1atFCiRDleZg26PJQR54lr3zh1My8JkAAJkAAJZI0ARYmsWZT9IQESIAESqDkBW5tWvfneuHGjlQ2/LTAQH/r06SMrVqyQDh06iPZosCFK6DaizM2bNytPh4ULFwaKEgMHDiyIFrb6WaocW/atdjtZPgmQAAmQAAmkgQBFiTRYiW0kARIgARJIFQFbm9ZSooTpGYCjDVoM8B538HoGaDEBMM18+LnUZ9pzoa6uTpYtWyatWrWSRYsWFewBz40333xTeSvodmzfvl15cyxdulSl094d+Fx7PLRs2VJ5O6xatUqJCfrn999/v6h89AF1I5/30cc3UDdEiRkzZiiBRNfrTW/Ly8SWfVM1qNlYEiABEiABEqgSAYoSVQLLYkmABEiABPJLwNam1U+U0CLB8OHDpXv37mpjjwceBVOmTJExY8YoD4a2bdsqYQCeDDjiYOY744wzij7zEwt0mZs2bVJHNdq3b1+Iz1DOUwL5zHq1gII27b///qostF23AQKC2d6+ffvK8ccf36DOcqNJixKmuIFy0HctkEDs0Mc/4o5MW/aN2w7mJwESIAESIIEsEKAokQUrsg8kQAIkQAJOEbC1afUTJUwBAbER8PPs2bPV/2+77TZ56KGHijwPvOIC4kCYHgO6Dp0OQSFLCQk6lkU5UWLdunUqyKQ+2mGWf/3118s111yjYkH07NmzEJcCHg+dOnVS3g46hgSOh+DBZ3ggtngf7e2BOnVepIHwceCBBzZgEjeWhK7fln2dGrRsDAmQAAmQAAnUiABFiRqBZ7UkQAIkQALZJWBr0+onSuB4gneDro9pLFiwoHCMYq+99iryooDY4M0LccLrNQGrxBEllixZ4hv/QYse8ObQN2rASwLCArw4vv71r8sf/vAH+fnPf6769+GHH6rjIni0iKK9PXBMA14Q+jE9JSA8eI+PaIHE1oizZV9b7WE5JEACJEACJJBmAhQl0mw9tp0ESIAESMBJArY2rWE8JUwAZsBJP1HC3MTDmwFixn333Se33367+khfnxlHlCjnKYHy16xZo7waDjjgAOVRAQ8J/B8PvCLgQTFr1iz188cff1wIdKk9J8z+6pgS2luk1NWhOg9v33Dyz4WNIgESIAESyDkBihI5HwDsPgmQAAmQgH0C1RQlgmJK6ICTXlECYoB5rMIUMEzvBh1wUosUOqYE4kCEOb6BfKViSpgxHuAlYXpq6NgSxx13nPKcePTRRwu3b8DLA08pTwnzpg6dVntL6Jgafmkqtbwt+1ZaP/ORAAmQAAmQQJYIUJTIkjXZFxIgARIgAScI2Nq0Vnr7BjwH/DwlzBs2AMo81mB+NmDAgILXhCmChBElmjZtGnh8AgKBN/aFvoVDx33wExH8RAn9ux49eqiAnvoxRQkdv8IUVuIMFFv2jdMG5iUBEiABEiCBrBCgKJEVS7IfJEACJEACzhDgpjW+KbQoAbEBV4KWeiCsLF++XB0DgVeEFikQ0NMrvMRv1Zcl0L62SLIcEiABEiABEvjyvbqbiNTX19eTBwmQAAmQAAmQgAUC3LRagOhwEbSvw8Zh00iABEiABFJHgKJE6kzGBpMACZAACbhOgJtW1y0Ur320bzx+zE0CJEACJEACJgGKEhwPJEACJEACJGCZADetloE6Vhzt65hB2BwSIAESIIFUE6AokWrzsfEkQAIkQAIuEuCm1UWr2GsT7WuPJUsiARIgARIgAYoSHAMkQAIkQAIkYJkAN62WgTpWHO3rmEHYHBIgARIggVQToCiRavOx8SRAAiRAAi4S4KbVRavYaxPta48lSyIBEiABEiABihIcAyRAAiRAAiRgmQA3rZaBOlYc7euYQdgcEiABEiCBVBOgKJFq87HxJEACJEACLhLgptVFq9hrE+1rjyVLIgESIAESIAGKEhwDJEACJEACJGCZADetloE6Vhzt65hB2BwSIAESIIFUE6AokWrzsfEkQAIkQAIuEsDLlU+2CdTX12e7g+wdCZAACZAACSREgKJEQqBZDQmQAAmQAAmQAAmQAAmQAAmQAAmQQDEBihIcESRAAiRAAiRAAiRAAiRAAiRAAiRAAjUhQFGiJthZKQmQAAmQAAmQAAmQAAmQAAmQAAmQAEUJjgESIAESIAESIAESIAESIAESIAESIIGaEKAoURPsrJQESIAESIAESIAESIAESIAESIAESICiBMcACZAACZAACZAACZAACZAACZAACZBATQhQlKgJdlZKAiRAAiRAAiRAAiRAAiRAAiRAAiRAUYJjgARIgARIgARIgARIgARIgARIgARIoCYEKErUBDsrJQESIAESIAESIAESIAESIAESIAESqIooceqpp8rTTz9NuiRAAo4QOPLII6Vfv35y5ZVXOtIiNoMESIAESIAESIAESIAESIAERKoiSqDQ+vp68iUBEnCEQKtWreSTTz6R7du3O9IiNoMESIAESIAESIAESIAESIAEKEpwDJBALgjAQ+JXv/qVnHjiiTJv3rxc9JmdJAESIAESIAESIAESIAEScJ8APSXctxFbSAKxCcyaNUseeeQRWbJkiaxZs0aOOeaY2GWyABIgARIgARIgARIgARIgARKIS4CiRFyCzE8CKSDw5JNPysSJE6V9+/by6KOPyiuvvJKCVrOJJEACJEACJEACJEACJEACWSdAUSLrFmb/SEBEXnvtNenevbv6/yGHHCL/9V//JSNHjiQbEiABEiABEiABEiABEiABEqgpAYoSNcXPykkgGQJbt26Vo48+WvD/hx9+WPr37y/btm1LpnLWQgIkQAIkQAIkQAIkQAIkQAIlCFCU4NAggRwQ+Pzzz2XfffeVzz77TPW2Z8+e6jaOxx9/PAe9ZxdJgARIgARIgARIgARIgARcJUBRwlXLsF0kYJmAeVXvO++8I4cddpj85je/kc6dO1uuicWRAAmQAAmQAAmQAAmQAAmQQDgCFCXCcWIqEkg9gf/3//6f/OMf/xD80eO55ZZb5Oc//7ls2LAh9X1jB0iABEiABEiABEiABEiABNJJgKJEOu3GVpNAJAJ/+9vfZO+995YvvviiKN8JJ5wgHTp0kJ/97GeRymPi2hE49dRT5emnn65dA1gzCZBA1Qn88Ic/lOHDh0uXLl2qXpfNCjg/2aTJskjATQKYn4YNGyZdu3Z1s4FsVSoJUJRIpdnYaBKIRuDDDz+Uww8/XPB/83nuueekrq5ONm3aJE2aNIlWKFPXhIB5DKcmDWClJEACVSfw2GOPyY9+9CN1hXOaFv6cn6o+NFgBCdScAOan//iP/1BHgNM0P9UcHBtQlgBFCQ4QEsgBgddff11944b/e5/BgwfLSy+9JCtXrswBifR3kYv+9NuQPSCBMATSKExwfgpjWaYhgfQToDCRfhu61gOKEq5ZhO0hgSoQ+J//+R8ZNWqU4P/eB0c6Dj74YJk8ebJceOGFVaidRdokwEW/TZosiwTcJpA2YYLzk9vjia0jAZsEKEzYpMmyKEpwDJBADgjcf//98sQTT8js2bN9eztv3jwZOnSobN68OQc00t1FLvrTbT+2ngSiEkiTMMH5Kap1mZ4E0k2AwkS67edS6ylKuGQNtoUEqkQAXhJ77LGHjBkzpmQNOB+43377lRQuqtQ0FhuRABf9EYExOQlkgEBahAnOTxkYbOwCCUQkQGEiIjAm9yVAUYIDgwRyQODHP/6x9O3bV3r06FGyt4g30aZNG3n11Velbdu2OaCSzi5y0Z9Ou7HVJBCXQBoW/pyf4lqZ+UkgnQTSMD+lk2x+Wk1RIj+2Zk9zTOBb3/qWPPPMM9K6deuyFCZNmiQ4yrF27doc03K761z0u20fto4EqknA9YU/56dqWp9lk4DbBFyfn9ymx9ZRlOAYIIGME3jjjTcEd0q//fbboXp61FFHyUUXXSQjRowIlZ6JkiXARX+yvFkbCbhGwOWFP+cn10YL20MCyRJweX5KlgRri0qAokRUYkxPAikjcPfdd8uTTz4pc+fODdVypD377LPl3XfflUaNGoXKw0TJEeCiPznWrIkEXCXg6sKf85OrI4btIoHkCLg6PyVHgDVVQoCiRCXUmIcEUkTgvPPOk86dO8sll1wSutX9+/eX999/X37zm9+EzsOEyRDgoj8ZzqyFBFwn4OLCn/OT66OG7SOBZAi4OD8l03PWUikBihKVkmM+EkgJga9//euyfv16Oeigg0K3+KOPPpJDDjlEHn74YXX0g487BLjod8cWbAkJ1JqAawt/zk+1HhGsnwTcIeDa/OQOGbbEjwBFCY4LEsgwgV//+tcyY8YM+e1vfxu5l/fcc49MnDhRNmzYEDkvM1SPABf91WPLkkkgjQRcWvhzfkrjCGKbSaB6BFyan6rXS5ZsgwBFCRsUWQYJOErg3HPPlVNPPVUGDBhQUQuR97jjjpOpU6dWlJ+Z7BPgot8+U5ZIAmkn4MrCn/NT2kcS208C9gm4Mj/Z7xlLtEkgV6LE9u3bpXfv3jJ69Gi10RoyZIicfPLJ6nd8SCBrBD744APBVaAY9/vss09F3XvllVfk3/7t3+T1119Xxzn41J4AF/21t0HYFqxcuVImTJiggsxu27ZNBg8eLLfeequ0adMmbBFMRwKhCbiw8Of8FNpcNUnIOakm2FmpiLgwP9EQbhPItChhihDLly+XMWPG+FqjXbt2MnPmTBk7dqwsXbq0KA0+u+yyy2ThwoVqMYlFZd++fZWQsXPnTiVstGjRQgkdWHhOnjxZ5s+fLy1btiwreui8q1atUumDFqm6Lx06dFB1hXnM9rVu3brQNtSFhfLmzZtl2rRphRsWEHegV69esnbt2pLFr1ixQtAGPu4TuP766+Wtt95SYzvOg/H29NNPy7PPPhunGOa1RICLfksgq1CMXvDrd4X3faKrhOdSz5495bTTTmvQCnyGODAQEjt16iQDBw4seqfg/YM5GHXpz/T7Q8/hOLKFNPq9od9ZqMx8TwW9d6qAiEVWmUCtF/6cn6ps4IjFV3NOQlNmzZol1157bcmbusx1+P77719SmNXzGdbba9asUWvTHTt2FL5I3Lhxo/Tp06fs2lR/2Ri05sG6Psy6OyJqJg9BoNbzU4gmMkkNCeRGlDAXaKU8JcwFXKtWrQoLPnzDhU28nyixadMmufzyy9UCUG/8sSBEejxDhw6Vjh07FibXUotUcwyMHz9eCQ96gTl8+HA1MWMxiUkZwkDbtm3V79BOU1jQ9Zr50R5zQp8zZ468+eabSpTo0aOHcs1H2U2bNm0wFPGiQPuxUDbrQUKIHlOmTFGiDfLqtPhM90EXqD/LqqgRVjTSQhG4gCfELmz2vWxtzAkQxhBTAp4OcR+M7euuu07OP//8uEUxf0wCXPTHBFjF7Oa3kHpOLOcpYQoLCxYsKAjFmFfxmKIEfoZojAcLaryXIErce++9cscdd6jfX3rppXLRRRepODJ4J+l3BhbpWOiXWqxndV6uoqmdLrqWC3/OT24NjSTmpKOOOkp1et68eYXOYw2Ip3HjxurLPqxJIUpgDmvfvn2DNY+eC6+88kq5//77VfpmzZrJzTffrNavp59+uioHc9q6desK63M9L2LO06KEXl/hSnPMvyhbr3EpytZ+fNZyfqp979mCcgQyK0qYG2QAwMZ+2bJlvl4AegMdRZQ444wzlCgQVmTAxh3py3k6eDe2+mctPGjVGGXgWzZM7hAVtOeE91sy0xsCm194cWivD5T5f//3fwIXfy16eAcKJu/Zs2eXFCy8kz1+fuihh3wVaIoSX9L1ihIQtWBHvYmwNV3p4JYQJWw8uBoU14S+9957gkmDT+0IcNFfO/blasb8p73x8E1cXV2dmnP9Hi0CRBEl4NWAd8KgQYPU9b577bVXWVFCC9fmO8f7jnCTJFtlg0CtFv6cn2xYz04ZScxJmFPgZQyhwPwCDV98eUUJLZTiixh4g5WaH5HP+8WWXo9i7WqKq/j3bbfdptZQFCXsjJskSqnV/JRE31hH5QQyK0oAifktv/cbJHODiOMX+EYKHgF+DyZHlOX1lNBp9UbTnCi9E2qlJiq10Te9JvRxClMkwLdo2Oxi0odQgLaZLmve4xumiKO9IiBkaFFiyZIlyrsCnPC7k046SS2M8aBceHDghaQf7zdvpijhVcu12KIFHp1XL6CxuIegpNV1fIuoF/9Qz7UC7j1+4vftnxZ6jj32WPn4448VF5Txk5/8RH784x+r5sOTRMcZ0el128zPzPrADGq+uQHQNkKZmin+jSM/eOAd4f0Zyr6N59BDD1XfNiBmiq3nvPPOkz322EPuu+8+W0WynAoIcNFfAbSEsuhNAOYJPF5R1xQFSh0pxHyEhbd+L3mPaOiuaEGjlKcE5iPM/9pz7xvf+IYSjM2HHhIJDYwaVVOLhT/npxoZu0S11ZyTVq9erWrt3r27WtdAaHj77bflxBNPlL/+9a/qM9NTotzRX+8XV+a6GvMU5jM9nwZ5SvD4hltjsFRrajE/pYNMfluZaVHCVIm1muoXL0ELCKZbl3aN1W6yfsc3MGz0IhMeC2bcBrjiYuPsPYpRLl6DHobmUQk9UZsih9eDAhtZb3wLU2TQ39phY3/AAQeoDb75mGVrscJUsb3f+j388MPqW0CIA6ZbXBhPCdQNkQQvGPDGt33mJl17dOjFs9fVD/XhxYQNvfYyAPthw4YVleNtm+6vZoeftRugeTwF+bS3B8QT07vFfGlqRV73Ay9JlKNZmmnNbyy97YTtgjxSok5PkyZNEgSofOCBB6JmLZv+/fffl8MOO0zFlzjhhBOsls3CwhPgoj88qyRTmgImhAX8d8UVV/g2AYts77d6mHt0nB/v8Q0IgbfffrsSUfX7Accxyh3fMEUP5DnzzDPVN5oQjyF6YL6iKJHkCKlNXUkv/Dk/1cbOfrVWc07CGg1rMMwn+suvcqIEjmVgXYw5zO9LOz8vLjMehRZZvWtY7QVNTwl3xl2UliQ9P0VpG9MmTyCzooT3G26N1lyEmRt572ZRL/jMYDjm8Q6tDOtNKc4Pe8+q6fJL3fAR5kiDVy2G0uy3+feLaWD+zhRMILj4xYnwC9xpKtPeRWwlxzdgB9Njwxs3w3wxaY8Kv+MlpuCEF5y2n7lo9/M68HLyi9uhg5VqTnrMmEcv4Flx4YUXFtwVveX6scGGA8Enr7nmGjUcdRwJm2ccEdjyyCOPlJdffln0OU+b0wpe/GD8hz/8wWaxLCsCAS76I8BKMKn3yCCqNj258HO5+c0v+LB5vEMHT9ZzR5Ao4Q2GqeczPyQUJxIcKDWoCgt/CF1PPfVU1Wvn/FR1xKErqPachCNlWL/geCce3PZVzlNCC7HwAsOa1AxcaR7D0B4VXlHC7zhxuWPLjCkReqjUNGGS81NNO8rKAwlkVpQwJ2NMdnvvvbdSc0t5SuhNrRnZHJtwvYHWng/lovaG+cbbXHhiURnm2yo96R544IGFYwbmMQJzsWvGmDDbg+MX6D+iJOPbMs3B7/iDeeRDjyAEG8IRBjOKe6WiBMr0ehR4Ryr6d/zxx6sjKKYooY9EIL83Tof3BewXnDOKKAHXRC1Q4OUbVpQwBRKzX2CNSNU6GKkpSugApnFvNkEgSogS48aNC/zjrzQBju6cc845SgjikzwBLvqTZx6mRi2U4u8c8+SWLVvKekpAdMXf6fTp01WgYJ0f89aoUaNUDBfMuaWOfmmvslLHN7Soi7ne+94KI4iH6TPTpIdAUvNGUvWkh3ztWlrtOUl/8aPXRkHHN0xRArHQ/DxKzTWmXq9dcMEF8sYbb6j0Xg80v5gSPL5RuzFXac2cNyoll618mRYlXnjhhULUX3Oz5/eNlJ9Zy32DHeb6TF2m3vjjZ7/jAN66/b61MuMT+Lm+lQqSiUWt9/gFfoYLHB4EuoTYgfIhXJhKtFdk8XKrRJTQN3/oIxJog1d40Dy8XgzeIJFm4E/zmlTTS8Yr3kQRJcJ4SmgRKMhTQvfJ2wd9fMMUPyqdYhBD4pZbbpGXXnqp0iJC5cPfFWKLIMZI8+bNQ+VhInsE+PK2x9JmSRAZIX5DLDBvM/K7ltOvXr+5wUynP0eAYszheOCxdNddd6mbcfCYsZPws9cjTs/hmLdwBA9z7zHHHBP6mmmbvFhWsgSSmjeSqidZeumsrdpzEqhgTnn11VcVoPr6ekHsGogPWFviMWNKhBUlkA/BMLGu69evnzpuhnkPsbJ02fpLKXgtM9BlOsen2WrOG+m3oY0eZFaUeOedd9SVaVdddZWa2EoFFQNELRpgU17uHmSkLeUpoUUDLPJw5MNPWPBerxnWU0JP/Dq4I372egGUutVBB4fU36pBjEA54KGvBMU3eqZXgj5vbA4wMAJHnGHWngvlRAk/V2PtFaK/wfOLBeEXU8L0lDDr1PYq5zUBO5jHQPStKTogZbnjG2mKKQGBAC/rRx991Gpwy1KTDM7K/+lPfyq4bdqYjFhGOAJ8eYfjlHQqHJnaunWrumJZB0UudTuT98hZubZ6PSXwLaA+R+2dQ/0COuuyzblOz/EoB54UaC+8wfhkl0BS80ZS9WTXUvZ6ltSchOMYWB9ifYY1F9bJ8MrFkSE/UQI9RB6sTyGO4sFchODj+mgHRAl9TBYCBNbLQcc+/G4c8q5TbR6XtWcplsR5g2MABDIrSqBz5nk0bELNjTs2cN5vtLxDIszk5fetvHnEQH+Db37LBQUZi0l940e587y6LO/NGVqgMD0BvJOvGY8CYgmCMeoYGV6vB9SDl4A+UgAWfsdRzDPO5hll9AFCh/aAKCdK6GuhtHeA3vyXun3DFCVMDxXt8QH13Ax8qY+meIOMopwoooS+gs+8+tW0lWn7Wt++gRc7xhNEuCSef/zjHwIb33nnndKlS5ckqmQdXxHgy9vdoYD5EXOr90Ygc1FtenWZPQnrKYF3h75RyRsw00+UML3stACvo9frox96U+EuWbYsLoGk5o2k6onLIy/5qzknmfEcdCBKzHVYD+n1l7kO154S3uMVZrB5fV0o1nf4smzx4sXqNg98qaVvNcKXMHoeNdsAm+p0+ga1KB69eRkTLvaT84aLVkm+TbkQJYYOHVq0iPMG0QH2wYMHS9euXUNZAJPlDTfcoDaA2AB7jwigEFMQwATds2dPuemmm4punCh17g0LR92ecjEszPOCWHhCJEA+fOtl3h6igxGV8gLxBmPzu8rS1lWVoQDnKJFXOKuk6//93/+tXCV/+ctfVpK94jwPPvig+nYDixE+yRHgyzs51lFr0hsA7VWmj8YhZgQe8zYl/Gx6v5Wry/SMw7sFtxjh6IZX4PC7clS/nzCvwysO4i/+824ETEE6ar+Z3n0CSc0bSdXjPnE3WljNOQnHN3GcEx4NiFWmv/TSder4D3od6/U+9RLS6yHc9GUGmce8hnhcOMqhPbq8N4voNbA3nRYlzGvf/Y5Au2Gt/LaC80Z+bW/2PNOiRB5NrIMolvo2Lo9MXO6zn4dKlPZiI4GrP/GN6Z577hklq5W0Z511llokwOuFTzIE+PJOhjNrIYEsEUhq3kiqnizZhn0hgbwT4LyR9xHwZf8pSnAckEBKCSCw5ciRI9WxmSOOOKImvUDwKdz28fvf/16+/e1v16QNeauUL++8WZz9JYH4BJKaN5KqJz4RlkACJOAKAc4brliitu2gKFFb/qydBCoigKMT+gKnwa0AACAASURBVMpABIuq5QMviYcffli5pvOpPgG+vKvPmDWQQNYIJDVvJFVP1uzD/pBAnglw3siz9Xf1naIExwEJpIzAvHnzlCDxm9/8Rn74wx860fp//dd/FcS2uOiii5xoT5YbwZd3lq3LvpFAdQgkNW8kVU91KLFUEiCBWhDgvFEL6u7VSVHCPZuwRSRQlgCu2EJE6h/84AfOkHrmmWcE94Uj6OU+++zjTLuy2BC+vLNoVfaJBKpLIKl5I6l6qkuLpZMACSRJgPNGkrTdrYuihLu2YctIoAEBRN2fOHGibNq0SQYNGqT+q0WASz/T4DrCHTt2CGJd8KkeAb68q8eWJZNAVgkkNW8kVU9W7cR+kUAeCXDeyKPVG/aZogTHAQmkkMDzzz8vP//5z5XHxE9/+lMlTjRr1qymPfn000+lVatWsmDBAjn11FNr2pYsV86Xd5aty76RQHUIJDVvJFVPdSixVBIggVoQ4LxRC+ru1UlRwj2bsEUkEJrAa6+9JtOnT5eZM2cqYQICxWGHHRY6v+2E8JK48cYb5Y9//KPtolneVwT48uZQIAESiEogqXkjqXqi9p/pSYAE3CXAecNd2yTZMooSSdJmXSRQJQKbN29W4gS8J3r27KnEie9+97tVqq18sXV1ddK5c2cZPnx4TerPeqV8eWfdwuwfCdgnkNS8kVQ99gmxRBIggVoR4LxRK/Ju1UtRwi17sDUkEIvAJ598osQJ/Pe9731PeU8kfUPHq6++Kscee6ysX7++pl4bsUA6nJkvb4eNw6aRgKMEkpo3kqrHUcxsFgmQQAUEOG9UAC2DWShKZNCo7BIJgMCMGTOUOPGtb31LiRNnnXVWYmDGjRsnL7zwgop5wccuAb687fJkaSSQBwJJzRtJ1ZMHm7GPJJAXApw38mLp8v2kKMFxQAIZJzBnzhx1rAMPjnX06dMnkR4fddRRAnGiV69eidSXl0r48s6LpdlPErBHIKl5I6l67JFhSSRAArUmwHmj1hZwo36KEm7Yga0ggaoTeOSRR5Q48c477yjPiYEDB1a1ziVLlki/fv3krbfekt13372qdeWpcL6882Rt9pUE7BBIat5Iqh47VFgKCZCACwQ4b7hghdq3gaJE7W3AFpBAogSefvppdazjd7/7XeHGjsaNG1elDX379pXmzZvL1KlTq1J+HgvlyzuPVmefSSAegaTmjaTqiUeDuUmABFwiwHnDJWvUri0UJWrHnjWTQE0JrFmzRokTDz74oBIn8F+LFi2stmnbtm0q2OXSpUulffv2VsvOa2F8eefV8uw3CVROIKl5I6l6KifBnCRAAq4R4LzhmkVq0x6KErXhzlpJwBkCb7zxhjrWAYFiwIABSpxAPAhbz8yZM+Xuu++W559/3laRuS6HL+9cm5+dJ4GKCCQ1byRVT0UQmIkESMBJApw3nDRL4o2iKJE4clZIAm4S2Lp1qxImIFB06dJFBcU86aSTrDT2Bz/4gfTs2VMJHnziEeDLOx4/5iaBPBJIat5Iqp482pB9JoGsEuC8kVXLRusXRYlovJiaBDJP4PPPPy+IE8cee6wSJzp37hyr3y+99JJAmHj99dflm9/8Zqyy8p6ZL++8jwD2nwSiE0hq3kiqnugEmIMESMBVApw3XLVMsu2iKJEsb9ZGAqkicOeddyqBYr/99lNeDmeffXbF7b/yyivl3XffFVxRyqdyAnx5V86OOUkgrwSSmjeSqievdmS/SSCLBDhvZNGq0ftEUSI6M+YggdwRmD9/vhInPv30UyVOXHLJJRUxOPTQQ+WWW26Rs846q6L8zCTClzdHAQmQQFQCSc0bSdUTtf9MTwIk4C4Bzhvu2ibJllGUSJI26yKBlBN4/PHHlTixbt06dawDAsXuu+8eule//vWvBR4TOMbBpzICfHlXxo25SCDPBJKaN5KqJ8+2ZN9JIGsEOG9kzaKV9YeiRGXcmIsEck3gueeeUwExf/vb3yphAgJFkyZNQjE555xz1O0e48ePD5WeiYoJ8OXNEUECJBCVQFLzRlL1RO0/05MACbhLgPOGu7ZJsmUUJZKkzbpIIGME/vd//1d5Ttxzzz0FcaJVq1Zle/n222/LkUceKatWrZJ27dpljEj1u8OXd/UZswYSyBqBpOaNpOrJmn3YHxLIMwHOG3m2/q6+U5TgOCABEohNYNOmTYUbO/r06aMEinKCw7Rp02Tx4sXyxBNPxK47bwXw5Z03i7O/JBCfQFLzRlL1xCfCEkiABFwhwHnDFUvUth0UJWrLn7WTQKYI/OUvf1HiBP475ZRTlDhx8skn+/bxxBNPlAEDBki/fv0yxaDanXHt5f3a472q3WWWTwKJEjjqzPmJ1pdEZUnNG0nVkwSzMHWsu2u3MMmYhgQiE2jbvz5ynrRmyNu8kVY7VbvdFCWqTZjlk0AOCdTX16uYExAnDjvsMCVOdO3atYjEihUrpFu3brJhwwZ15SifcARce3lDlDiq45XhGs9UJOA4gddW3CQUJSo3kmvzU+U9CZcTokTbrqvDJWYqEghJYN1jxwtFiZCwmCwzBChKZMaU7AgJuEngvvvuUwLFHnvsoQJinnfeeYWGQqz4xz/+IbfffrubjXewVa4t+ilKODhI2KSKCVCUqBidyuja/BSvN8G5KUoEM2KK6AQoSkRnxhzpJ0BRIv02ZA9IIBUEcB0oxIktW7Yoz4lLL71UPvvsMzniiCPk7rvvls6dO6eiH7VupGuLfooStR4RrN8mAYoS8Wi6Nj/F601wbooSwYyYIjoBihLRmTFH+glQlEi/DdkDEkgVgSeffFId63jppZfksssukwMOOEBuu+02efHFF1PVj1o11rVFP0WJWo0E1lsNAhQl4lF1bX6K15vg3BQlghkxRXQCFCWiM2OO9BOgKJF+G7IHJJBKAhAhevbsKdu3b5cWLVpI9+7dZeLEiansS5KNdm3RT1EiSeuzrmoToCgRj7Br81O83gTnpigRzIgpohOgKBGdGXOknwBFifTbkD0ggdQSqKurUzEmli9fLu+884489dRTqe1LUg13bdFPUSIpy7OeJAhQlIhH2bX5KV5vgnNTlAhmxBTRCVCUiM6MOdJPgKJE+m3IHpBAaglAlBg+fLiKJwGPiaZNm6a2L0k13LVFP0WJpCzPepIgQFEiHmXX5qd4vQnOTVEimBFTRCdAUSI6M+ZIPwGKEum3IXtAAqklYIoSqe1Ewg13bdFPUSLhAcDqqkqAokQ8vK7NT/F6E5ybokQwI6aIToCiRHRmzJF+AhQl0m9D9oAEUkuAokR007m26KcoEd2GzOEuAYoS8Wzj2vwUrzfBuSlKBDNiiugEKEpEZ8Yc6SdQU1EClfMhARLIPoH6+nrfTlKUiG571xb9FCWi25A53CVAUSKebVybn+L1Jjg3RYlgRkwRnQBFiejMmCP9BGouSpTarKQfLXtAAiQAAuUWqRQloo8R1xb9FCWi25A53CVAUSKebVybn+L1Jjg3RYlgRkwRnQBFiejMmCP9BChKpN+G7AEJOE2AooRd87i26KcoYde+LK22BChKxOPv2vwUrzfBuSlKBDNiiugEKEpEZ8Yc6SdAUSL9NmQPSMBpAhQl7JrHtUU/RQm79mVptSVAUSIef9fmp3i9Cc5NUSKYEVNEJ0BRIjoz5kg/AYoS6bche0ACThOgKGHXPK4t+ilK2LUvS6stAYoS8fi7Nj/F601wbooSwYyYIjoBihLRmTFH+glQlEi/DdkDEnCaAEUJu+ZxbdFPUWKXfde//pbMun+RXHvNAGnUaE/Z/uFHctudD8qwwX1l0zvvF322ctVa6VjXr8HgGHBJd+nR7TRZ9cIrKt+UW2fLZf95jkqny0LZqGvxspUyZOD5RWVMm/GAdKnrIG2OOER27vxcxl4/U/pd0E39jMfbRrujM/2lUZSIZ0PX5qd4vQnOnQVRYudnn8uQsVPl5JO+K727n1my0xOm3SWdOp4gHU5o55tm7sLHpdW3vln4HOVOuX22XHbROdJ0v31l2i8ekC6ndZA2h305F5nP+jfeklm/XCTXDhsgjf5lT9n+54/ktnsflGE/6SubNr9f9NnKF9dKx24+c2ff7tKj62my6qVXVD6z7mBLupWCooRb9mBrkiFAUSIZzqyFBHJLgKKEXdO7tuinKNFQlBgx5EIZOX6GzLx7oa/xITxMmzRUduz8TKWbOGagrPvTRln+zIsyekR/gWCBf5uiRNMm+xZ+jzSmKDF3weOqnt49zxRTlNBpLr2khwy5emrJ9qxYNks6tPffaNgdve6XRlEino1cm5/i9SY4dxpFiVKber/erlg0S4kMWmA49ugj5McXDy0kbXf0kTJ/5iQlNHhFCdSzfMWLMnpIf5U+jCgxYuCFMvKGGTJzdom5s293mXbtV3PnDTNk4lUDZd2GjYV6dJ0UJYLHrksp8jZvuMTepbZQlHDJGmwLCWSQAEUJu0Z17eVNUUKUR4J304+NftsjW5X0lMCogCdFFFFCLey/8oTAv7WnhJ8o0fLgAwteFhA8Nm56V8749+8XeVvYHZnZKI2iRDw7ujY/xetNcO60ihIb3363rFcEem6KDPBkWPzkShnyX+cXeTHAq0F7UKBM01PCK0J4f0a+Die2kwWPPFEkQkAIaXt4q5KeEmru/PNHSrygKBE8RtOQIm/zRhpsUos2UpSoBXXWSQI5IkBRwq6xXXt5U5TYZV+IA88+93vlBbFm7Trf4xmnn/Y9mTVjtEy46a6SngvjR16qCvV6SpgjKchTYtv2v6jkx7VrK8uWr5K/frpD+vQfXSgC7Zg76zqBBwafXQQoSsQbDa7NT/F6E5w7zaLE8e2OlsGjJsut1w33PVJhihIQEFof0kIJGaanxfjhX85VONZhihLe4xhIo0WJli0OVMdFWhzYvOBFgbqeff73ygtizSvrfI9nnP7D78msqaNlws/uKulJodtDT4ngsetSirzNGy6xd6ktFCVcsgbbQgIZJEBRwq5RXXt5U5TYZd8JN94lYybeIRAVOp1yQklRQosBZnwHiBiljm9c0vesgogx564J6phGkCixYOETqi3tvnOkzL93koopob0sTC8KihLFf58UJeLNV67NT/F6E5w7jaKE2SsznoT+vTeuBLwSeg8cJX3P7iLdu3SSsVNmSr/zusm2D/+ihIg339pcJEoc9522SnRQQsS1Q1WMCC1KnPjdY5RnBcoy68Hvxky+QyAqQODwixkBUWLujOtUfApT9ICIoY+J8PhG8Jh1MUXe5g0XbeBCmyhKuGAFtoEEMkyAooRd47r28qYo8aV9IRIgqCQ2/Ie3Plg+2PKhtD60hRIQ9INjHjpwJcQAiBg6jY4jgXgRpdKbxzSCRAmIEDgeslejf1FBN00BBOWb7bA7QtNdGkWJePZzbX6K15vg3GkVJbB5H3j1jYV4EOipNyaE7j1+D+EBnhJ4tEfDwsXL1XENCAKmpwSECqSBJwQ8FrQooYUHHadClw+BYezkr+bOVgfLB1s/LHhlFOZCT9BMr+eGGbsCebxBNoMt6VYKBrp0yx5sTTIEKEokw5m1kEBuCVCUsGt61xb9FCW+tC8EhgOaN5ENb76jbt8od3wDnhJmYEvkN0UJiAm9+42SpU/+TnRQTAgLpihhpveLKbF/028UyoC3xGX9z5YBl1/vOxgZ6HIXFooS8eYr1+aneL0Jzp1WUUJv3M1bN0rdrrFo6TNK3Py/TZuVYIBgl48vXyltDmslF5zTVcV+MEWJV//0ppzyvX+T+YuWKVECAX3hafH+lu1FIoimi3oPaNZENmx8R92+Ue74BjwlzMCWau40Ampqr46lT/9OBnwVFFOLIsHWdCcFRQl3bMGWJEeAokRyrFkTCeSSAEUJu2Z3bdFPUeJL+y567Bk55FsHyQMPLilcCaotb96IUW40QFxo1fKbJW/CwOeffrpTFXFoqxayZeuHyhPDT5RY/ftXZfYvF/vGjfB6bNgdoekujaJEPPu5Nj/F601w7jSKEvB86DNoV3yZcr3EcQrcnoGNvxkc0xQC/AJd6is9ITYsXPyUOnZx/4OPFV0Jqo9gnNDuaDmidUt54NdLCleCFubOMteImu0u5eURbEE3U1CUcNMubFV1CVCUqC5flk4CuSdAUcLuEHBt0U9RYpd99RGJwZeeK/0HTVCeDn6P9n7AEQrEfSj3eD0lEKwSng2IP4G4FbjKs9SVoCgXXheDht0o464eIBAqEIgTV5DedueDKv/0X8yX6VNGMODlV0agKBFvvnJtforXm+DcaRQl/HoFYeGhx5b7ejIgvSlK4GiEjiuBq0D1YwoDWpQwj294b99AmbN/9ZiKO7Fp8/sy65eLZHC/c6X/0AkCTwffufMr74cpt89WMSjKzp30lAgewI6kyNu84Qh255pBUcI5k7BBJJAtAhQl7NrTtZc3RYmGogSOb+C4BR59rAP/7ntu18Lv/UZFkKcEyoKQgKMZs+5fVPDIKHUlKK4p3fjWe8pbAiIEHsSsMD0lcEvHuEkzKUxQlLAyUbk2P1npVJlC0i5K6DgPc6ZPUEEscZxj5uyFKuAkPCT0Y4oSZjwHE01UUULHqkA9frd16GMdau48u2shNoXv3Lnw8aLrSKtt92qXT0+JahNm+S4SyKwosX79epk1a5Zce+210qhRI/H+bBoDnw0ePFhuvfVWadOmjUq7ePFiufTSS2Xs2LHSr18/9Xv97Ny5U4YMGSIzZ84s/G7FihWyceNG6dOnT+F3AwYMkGnTpqn68/LMnTtXWrVqJR06dAjV5ZUrVypuvXv3LuLrx93kP2XKFLnsssukadOminGXLl2KbKTTeu2+fft2ue2222TYsGGyadOmojGCtnTs2LFBu2HHHj16yKpVq1Q+s26dGOWiD6NHjy7quy5zzpw5csYZZ6g0S5cuLcvm9NNPF3BE3zDWvCz8fqcLRD5zDJaqCOM1rI1CGbJMIooScQkW53dt0U9RYpd9tKdE504nSV23geoDHa8Bn/W66GpZ+8qflDCAoxcz714YanCY3hIQFBBQs98F3dSNGt5HHxVZvGyldKnrUJQGeSFUoF6zzFCNyEkiekrEM7Rr81O83gTnTqMooYUINT8tmiUdTmjXoKP62k/9uRYldMBLv5sz2h19ZMHTws9TwrxKFBWa6bUo0fkHJ0nduV/NnV+1DZ/1GnC1rH31T0oo2bLtw5JXgno7kta4EhQlgv/2mCJ7BHIjSkyYMEFat25dtPk1zYlN5aBBg2TcuHGyYMECGTNmTANrt2vXTubPny8tW7Ys2pjqjTg213iw8TQ3v1qUQDr9edShpIWQvn37lt1MYhM8e/ZstVHH5rlcn6O2IUx6tBP1o51r1qzx3eRrjhB6/Jj4CRVm3fh8+fLlSgDAE0aUGDFihIwcObJISDLL1ALSjh07VLqJEyfKunXrCvXoOk1RYq+99iqIU+bYMAWr8ePHF9rpxy9oTGiBDGXqx+93+rOg8pBOj9f999+/SJQJY99K0lCUqIRa6TyuLfopSti1L0urLQGKEvH4uzY/xetNcO40ihLBvWKKWhOgKFFrC7D+WhDInCjh9WLAZhHeEvi2ee3atQ0Ye78xxoYPm9Fu3br5fkuNAirxlCjnqVEtwwcJMTbr9TIxv+03N8pIZ3oaeD0rTDEH7fPzmPCKEN6f0W94AUBc8nqztG3btqSnBOpD/VFECa/XRDkvhlKeGH52wLjEY3puaOFj9erVRd4QXpEniqdEGBEj7jihKBGXYHF+1xb9FCXs2pel1ZYARYl4/F2bn+L1Jjg3RYlgRkwRnQBFiejMmCP9BDInSmiTaI+BUaNGyfDhw5UHhHkEA+n8jhoEub+XOpKhN3dw0dceF2Z92Ch36tSpYpd501MC33CjP/vuu29h063FFd3vk046SS655BKFA0cHzOMR1R62Xk8Gk7MWJc4991z56U9/WnSUAe3csmVL0VGMMMdwtCgBDxZ4FLRo0aLgnYC6n332WeVNUcpzAwIKjvrARqaIYXKCxwOeUp4S+AziwL333isPPPBAgyM/+NzPA8RPFNC8kEcfbdFiB8QyeImgHdoDxxRlwogMpj1MEQbHRarxUJSwS9W1RT9FCbv2ZWm1JUBRIh5/1+aneL0Jzk1RIpgRU0QnQFEiOjPmSD+BzIoS2GBu3ry5KKYDNmNvvvlmYcPq/UY97OY9SLgwhwVEDBwzQF04ElDpxs8rSvTq1UuJLRAbzL5i413r4xvwHrj44ovlnnvuUXEflixZUogzYXpK4PiD9jRAmkcffVQdj/F7ILocd9xxSnTAY8bqwL9PPPFExQHHRkwBBr/DURyIChCF/GJGmF4dpggClvqYSKnjG97YFqeeeqrccccdDcQNLWah7fp4B+rFf3gQZwL/maKXKWJoUQJpIUyY8SCiihJevnEFs6BpkKJEEKFon7u26KcoEc1+TO02AYoS8ezj2vwUrzfBuSlKBDNiiugEKEpEZ8Yc6SeQSVFCBx3EJk+f6ff7RtjczJkbwFKig59ooevCZhiCBx4d60APDxtHN7yihBmY04wjUWtRAuwmT56sxIi99967IJpoLxFTlNi2bZsKKIpNerm4EKb3x/PPP688IUxPAS08+B3FwfEPeFAcfvjh8sEHHzSIseE9TmIeefF6fMCepUQVHXATooT2lPDGHok6XXiPe+hjGjiWYnrdeEUJBBr1Bl016zZFGPw+jHdF1Lab6SlKxKHXMK9ri36KEnbty9JqS4CiRDz+rs1P8XoTnJuiRDAjpohOgKJEdGbMkX4CmRQlsMnS8SM6d+4s+EYemzRs1rARRlwBHK0oJ0rAtOY37qZooTfBSOPd4Hk3kvjmu2fPniq+QZybOPyOb0yfPl15XrgiSqAdixYtko8//lj9ZUBswMbcjAthbuoRuwMPPCC0d8V1113XwMtAM164cKGccsopypsCogSCUsJG77//vvqd93gO7HTAAQfIhg0bVFyRcsc3MGbMwJZolylKmEKXn9cD0nuPb5iihBkUM8y0ocfNe++9p/rojVVhejf4iRJRbtagKBHGIu6kcW3RT1HCnbHBlsQnQFEiHkPX5qd4vQnOTVEimBFTRCdAUSI6M+ZIP4FMihLYGB9yyCHqG2tsRnH1o/5G3twU33///YX4BV5PiXKiRKlAl8hjHg/Qm1fv1ZOVDJs0iBImd9x2gas38Y0+fq+vZjUDWWpRQXu0QGjwu/7SPCKh80NsgEiBDbVpR7DVniknnHCCHHHEEYVxYF7NWs4zw7RPuStOvV4W+hgJjs/gqI55PMXv2I43v3dc+B3f0NfTlhrHaAM8VDD2yj3mMRGKEpX8RdYuj2uLfooStRsLrNk+AYoS8Zi6Nj/F601wbooSwYyYIjoBihLRmTFH+glkUpQwN6bYDGPz6r2RAJsyHAOAFwO+YY9yfKPUDRKoVwcm9G6+9Y0OtmJKINBlUp4SUW7xMI+qgAe8JcxrTL1XpWoPBHixYCN/4403FgWJ9LL2u2rVKzCYniNaEMJxl/79+xcF1jT/fPUmHQKI33Wwfmn9xCbTu8JPdDC9bEpNH/rIUTlRQuc1PSgQABVCkPdoiz7q8cQTTyivFO8YZEyJdE3kri36KUqka/ywteUJUJSIN0Jcm5/i9SY4N0WJYEZMEZ0ARYnozJgj/QRyIUqY35Cbmzn9DTzc9uHhYF6tWM60UT0lUH/cjV8lnhJajAkbwNOvz+WuuPRLb4oS4IvHjLFhfq49JfA5xBwcucHRD+8NGOYRmTCihBnQ1C+ehz7WgbZBMPEbH7pv5TwlvB4GXlZ+ooR5U4gef6hLiwmmV0+pmBLmMRUzVgqCheLRxz28gtDLL7+sRB/zJhrevpG+Sdy1RT9FifSNIba4NAGKEvFGh2vzU7zeBOemKBHMiCmiE6AoEZ0Zc6SfQK5ECTMuAEynv5HWG0V804wNHY4TlHqQx7wWEt86+13h6N082wh2WYvh5icClGuH7idieTz00EMqjgYefeME/q1v0vA7qhH2+IbpDVBu8262p66uTrVFB8TEZ7jFBGIIhBFcR1rqSlBvn+FZceyxx6r82vPAe+VnVFHik08+UUFCgzwlvONUp7/zzjule/fu6tiIydvPXppBtY9uoG4GurT7l+vaop+ihF37srTaEqAoEY+/a/NTvN4E56YoEcyIKaIToCgRnRlzpJ9AZkUJF02DDSACF8JzQQfiNNuJqx4Rf8Hv0RvPSvrl3bSbZSDuwosvvtig2LBeI5W0h3ncIJCUUEZRwq69XVv0U5Swa1+WVlsCFCXi8XdtforXm+DcFCWCGTFFdAIUJaIzY470E6AokX4bsgck4DQBihJ2zePaop+ihF37srTaEqAoEY+/a/NTvN4E56YoEcyIKaIToCgRnRlzpJ8ARYn025A9IAGnCVCUsGse1xb9FCXs2pel1ZYARYl4/F2bn+L1Jjg3RYlgRkwRnQBFiejMmCP9BChKpN+G7AEJOE2AooRd87i26KcoYde+LK22BChKxOPv2vwUrzfBuSlKBDNiiugEKEpEZ8Yc6SdAUSL9NmQPSMBpAhQl7JrHtUU/RAk+1ScwY+4fZWDvY6pfEWuQo86cnzkKSc0bSdXjioEgSvAJR2D6oyKDfhQuLVOJtO1fnxsMeZs3cmPYiB2lKBERGJOTAAlEI0BRIhqvoNR8eQcRyubntHs27ZpUr5IaP0nVkxQ31mOPAMeGPZZZK4ljI2sWraw/FCUq48ZcJEACIQlQlAgJKmQyvrxDgspYMto9YwZNuDtJjZ+k6kkYH6uzQIBjwwLEjBbBsZFRw0bsFkWJiMCYnARIIBoBihLReAWl5ss7iFA2P6fds2nXpHqV1PhJqp6kuLEeewQ4NuyxzFpJHBtZs2hl/aEoURk35iIBEghJgKJESFAhk/HlHRJUxpLR7hkzaMLdSWr8JFVPwvhYnQUCLrlu7wAAIABJREFUHBsWIGa0CI6NjBo2YrcoSkQExuQkQALRCFCUiMYrKDVf3kGEsvk57Z5NuybVq6TGT1L1JMWN9dgjwLFhj2XWSuLYyJpFK+sPRYnKuDEXCZBASAIUJUKCCpmML++QoDKWjHbPmEET7k5S4yepehLGx+osEODYsAAxo0VwbGTUsBG7RVEiIjAmJwESiEaAokQ0XkGp+fIOIpTNz2n3bNo1qV4lNX6SqicpbqzHHgGODXsss1YSx0bWLFpZfyhKVMaNuUiABEISoCgRElTIZHx5hwSVsWS0e8YMmnB3kho/SdWTMD5WZ4EAx4YFiBktgmMjo4aN2C2KEhGBMTkJkEA0AhQlovEKSs2XdxChbH5Ou2fTrkn1Kqnxk1Q9SXFjPfYIcGzYY5m1kjg2smbRyvpDUaIybsxFAiQQkgBFiZCgQibjyzskqIwlo90zZtCEu5PU+EmqnoTxsToLBDg2LEDMaBEcGxk1bMRuUZSICIzJSYAEohGgKBGNV1BqvryDCGXzc9o9m3ZNqldJjZ+k6kmKG+uxR4Bjwx7LrJXEsZE1i1bWH4oSlXFjLhIggZAEKEqEBBUyGV/eIUFlLBntnjGDJtydpMZPUvUkjI/VWSDAsWEBYkaL4NjIqGEjdouiRERgTE4CJBCNAEWJaLyCUvPlHUQom5/T7tm0a1K9Smr8JFVPUtxYjz0CHBv2WGatJI6NrFm0sv5QlKiMG3ORAAmEJEBRIiSokMn48g4JKmPJaPeMGTTh7iQ1fpKqJ2F8rM4CAY4NCxAzWgTHRkYNG7FbFCUiAmNyEiCBaAQoSkTjFZSaL+8gQtn8nHbPpl2T6lVS4yepepLixnrsEeDYsMcyayVxbGTNopX1h6JEZdyYiwRIICQBihIhQYVMxpd3SFAZS0a7Z8ygCXcnqfGTVD0J42N1FghwbFiAmNEiODYyatiI3aIoEREYk5MACUQjQFEiGq+g1Hx5BxHK5ue0ezbtmlSvkho/SdWTFDfWY48Ax4Y9llkriWMjaxatrD8UJSrjxlwkQAIhCVCUCAkqZDK+vEOCylgy2j1jBk24O0mNn6TqSRgfq7NAgGPDAsSMFsGxkVHDRuwWRYmIwJicBEggGgGKEtF4BaXmyzuIUDY/p92zadekepXU+EmqnqS4sR57BDg27LHMWkkcG1mzaGX9SYUogUbm7amvr7fWZfKLh5L84vMrNZ7r6upk+PDh0rlz53iV5Cg3X945MrbRVdo9n3a31eukxk9S9djiwnKSI8CxkRzrtNXEsZE2i1WnvakRJWxu0quD0l6ptv84bZdnr6fVKcl2f22XV51e2yvVdn/pKWHPNijJtn3sto6lVYsA7V4tsvkoN6nxk1Q9+bBatnrJsZEte9rsDceGTZrpLYuihIO2s/3Habs8B5EVNcl2f22XR367CNBTIvpoyNt4jE4oGzmmTp0qo0aNkhtuuEEuv/zyghh1yy23yFVXXSXXXXedDB06NBudZS+qTiCpeSOpeqoOjBVYJ8CxYR1pZgrk2MiMKWN1hKJELHzVyWz7j9N2edXptb1SbffXdnn2elqdkmz3l54Sdu1k2z52W8fSbBH45JNPpGnTprL77rvLXnvtJdu3b5cmTZrIzp075e9//7v6eZ999rFVHcvJOIGk5o2k6sm4uTLZPY6NTJrVSqc4NqxgTH0hFCUcNKHtP07b5TmIrKhJtvtruzzy20WAnhLRR0PexmN0QtnJcfXVV8vNN98sX3zxRaFTe+yxh1xxxRUyadKk7HSUPak6gaTmjaTqqTowVmCdAMeGdaSZKZBjIzOmjNURihKx8FUns+0/TtvlVafX9kq13V/b5dnraXVKst1fekrYtZNt+9htHUuzSQDeEs2aNZPPP/+8UOyee+4pW7dupZeETdA5KCupeSOpenJgssx1kWMjcya11iGODWsoU10QRQkHzWf7j9N2eQ4iK2qS7f7aLo/8dhGgp0T00ZC38RidULZymN4S9JLIlm2T7E1S80ZS9STJjnXZIcCxYYdjFkvh2MiiVaP3iaJEdGZVz2H7j9N2eVUHELMC2/21XV7M7lU9u+3+0lPCrsls28du61iabQKmtwS9JGzTzU95Sc0bSdWTH8ult6cM1pte2yXdcs4bSRN3sz6KEg7axfYfp+3yHERW1CTb/bVdHvntIkBPieijIW/jMTqh7OWAtwQW+Lhtg7EksmffJHqU1LyRVD1JMGMd8QgwWG88fnnKzXkjT9Yu3VeKEg6OA9t/nLbLcxAZRQmLRrE9XugpYdE4IoWrIe2WytJcJoDF/cUXXyz33HMPY0m4bCiH22Z7Xi/V1aTqcRg1m2YQYLBeDocwBDhvhKGU/TS5FiUmTJggY8aMKWvldu3ayfz586VNmzaJjQbbf5y2y9MgyC/ekCA/EXpKRB9D1fp7jt6SL3O89nivSrMyHwk4SeCoM+c72a44jUpq3kiqnjgsmDc5AgzWmxzrNNfEeSPN1rPX9tyLEp06dZIOHTqUJDpt2jTp0qVLkSiBzWTr1q2ld+/e9ixhlGT7j9N2eaYoEZZfy5YtZciQITJz5kyVfcCAAQK2jRo1ss7Qdn9tl1cJP4hipogxZ86cTIw/ihLRh3+1xmP0luwSJY7qeGWl2ZmPBJwi8NqKm4SiROUmcW1+qrwnzGmLAIP12iKZ3XI4b2TXtlF6lntRIqqnhN4YZmVTGGWweNNG+aZ/9erVKjuEnJ07dyqB4uSTT67Kxtr25Ga7PFOUCDv+tm3bJsuXL5fRo0fL9u3bFTf8u5ygVqltbfeXxzcqtYR/Ptv2ids6eEpQlIhLkfldIUBRIp4lXJuf4vWGuW0QYLBeGxSzXQbnjWzbN2zvci9KRP2mv0WLFootPSVEfXMflp/3+MvcuXPl2WefrYq3hO3JzXZ5pihRKb9qeuvY7i9FibDTcbh0tu0TrtbSqShKxCXI/C4RoCgRzxquzU/xesPctggwWK8tktksh/NGNu0atVcUJQKOb/gBreaGEPXZ/uO0XV6UTXWpAQmGePBtv+3Hdn9tlxeXHz0lbI+YdJVXrfFYKQWKEpWSYz4XCVCUiGcV1+aneL1hblsEGKzXFslslsN5I5t2jdqrXIsSOl7EggULSga89It9QFHiy2FWKb+VK1cqLwt4SzRt2jTqmA1Mb3tys12e7kAl/MCsT58+mYnJwZgSgcO5QYJqjcfoLfkyB0WJSskxn4sEKErEs4pr81O83gTnXnfXbsGJmIIEKiDQtn99BbnSmSVv80Y6rVT9VlOU8ASxDIOcokSxKBHlZhIIEgMHDqzqjSa2Jzfb5XlFiSj8dN6sHH+hKBFmxilOU63xGL0lFCUqZcZ87hKgKBHPNq7NT/F6E5wbokTbrl/GzOJDArYIrHvseKEoYYsmy0kLgdyKEgi2OGXKFGncuLFcccUVZe01fvz4omMGFCVEBauMyg8b6dmzZ1fNQ0Ib0faiyHZ5aGcl/MxBWk1vE9v9ZUwJu68D2/aJ2zp6SsQlyPwuEaAoEc8ars1P8XoTnJuiRDAjpohOgKJEdGbMkX4CuRUl1q9fL4sXL1a3QOhN4tixY6Vfv37q+s9FixYJvsX1u7KSooRIVH7V3ER7/wxtL4psl4f2RuUHQefNN98siGNZiclBT4noL5FqjMfordiVg6JEHHrM6xoBihLxLOLa/BSvN8G5KUoEM2KK6AQoSkRnxhzpJ5BbUcK8OQKBAwcNGiTjxo1TggS+xV6zZo1Mnz5d/eeNe0BRovjmjTD8/K4P9YvXYeNPyvaiyHZ56GMl489kWC12aJvt/tJTwsao3lWGbfvEbR1FibgEmd8lAhQl4lnDtfkpXm+Cc1OUCGbEFNEJUJSIzow50k8gl6IERAccI+jbt6/s2LFDevfuLUuXLvW1Zrt27aoa/8CvUtsvddvlkV+8P3zy28WPnhLRx5Ltv+foLSjOQVEiLkHmd4kARYl41nBtforXm+DcFCWCGTFFdAIUJaIzY470E8ilKOG62Wy/1G2XR36uE4jXPtvjhZ4S8ezhzW3bPnFbR1EiLkHmd4kARYl41nBtforXm+DcFCWCGTFFdAIUJaIzY470E6Ao4aANbb/UbZfnILKiJtnur+3yyG8XAXpKRB8Nro1HihLRbcgc7hKgKBHPNq7NT/F6E5ybokQwI6aIToCiRHRmzJF+AhQlHLSh7Ze67fIcREZRwqJRbI8XekpYNE4VYn7EbR1FibgEmd8lAhQl4lnD9vsjXmuqn5uiRPUZ57EGihJ5tDr7TFHCwTFg+6VuuzwHkVGUsGgU2+OFooRF41CUsAuTpZGAhwBFiXhDwvb7I15rqp+bokT1GeexBooSebQ6+0xRwsExYPulbrs8B5FRlLBoFNvjhaKEReNQlLALs0xp619/SxYvWylDBp5flGr7hx/JyPEzZOKYgdK0yb6FzybceJeMmXhHUdp23zlS5t87SdoccUiDmlDObXc+KMMG95VGjfaUUvVNm/GAdKnroMrYufNzGXv9TOl3QbdCmcg36/5Fcu01A1Q5+sHv1/1po9R1ai9Tbp0tl/3nObLkt89Jq5bfVEmWP/OijB7Rv6hdZhv8+qMTr1g2Szq0b5eYLZKsiKJEPNq23x/xWlP93BQlqs84jzVQlMij1dlnihIOjgHbL3Xb5TmIjKKERaPYHi8UJSwah6KEXZgBpc1d8LhKgY18x7p+JVNjk35cu7ZFggHyNt57L7n9rl/J0id/V8hrChUrV60tiAOmIKDr7d3zTDFFCZ3m0kt6yJCrp8rMuxf6tkmLBiinebMmsuqFV6Rx472kebP9BGXi9+iTV1gw22DWa1YCsaLTKSdQlEh0JMavzPa8XqpFSdUTn4idEihK2OHIUooJUJTgiMgjAYoSDlrd9kvddnkOIqMoYdEotscLRQmLxqEoYRdmQGnwTJg97zHpe27XghdCKU8JrxeD3vhv3PRuQQDw83TQm380RXtm+IkSLQ8+sODxAA8IlHvGv3+/yNvC7A7K6NN/dIMePvzLqQ2EkgGXdFfiBQQHPKef9j1pdchBgaJHosZIqDJ6SsQDbfv9Ea811c9NUaL6jPNYA0WJPFqdfaYo4eAYsP1St12eg8goSlg0iu3xQlHConEoStiFGbK0ckcZUMScuyZI9x91auC9AI8FPBAQ4KHgPbJhVh/kKbFt+19UcnhkLFu+Sv766Y4i0QFCwtxZ1xUdKUH6Bx5cIo8+/j+y79cby7RJQ2Xho8vl2ed+r/69Y+dnRUdRwnhKhESW2mQUJeKZzvb7I15rqp+bokT1GeexBooSebQ6+0xRwsExYPulbrs8B5FRlLBoFNvjhaKEReNQlLALs0Rp8GjQxyMgOEBQwFELiBPejb/2iPA7voEjEvs3/UbBA8Lv+IUuP0iUWLDwCRWzwjz+ob0sTC8KHedC96FHt9PU8Y1jv32EfLBlu3y64zN57/1tMmLIhQKhw4xHUUqUKBW3IhFjJFwJRYl4wG2/P+K1pvq5KUpUn3Eea6AokUers8+pESXyZqr6+nprXYaR8/aQXzyL2+ZXqry6ujoZPny4dO7cOV6Dc5TbtUV/lq8E1ccocExi0LAbZdB/9ZLpv5gv5/Y4Xd7cuLkoCKYpZOjhqGNNeANN6lgO5jGNIFECgS7habFXo38pBMbUggLq03VoUcIrWFzc5yxZvGyFOooCT4u2R7ZSooT24kAZaEOvi66W9id8W76+T2OZfMv9vn9ZOO4BTwszsGZW/gQpSsSzpGvzU7zeBOdOgyix87PPZcrts+Wyi86RpvvtK9v//JHcdu+D8qO6H8iN0++V6dePUL83n7kLH5c339oso4cUB8P1Eln/xlsy65eL5NphA6TRv+xZKHvYT/rKps3vF3228sW10rFbw9g8A/p2lx5dT5NVL70iyGe21awPdY2bMtO3vWr+euMtWbdho9Sd0r5QxpKnnpNW3/oquO+KFwP7E2zxZFJQlEiGM2txi0AqRAm3kLE1JEACUQjQUyIKreC0ri368yBKwFNCiw7Y1JveD9pipWJKQIAwA07iFgwtHJiihBn00i+mBOrs3W+UCpoJb4nL+p8tAy6/3nfA6ECXfjEskEHXhX8jaCW8PLRnyPiRl6obQcxbPugpEfx36XqKpOaNpOpxhbfLokQpEeDhe6bKH159XQkA6gjXDTNk4lUDfYUJcO7d/cySuLUoMWLghaqcmbP9g+9CeJh27VdHxr6qDwLC8q+EArQV//YTJSCqDBk7VbUBZUD8mDDtLml9SIsGbYOY0nz/JkrgQKDh5vvvp9Lg9xAnOpyQjluDKEq48hfOdiRJgKJEkrRZFwnkkABFCbtGd23RnwdR4s3/29zguk/TquZGvlvXU9QxD33jBj6DEAFBoe95XdRREP1AfPj0053qx0NbtZAtWz8s3I6hNgPG7Rurf/+qzP7lYt+4ERAfvJ4SfnEwtIcDyoYIoRb5hseD9ta44LyuKtZEmyNayRVX31w0gMtdc2p3pNemNHpKxOPu2vwUrzfBuV0WJXTrvZ4S3p9L9RLpxk6ZKf3O6yZtDiu+1lgLBaYIsWLRLGl7eCvlheHnKYF64KWhRZAwogTS9x44SpY+vesGo6K5d/ilBe8HCA99BvkE971nqtx+36+KytAiCQQOFx+KEi5ahW2qNgGKEtUmzPJJIOcEKErYHQCuLfrzIEqYQgKOUHgFBvPohg44ueS3zxVu3YBnAq4UhUAxesQud2h9QwY8G5Y/82Lhqs1SV4KqRf2HH6mjJOOuHiAQKhC0cuKYgeoWDng94HjJ9Ckj1NGMcZNmqn/jyAdECHh5wHND9wE3bPiJEl3qOqhYE4e3PliOOeqwous/S10VaneU1640ihLx2Ls2P8XrTXBuV0UJP9GgXG/8NulaEIB3QaljHBACnn3+98qDYc0r63yPZ5z+w+/JrKmjZcLP7irpSTF++KWqeeWOb2hvCrMtfh4QD/x6iTy67KvgvtcOlYWLlxfaWM4zJNjayaWgKJEca9bkDgGKEu7Ygi0hgUwSoChh16yuLfqzLkqsfeV1ZcBrrxmgbq7ANZsQERCLQf9bx4gwLW1eCapvu0B+eF1oYQLeDBAScDTDDDhZ6kpQCAsb33pPeUtAhMCDskxPCVOMwOf6yAf+DVEE9UEg0X3QbUN8CO0p8de/7pDWh7ZQ5XuvFaWnhN2/56RKS2reSKqepLgF1eOqKGG227uZD+spgXyLlj6jivLzlsDvcYxizOQ7BKJCp44nlBQl5s64Th0PMWNQQMQod3xj24d/kV4Drpa1r/4pyAwyZ/oE6d6lkzrmoeNTHHv0EfLB1q+C+27ZJjhigjLNGBiBBdcoAUWJGoFntTUlQFGipvhZOQlknwBFCbs2dm3Rn2VRAqLB5ve2qJgLiN+gb8owLYo02MCb3hT4XHtB+HlHmMJEqbgPug7tmbB42UqBBwMCXurH9NDwBp9Eux56ZLnMv3dSIY/fDSL43ex5j0nzZk3UsZObJ10hECUQVwIiCm4QMUUXekrY/XtOqrSk5o2k6kmKW1A9LosSpY4zQEBAvIUup3VQ3fPbpGtPi75nd1VptHhg8oDAMHbyTMHtP4e3Olg+2PphgzgPXgHEjAXh5/ngJ5jotkBseOixJ2Xj2+/JTy48W8XFML0mpv3iAdWnli0OVIEuLz73LFn85ApBH5Y9s0odLYEosfHtd8vGyQiyeRKfU5RIgjLrcI0ARQnXLML2kEDGCFCUsGtQ1xb9WRYl7FqOpaWBAI9vxLOSa/NTvN4E53ZZlFDi6FcBHrERNwM96t9DbICHgzcAJASD2b96TB3LwOMXWwICwwHNmsiGje+o2zfKHd+Ap4QZQwJlmqKEGTvCPEoC4cP0lkDciv2bfKPwOxwN0V4YKLNUHAxdF9L49TfY0smmoCiRLG/W5gYBihJu2IGtIIHMEqAoYde0ri36KUrYtS9Lqy0BihLx+Ls2P8XrTXBul0WJUkEisbHH8/NZ8+WYNq0bxIvQ+eCFoMUKP68GHO045OCDBDEc9JWgmpj2WvAGyPQSLXcrhhZGRl7eTwkRuGIUAgWe+TMnqd/pIJg6JgWOkpiPFjjwO+8NHsHWrV0KihK1Y8+aa0eAokTt2LNmEsgFAYoSds3s2qKfooRd+7K02hKgKBGPv2vzU7zeBOd2WZQwW6+vysTxBxxnwIZeH9tA8Ed9Y0a56zb9ruHUMSIG9ztX+g+dUPKWDC0O4FiFVzjwUjY9JbzCCgSV477TVgkMOMZhekmgLeOmzJTp138V3HfsVNVXCCu6nFbfOqhwrWiwdWuXgqJE7diz5toRoChRO/asmQRyQYCihF0zu7bopyhh174srbYEKErE4+/a/BSvN8G5XRclzFs42h19pPIwQFwFCAw4+tB8//3UsQ4c48DNF9jstziwue9tG7qsk0/6biEmgxm4Ul+vqY91gB5EgXLXbpbzlND03373A/nWNw9Qxz06dusnuh9+XhheEcMMwAlBA8dY9G0hrl4Hin5TlAj+22OK7BGouSiRPaTsEQmQgJdAfX29L5S6ujoZPny4dO7cmdBCEnBt0U9RIqThmCwVBChKxDOTa/NTvN4E53ZZlMCGf/Jts5UQsXrtq0p8wKb8zbc2F0QHfXsGNuwQJlof0qJsEEivMKFFic4/OEnqzh2ogKEseCeY8SBwFGTLtg9LXgnqJa29JeDFYR7RKHU1KfKjLw89tlz1VwsWEDLwe9OjwoyX4aowQVEi+G+PKbJHoKaiRPZwskckQAJRCFCUiELry7SuLfopSkS3IXO4S4CiRDzbuDY/xetNcG6XRYng1jOFqwQoSrhqGbarmgQoSlSTLssmARIoS4CiRPQB4tqin6JEdBsyh7sEKErEs41r81O83gTnpigRzIgpohOgKBGdGXOknwBFifTbkD0ggdQSoCgR3XSuLfopSkS3IXO4S4CiRDzbuDY/xetNcG6KEsGMmCI6AYoS0ZkxR/oJUJRIvw3ZAxJILQGKEtFN59qin6JEdBsyh7sEKErEs41r81O83gTnpigRzIgpohOgKBGdGXOknwBFifTbkD0ggdQSoCgR3XSuLfopSkS3IXO4S4CiRDzbuDY/xetNcG6KEsGMmCI6AYoS0ZkxR/oJUJRIvw3ZAxJILQGKEtFN59qin6JEdBsyh7sEKErEs41r81O83gTnpigRzIgpohOgKBGdGXOknwBFifTbkD0ggdQSoCgR3XSuLfopSkS3IXO4S4CiRDzbuDY/xetNcG6KEsGMmCI6AYoS0ZkxR/oJUJRIvw3ZAxJILQGKEtFN59qin6JEdBsyh7sEKErEs41r81O83gTnpigRzIgpohOgKBGdGXOknwBFifTbkD0ggdQSoCgR3XSuLfopSkS3IXO4S4CiRDzbuDY/xetNcG6KEsGMmCI6AYoS0ZkxR/oJUJRIvw3ZAxJILQGKEtFN59qiH6IEn+oTmDH3jzKw9zHVr4g1yFFnzs8chaTmjaTqccVAFCVcsUS22kFRIlv2ZG/CEaAoEY4TU5EACVSBAEWJ6FDztuiPTiibOWj3bNo1qV4lNX6SqicpbkH1UJQIIsTPKyFAUaISasyTdgIUJdJuQbafBFJMgKJEdOPlbdEfnVA2c9Du2bRrUr1KavwkVU9S3ILqoSgRRIifV0KAokQl1Jgn7QQoSqTdgmw/CaSYAEWJ6MbL26I/OqFs5qDds2nXpHqV1PhJqp6kuAXVQ1EiiBA/r4QARYlKqDFP2glQlEi7Bdl+EkgxAYoS0Y2Xt0V/dELZzEG7Z9OuSfUqqfGTVD1JcQuqh6JEECF+XgkBihKVUGOetBOoqSiByvmQAAlkn0B9fb1vJylKRLd93hb90QllMwftnk27JtWrpMZPUvUkxS2oHogSfMIRmP6oyKAfhUvLVCJt+/uvm7LIJm/zRhZtaKNPNRclSm1WbHSOZZAACdSeQLmXDUWJ6Pbhyzs6syzkKGf3Tz75RH7xi1/I0KFDs9BV9qEKBJKaN5KqpwqIWGSVCXBsVBlwiovn2Eix8Sw2naKERZgsigRIoCEBihJ2RwVf3nZ5pqU0P7tDjLj++utl6tSp8rWvfU127tyZlu6wnQkTSGreSKqehPGxOgsEODYsQMxoERwbGTVsxG5RlIgIjMlJgASiEaAoEY1XUGq+vIMIZfNz0+5ajJg2bZrA2xCCxKRJk+Tyyy/PZufZq9gEkpo3kqonNhAWkDgBjo3EkaemQo6N1Jiqqg2lKFFVvCycBEiAooTdMcCXt12eaSkNdv/444+VZ4QWI7744gvV/KZNm8q2bdvS0hW2swYEkpo3kqqnBghZZUwCHBsxAWY4O8dGho0boWsUJSLAYlISIIHoBChKRGdWLgdf3nZ5pqU02L1Hjx7yyCOPyN/+9re0NJvtrAKBPffcU5o1ayZHHnmkfP/735ezzjpLTjjhhLI1JTVvJFVPFbCyyCoT4NioMuAUF8+xkWLjWWw6RQmLMFkUCZBAQwIUJeyOCr687fJMS2nlPCWaNGki27dvT0tX2M6YBP75z3/K+++/L3/84x/lqaeeknnz5sl3vvMd5UVzzDHH+Jae1LyRVD0xETJ7DQhwbNQAekqq5NhIiaGq3EyKElUGzOJJIO8EKErYHQF8edvlmZbSGFMiLZaqTTtxpGfkyJHy4IMPSteuXRs0Iql5I6l6akOZtcYhwLERh16283JsZNu+YXtHUSIsKaYjARKoiABFiYqwlczEl7ddnmkpzc/uvH0jLdZLpp2PPfaYnHPOOfLiiy828JhIat5Iqp5kiLIWmwQ4NmzSzFZZHBvZsmelvaEoUSk55iMBEghFgKJEKEyhE/HlHRpVphKWszvEiV/84hcydOjQTPWZnYlOAB4TTz/9tCxatKgoc1LzRlL1RCfDHLUmwLFRawu4Wz/Hhru2SbJlFCWSpM26SCCHBChK2DU6X952eaaZsD5eAAAgAElEQVSlNNo9LZaqfTtbt24t8+fPLwp+mdT4Saqe2lNmC6IS4NiISiw/6Tk28mPrcj2lKMFxQAIkUFUCFCXs4uXL2y7PtJRGu6fFUrVv5zXXXCNf+9rXZMKECYXGJDV+kqqn9pTZgqgEODaiEstPeo6N/NiaogRtTQIkUDMCFCXsoufL2y7PtJRGu6fFUrVv5xNPPCE33HCDPPnkkxQlam8OtuArApzDOBRKEeDY4NgAAXpKcByQAAlUlQBFCbt4+fK2yzMtpdHuabFU7dv57rvvykknnSRvv/02RYnam4MtoCjBMRBAgO83DhGKEhwDJEACVSdAUcIuYr687fJMS2m0e1osVft2/vOf/5S99tpLPvvsM4oStTcHW0BRgmOAogTHQAgC9JQIAYlJSIAEKidAUaJydn45uTm1yzMtpdHuabGUG+30jpekxk9S9bhBma2IQoBjIwqtfKXl2MiXvUv1lqIExwEJkEBVCVCUsIuXL2+7PNNSGu2eFku50U6KEm7Yga3YRYBzGEdDuc1ofX09AeWcAEWJnA8Adp8Eqk2AooRdwlzY2eXpamlTp06VUaNGqYCFl19+uQoAhUXbLbfcIldddZVcd911MnToUFebz3bVmABFiRobgNU3IMB3FwcFRQmOgXIEMitKrF+/XmbNmiXXXnutNGrUSLZv3y633XabDBs2TDZt2lT02cqVK6Vjx44NOA0YMEB69Oghq1atUvmmTJkil112mUo3cuRImThxovp37969ZenSpb6cV6xYIR06dJC5c+dKnz59yo7G008/XaVr2rRpKketyVgz15xwvlXzQ/+QFtxGjx6t+JjPtGnT5NRTT5UHHnhA+vXrJ23atFEf79y5s6gMnUeznTNnjirT+2AsjBs3TqZPn16SLcqePXu29O3bVxYuXCitWrWS/fffXxYvXiwXXHBBwd6mbcz2rFu3zncMoS3jx49X/cSDvnXp0qXQpyBD63GMdJMnT/ZN3q5dO3UnveYUVGbSn1OUsEucCzu7PF0t7ZNPPlHz1e67767iA2DObNKkiZoH//73v6uf99lnH1ebz3bVmABFiRobgNU3IMB3FwdFKQIcGxwbIJB5UWLEiBFqQzlz5kxfi0N4wEZxx44dhY0nNpjLly9XG0kIFvi3KUroTTXKveKKK9SGEJ/jMTfeuCO8U6dOBVECn+tNMzab2PAOGTKk5IYbm20zT5Qhi3Zjk3399dcL7izHZltv/v3KxUJ37NixRSJAlPqQ1hQlwGHMmDFlN9EtW7ZU/TfbZm7cIQpoUUMz18ISRA8w7NWrlwwfPlxx1XeyawHArNwrUvk1TNukefPm8umnn8qGDRuUqAURy7SVzusVJTZu3NhAFNHjB23yE1X8BDEtZKGecmPAhs2i2riS9BQlKqFWOg9f3nZ5ulza1VdfLTfffLN88cUXhWbuscce6r0zadIkl5vOttWYAEWJGhuA1TcgwHcXB0UpAhwbHBsgkDlRAhs1bHRNEQKbvLZt25b0lNAbar0BDiNK6OGjN+IHHHCAQODQD74dx1OpKBFmE11uCJcSJcqVG6dOc3Otv7k3RQWvp4TZdu01UcrbBCxbt27dwNOkrq5OPvjgA1m7dm0R94ceesjXc6DcBl8LHGZZKFTb0RRY0D+IXeeff35RvaVEGL8ykBGeHfDI0AKYFiHwOwhI4GKKMl57U5TI5yTOl3d+7A5viWbNmsnnn39e6PSee+4pW7dupZdEfoZBRT2lKFERNmaqIgG+u6oIN+VFc2yk3ICWmp85UUJzwQb02WefVV4Qa9as8XWtx3EJHPHAN+ylPCn0hlJ7SlxyySWF9F6xA3WX85SIcnzD9LLQook+JmIe8/B+066/ZS8lSnjL9Y6joM/LjTvv8Y1KxijaPXDgwJKiwqOPPio/+tGPfI9pBNWHvqH8ckdkXn75ZXVsZNmyZaoNeAYPHiy33nqrOh5h8gnjKWG2CXVrbwq0AeIDnlKiBNLA2wX/9x4PwbjEmIzr3RLEzMbn9JSwQXFXGXx52+XpemmmtwS9JFy3ljvtoyjhji3Yki8J8N3FkVCKAMcGx4aeI3YTQfwse1FPww6usOkqMRU2j/jmGps3eCv4xYwwN/emlwBEjKDjG3pTCQ+MG2+8Ud5++22ZN29eoakoG5tOfTTB+y19ueMbKMT8hlx7f5hlvfnmm9KzZ8+iDbNXiPEe30Bby33zjnrN4wZRuUOUAAs8Bx10kHIx9nvgIYAHIo0+PmPG/cC3g1oU8MaTaNy4seB4xfHHH6+ObsCzwYyp4OWq69deBygP+f1iT4AfuMIrA/X84Q9/kMMOO0wgVHTr1k2OO+64IhGglChRyoPBjCeh/71t2zZfUQJeJujfgQceWBAltKCh+3jppZdSlIg6SDOQvprzZgbwZK4LprcEvSQyZ96qdYiiRNXQsuAKCfDdVSG4HGTj2MiBkUN0MZOeEti04RtkxCw4/PDDlYs/NprmRtR7vh8ihk7jtzH3pjdFCTPOgcncG1NCu+UjTTlRAhtVM0hnmECNWlCAEKG9Q7yiBDa6Zrl+4yPOEQ70Vx+dWL16tSoezE0PAfPfpmcF0upv/RG/AbYAV+2hoNsFe+69995KlNB9ueOOO+TEE09Um3t4UTz11FOFWB26j1pwQKBSP2HGz4sBdoCQg0d7Kpi21mIRAqGiXPP4jskWosl9990njzzyiEpnHmUxjwohj+lBgfoff/xxFVAV6ShKhJjRcpCEL+8cGNnTRXhL4DYO3LbBWBL5s38lPaYoUQk15qkmAb67qkk33WVzbKTbfrZan0lRAptjxHjQgQrLHd/QrvGmC70pSpjxDsxv9b2iRPv27QUxDvQDbwB8627GlAh7fAMbUC0uwIMA7UGf/I4daI8QXa9uI/rsFSWQxizXpiiBtmnvAhwrwA0Wpfqrb8nQooQWCrQniPYigIiib+hAW01vFwS3hDeF9pSYMWNGSVEC9QwaNEjdwAFPiXKxJfw+014WZ555pvKeQNBKfeOH9rZZsmRJQYTx85TQ4wh9NONIeAUwPa68MSUoStia8tJfDl/e6bdh1B7AW+Liiy+We+65h7EkosLLaXqKEjk1vMPd5rvLYePUuGkcGzU2gCPVZ1KUWLRokRxyyCEqNoC+ElTzDnslo7k59LMVPscxAHxLjs24/qZeb1iRxxQlvLEabHhKeMUKHUeiVp4SpucDRAk8YTwlICDB+0F7spg28gZ71KJBFE8J760cfgEk/W7BMI+FoF5cyWlevWl6z8CDAv3A/73BMs2rSr3lRBElTFGGMSUcmUFr0AzXXt6vPd6rBhRYJQlUj8BRZ34ZTyjND0WJNFsvm2137d2VTcrp7BXHRjrtZrvVmRQlAEm7+yNIYf/+/aXUzQ7as6DcFZYauukpoY8qwDsCm1d8+21uGk1PCcQiMANg6vaVuhIUn3uvwtQeA/gGXceOQEyJm266Sf2MIwH6etFSokQlMSVMoQNeG+WeSkUJeFaYZZcTjrSHgnnzBviX8pQo1X7v70vF7dDXi5pHU7xxLvANJo6ZwDYQorQdwMo8FoKftWeLFjxKxZQo5ymhbcDbN2xPh+koz7WXN0SJozpemQ54bCUJBBB4bcVNQlGi8mHi2vxUeU+Y0zYBjg3bRLNTHsdGdmwZpyeZFyVMTwl9rAPA4EZfbpNdzlNCbwYR/HD69OnqWIB3c6k3oDi+gcd7bKKcp0TTpk2LbnnQIoYO7KiPDGghAjeHYJOLviLYJtqkj4Bcf/31cs011xQCbgbdruH9vNxRB+/A84oSQcc3zGCkevNfajBrMQKfQ/Dxekp06dJFHc0wuZq3V4Cp9zEDg+qxYB6HAWeIDRC2IBJ4A4tqT4ljjz1WxX5A4MmLLrqopKeE6bGh44Sce+658uMf/7ioafoGlTBXgnrFrjiTQbXy8vYNu2Rde3lTlLBrX5ZWWwIUJeLxd21+itcb5o5DAHFwRo0aJTfccINcfvnlhds3brnlFrnqqqvkuuuuU3Fy+JAA5w2OARDIvCjRuXPnQqwHvdnDhlBv8LEZ3rJlS8krQb3DxBtXAp97A2jim3IIBVo8gEu/ji2hy9ObZ2ymdVvMsuMEnCw3tMuV6/dZ2OMu+vgDjhWYR1i8t1xozwF4liBwY/fu3ZVnQakrWdEX85YU8/gG2vbRRx/Jn//854J4AI8YiBYoPyh+Bso2vU5OO+00lVe3WceBQH8gSuDR8SnOOussOf/881VwyxYtWijBAo/p/YKfdX+1Tfx4lLoStJQoYR410bxdns4oSti1jmsvb4oSdu3L0mpLgKJEPP6uzU/xesPccQggFg6+ENp9992VNy/WNE2aNBF8ofP3v/9d/bzPPvvEqYJ5M0KA80ZGDBmzG5kVJWJycSJ7FC+FKA32KzctRwGi9JNp3SBAUcKuHVx7eVOUsGtfllZbAhQl4vF3bX6K1xvmjksANwfdfPPN8sUXXxSK2mOPPdSV8bxJKC7d7OTnvJEdW8bpCUWJOPSYlwRIIJAARYlARJESuPbypigRyXxM7DgBihLxDOTa/BSvN8wdlwC8JZo1ayaff/55oag999xTtm7dSi+JuHAzlJ/zRoaMGaMrFCViwGNWEiCBYAIUJYIZRUnh2subokQU6zGt6wQoSsSzkGvzU7zeMLcNAqa3BL0kbBDNXhmcN7Jn00p6lElRArEREJwQQQrx6JgNXkA6VgGCQiK+gfe8v07vvbZR/z7qkQcdowDxCXRgx1Jlm4EdyxkWcTIQk2DMmDGh7G/GINAxJMy4G2YhOsbFmjVrim4WMdPoOB34nRkk0xvIE5/rGy5wjap5taZfw4OuZA3VWSZyggBFCbtmcO3lTVHCrn1ZWm0JUJSIx9+1+Sleb5jbBgHTW4JeEjaIZq8MzhvZs2klPcqkKAEQOiAhbsbArQzYMEMAgBBx3333NdgUl7uVopRwYN7U4IWvr3xE3VpgMAM2BgkeYeJJlNq4hxFLzDR+N4f4Bb3042DeuIGbIHRAT+9VmGjr5MmTFff9999fCUBmAElvX/x+BjPkq1YQ0Er+gJgnmABFiWBGUVK49vKmKBHFekzrOgGKEvEs5Nr8FK83zG2LALwlcBsHbttgLAlbVLNTDueN7NgyTk8yK0poKNo7AbcyeB9TJNCb6/bt2xdu6/ADqz0NIEjASwAPPDIgPujHvPpR/05fH3nZZZepKMSlbpzQngdRPCX0zRC6rjCbdlOEMW9zMPts3gZith8ihr5lwitKoC0LFixocJsGvFUgSOgH7HFDBh7corFw4UL1s+5LOVECecKINnH+MJjXHgGKEvZYoiTXXt4UJezal6XVlgBFiXj8XZuf4vWGuW0RgLfExRdfLPfccw9jSdiCmqFyOG9kyJgxupILUWLkyJEyceJEhUn/G8IAvtmHSIAri8o9Xg8B82ctevTt21dtqjt27Fh0raQ+smBeeTl8+HA1KaNuHB3RV0KaG/Ewm26dvm3btsqDwE94MfvlPa5y/PHHy6xZswTHN3CkQh8pQR6vsFHKkwF148rTYcOGKZ7wlDjuuONk7NixsmnTJrn22muLBJtSnKN4SqCMUtdlxvhbYNYqEaAoYResay9vihJ27cvSakuAokQ8/q7NT/F6E5x73V27BSdiChKogEDb/vUV5EpnlrzNG+m0UvVbnTlRwhQB5syZI2eccUbJDbvepGNTjZgMSN+9e/cGYkWp4xvaPOYxDr8jGnqTj6Mk06dPV54SWhCJI0ro+k1vhR07dhSEF1OEMf+tRRh4KHTp0kXg+QAxxftoTwmU6Sd6oK/wEoEHhClK4HgGvCWgjPfr109Wr14tffr0UcWb3hdeEUanKTXsYR8z7ke5IzfV/9NhDWEJUJQISypcOtde3hQlwtmNqdJBgKJEPDu5Nj/F601wbogSbbuuDk7IFCQQgcC6x44XihIRgDFpJghkTpTQVtExDSBKhPGUMGMgeL+FN0UJP88HM9ij97iIPu5hxpW46667lAtbkKcEPC8QgLPUZl0LIOiz9lYIK0qgPc8++6w6OtGoUaPQg9kUEuBNgQcChClKoM2ffvqpbNiwoSBKIB1sgXbiiMyWLVtUXvPIhtmIoOMbSBvGmyR0x5iwagQoSthF69qin6KEXfuytNoSoCgRj79r81O83gTnpigRzIgpohOgKBGdGXOkn0AuRIlSRxtMrwZvYEbz9ohSAR7LHZnwxqu48cYb1Wjp37+/QJR4++23Zd68eQ1GkBlTotSG3ZspqqcEvDPgGQGvBRxrgWhjHi8xy4eo0rNnT98bTBDMc8aMGer4iSlKmLeBIE1dXZ0KcokHdfbo0SOyKOH3p0ZRIh0TEEUJu3ZybdFPUcKufVlabQlQlIjH37X5KV5vgnNTlAhmxBTRCVCUiM6MOdJPIBeiRFRPCa9ZS4kSulxvTAozKCQ+w+YZngMffPCB8o4Ic3wDHgx777232sSXe/A5YkHcfffdShgI4ymBoJJHH320LFq0SMV88HpKlLu9w+vBUOr2DbMMHN/AU8pTAjEovPE9ytWj20tRIh0TEEUJu3ZybdFPUcKufVlabQlQlIjH37X5KV5vgnNTlAhmxBTRCVCUiM6MOdJPIJeiBMwGzwAzvoHXUwJpzFgR5hENfFYu0KJXlLjzzjvlzDPPLBzZMEWMoGs29QbcjJ/wxBNPqGCSupyonhLIpwNZIsglPBlKPSYjpCl1Danmpa8ENY+5mDdv+HlKVCpKMKZEOiYgihJ27eTaoj8LosT2Dz+S3v1GydInfyenn/Y9mTvrOmnaZF/B70eOnyETxwxUP89d8LgyZu+eZ6r/r1y1VjZuerfwM363/vW3ZPCVk+XWm4ZLmyMOUekm3HiXjJl4R2EgzLlrQlEes551f9ooy595UUaP6F80cJDmtjsflGGD+0qjRnuqehYvWylDBp5flG7ajAekS10HVffOnZ/L2OtnSr8LuhXagnyz7l8k114zQJWjH/weddd1ai9Tbp0tl/3nObLkt89Jq5bfVEn82mS2wdtHs1Erls2SDu3b2f1DqFJpFCXigXVtforXm+DcFCWCGTFFdAIUJaIzY470E8ikKKGvuMTRAQRhNK/r9DMZNujYOOMJkx7pyl01is+9AS+9QoVuh58oYXoA6M09bvfQ12W+/PLLguMgCJyJvsURJbSnhDduBm7PQJBKLzvzqlIvX4gE5pWg+nOvpwQ8OiC2aIGjElGCt2+kZ/KhKGHXVq4t+tMiSmCDPuTqqTLz7oUNDGIKEeaHXlFCCwydTjmhwUYdgkWf/qMblD3gku7y9X0aS7eup6iNOdJho6836bpdfc/tqn7n/dksECKIFgdMQcAUS0xRQqe59JIeJfuO8rVogHKaN2siq154RRo33kuaN9tPiSfeNptChhZGzHrNNkOsAC+KEnbngaDSvPNEUvNGUvUE9T+pzylKJEU6X/VQlMiXvdnbLwlkUpTQt0rgFoigqzIRM6Fx48bqFoqWLVvKkCFDSsZXADAduDKKpwTyRREl4FmBW0BwzCOoPfDgMK/l9B7FMMUT0+vBe+Un2qjFmbVr1xaJKqYQ4fWcMD0iTCHGe3wDZS5btkzFk4A3BWJaaNEiDHe0z3tzB35n3sbBP2o3CVCUsGsX1xb9aRElvFbweh6oOdDwIoC3gOndMH7kpUU/m+VpzwdzY24KGvBwwMZ8/6bfKPJS0ALEyd//bgPPiUHDbpRxVw8oeDjo+nQd+FkLAn6iRMuDDyx4PMADAh4dZ/z794u8Lcw+lBJVHv7lVLn9rl8pLxL9QGiBeAHBAQ9EnVaHHOQr+Jiih92/hOqURk+JeFxdm5/i9SY4N0WJYEZMEZ0ARYnozJgj/QQyKUqk3yzsQYMNxPbthRtGNm3aJLNmzfKNh0Fy7hGgKGHXJq4t+tMkSni/tTc38xAkxk2aKdOnjFBHNbRI4f0dfu93bAO/h8gAMePiPmfJrXfMKxyb0PW+8NIfC0crUF+vi66W4Zf3LRIk9GjRR0r6ntfF9/MgT4lt2/+iijquXVtZtnyV/PXTHUWeHKW8Qx54cIk8+vj/yL5fbyzTJg2VhY8ul2ef+736946dnxUdZzHbUMpTwu7or35pFCXiMXZtforXm+DcFCWCGTFFdAIUJaIzY470E6AokX4bsgck4DQBihJ2zePaoj9NogQsAYGg9aEt1EZfiwi9etTJzdPnFGJHaItBfEB6HWPC/L0ZSyLoaAi8CM7s3EF5HOAYA+JFhN3Eo/633nlPpH43mXX/w6K9MoJEiQULn1CeHe2+c6TMv3eS8rjQdZpeFFqA0X3o0e00dXzj2G8fIR9s2S6f7vhM3nt/m4wYcqFA6DDjUZQSJUrFrbD7l1Cd0ihKxOPq2vwUrzfBuSlKBDNiiugEKEpEZ8Yc6SdAUSL9NmQPSMBpAhQl7JrHtUV/2kQJ0xqlPB50Gh28ERv7GVNHKIHCPMaAdOamv5SlTQ8N0zsD9Xes61dygHgDYno9O8od34AI8f/ZexNoK4prf3i/9VfgIk5MYiDAIyqDCi8aBXNBCfwBxQAvgIJMEUGuAT5dTBGUC8hF0TA9fYC5CTyMDAYZDCIo+CAgEMGBfEQDDoQPHCIyqVEmNfKtXabaOn27T3efrtNd3efXa7nk3lO1a+/frlPn1O/ugaMtqhZVsQpjSkKBF5TFLCUpYScsONpj7fqtxLUuONKiyWUNBSmhkjEy2qPVNVeIuhnTHn3S0RZO9+BIC7Wwpt53hT5pICXCYWna+RTOGu/ZICW8McKI4AiAlAiOGWYkHwGQEsn3ISwAAkYjAFJCr3tM+9KfFFIiW3cIu4f4Ev2LQbfQ1JkL6N/+jeiB++7KiKRwIjPUDh5SniQsOGpBFnv0qmUhL+72Th8s005oyKKXTjUluH6F7CjCegwd3JNK7nnIcTPKQpdO3Tp4giywyf9mOzglRBYN5Vob3BFE7fKBSAm97/lcpKHQZS6oBZ8DUiI4ZpjhjQBICW+MMCJ9CICUSJ9PYREQMAoBkBJ63QFSQg+efJFf/fwW4lSGi+vUrNBak1+vdk5Vev7FbY5pHfZWoE6dOmT0gUpKOF3YnUgON1Li+PGTAoB/b1iXDh0+ZnXH4N9xSopc87U/76aFT62tkHrC42TaCrf9lJESTqSNjHDgOUxC8KNGPMj0jQG33SxqTTS+tCGNHDczw0F+Ikn0eFSPFERKhMPRtPMpnDXes0FKeGOEEcERACkRHDPMSD4CICWS70NYAASMRgCkhF73mPalPymREtILsssEp0Zwa04mF/j/nEYhIwZ47Ko1m+nq/2hKU6bNE6QEd9BQu3GoXuXLe+kvB1PZr74da0+JYFKCHzlfXcctOsGplabUnedzlISMvnBrCcprMlkiO3kwUcFFK6U9PH/2b5aK4p6cmiGLenLKB5MQsk2pjALh2hhOpETnjsWi1sQljerR5U1/kNH+02/tDL3vktylgZTIHTueadr5FM4a79kgJbwxwojgCICUCI4ZZiQfAZASyfchLAACRiMAUkKve0z70p8UUkJGAqh1GuwRCnKMjBCwd5uQngyTvqHuBrcOG7LopCQF5BxJVNhbi7q1BGViYf+Bj0S0BJMq/HCRTTVSQiUj+HWZ8sH/5tQMJi4kYcMEjuzEwWkmMlLiiy9OiOKh/PQbXJqx4REpoff971ca0jf8IhVuHEiJcPhhtjMCICWwMwoRAZASheh12AwEIkQApIResEFK6MPTq9ClU0oGr+5GSnAKg1ukhIxqUImNYaMesTpj2Dt4uBWHdIuskHJlZAIXweQIBi54KR91Dbt8JjxWPLvR0kfaae8+wrYv/P0aql2ruij8OXPqSGJSgutKcPtQjjrhDiN2fVQ99HlQvyRESoTD1LTzKZw13rOTQEqcPHWapj++kIbefgvVuPB8OvrJZzT3iWXUpeP19MjsJ2j2Q/eK36vP4pXP074DH1LpiMGuIGx7dRdt3Poqjf5FfxoxcQaVL1xpjZ085i5rLstq+P3vidf2v/936tv9pgoy3/7bAZr1m8X02T++oOF39KLia1oQ/+6tvfup4w2tLP1f+OOfLFm8tl0/nrN2wzYaMaQPlc2aRxOm/dpR/62r5os1TH1ASpjqGeiVTwRASuQTXcgGAkAgazhvx44dacyYMdShQwcg5RMB0770JyVSwie8GFbgCICUCLcBTDufwlnjPdtkUoJJg9bdKnb3+cOCGfSX3e8KMkFEgz08hx4cO8yRmGAEnEgEiQyvsWrdZvHjoNu6UeMfNBBkAhMD1/7wckFC8MOkBJMATBQ0alC3gkw5564BPWji9HJLFhMatWtWp+2vvyFq/NSueaGYK4kOO7GgkhKzfrOEOrcvFjqpD+vQrvU1ICW8t3dkIwrt3IgM2IQtBFIiYQ6DukAgaQggUkKvx0z78AYpode/kBYvAiAlwuFv2vkUzhrv2SaTElJ7e6SE/Wc3K3mcShB4jevW6QZauHwN9e95M73y5786khIsk8fs3f8BTZvr3EKY1+FICyYv+g3PTAfj15hUefx3y2ndppctlUr6dxfkBRMO/HRqex01/P7FGdEbqv6IlPDe21GOKLRzI0psk7QWSIkkeQu6AoEEIgBSQq/TTPvwBimh17+QFi8CICXC4W/a+RTOGu/ZppISfPm3p1Rks4Yv9bMeGEVFVSpbwzjNo++w8SKiwCmNQ0Y9dO/cTpAXfkgJNx1kSglHb6g68Pglz7xAq9e/ROefV03ouHLtRtqy48/i3/ZIDz+REt5ejX8E0jfi9wE0iB4BkBLRY44VgUBBIQBSQq+7TfvSD1JCr38hLV4EQEqEw9+08ymcNd6zTSUlVM1l7QdJLPiNlHBKzVDlSuKjx83t6cWXdmQlJS6+qCY9/eyLInLBKUrBiZRQ5XP6RvNml9LHh4/S8ROn6KNDR+jeYT+nI8c+pflPraIHRuDcmM4AACAASURBVJcIMsONlODfq+O8PRvvCJAS8eKP1eNBIFGkxJIlS6i8vJx27NhBp0+fjgexAKtWrlyZWrZsSSUlJdSnT58AM/0NZeel5Tlz5oynKUmw148dnoambABICb0ONe1LP0gJvf6FtHgRACkRDn/Tzqdw1njPNpmU4LoLTukPnBrB9Rm43gI/Tpd1SQhwKgY/TkUlJToyzcNPpISsBcG1JlTdZk4aSV8cPyHqXMhICVkTon7dOqLQ5cDeXWnthq0iPWT95u3U5JKGgpRQi2cy+dCrZBy1uvoKOu/caq4pIk6RId7ejm4ESInosMZK5iCQGFJi9OjRtGnTJiotLSUujldUVGQOii6anDx5ktavX09lZWXUtm1bmj59ulad0/Lh79cOv+O0ghxAmOn6BTBF61CQElrhzFo4VO9K/qSBlPCHE0YlAwGQEuH8VGifgyaTEuxJlQSQxSbV3zPZ4FT0kaMkuPYDp0jw41ZbguUfP3FS1IhgUoLlcVePP257zbGmhFqgUo3YqFpUJaNDiJ3wkEU05e9l9Af/zPpfdWUTK12FSRcmN1SdESkR7n2d79mFdm7kG8+kyk8EKcEREjNnzqQtW7YkgoywbwYmJ9q0aUMjR47UGjGRljexXzv8jovrzWi6fibigu4bwb1i2j4DKRHch5hhLgIgJcL5xrTzKZw13rNNJiVkTQi1ICRbxOkT/Pz3/KV0eeNGFepFyHmc7iG7W9hTQCQyHM3wk+IfiboPlzSsRx8fPka3du3g2n1DkhIc4dD62v8QrUllq1J7twynlp4ywoHX55oZ/Ki1MGT6xoBbbhZdRRr/oCGNnDQzw5Etml1GS8unVujK4e3t6EYgUiI6rLGSOQgkgpS44YYbxIW+W7du5iAXUJNVq1YJYmXz5m9bJ+l40vLh79cOv+N0YJuLDNP1y8UmHXMQKaEDxe9kmLbPQEro9S+kxYsASIlw+Jt2PoWzxnu2yaSEqr1srblizQaR/lCz+gVW2gYXi2RyQKZOuLXttP+eyQvZTpQjHWRhzUWzyzJafqrREfzvfQc+FKrxepyWIUkJfo2fH7VoJnTj1p8P//cCmv3QvSTls+5MlEjihDtsOJESnJrCMpgoubzxDzLaf7q1CvX2dnQjQEpEhzVWMgeBRJASVapUoU8++SSRURLS1RwtceGFF9KpU6e0eT8tH/5+7fA7ThvAAQWZrl9Ac7QNBymhDUohyLR9BlJCr38hLV4EQEqEw9+08ymcNd6zTScl1C4cMkKAoxSYYOC2mbVrXkic1sFpF0wSMLFQt05tx24bUlablj8UhIGMSrhrQA8xT/7eTl7YSQnZOYPRlUQG68KRGbP/ZykNv6OXaCk6Ykgfi3yQ0R6cmsHpGq27DRIRH1xPQspTC11yfQpuKcqPva4GIiW893XUIwrt3Iga36SslwhSIi2bVbcduuXFtWn92uF3nOl2xKVfXOuClNCLvGnvA5ASev0LafEiAFIiHP6mnU/hrPGebTIpwWTAtLkLRarCa7t2C/KBL/EcqSA7ccgUCb7gMzHBF3kmHNwelZhgeX99+2+08423RPSFTPWQhS85SqHklw+RSgLIKAXWh8kCJhnUdqOyOKfUZ8WajRmpFpxGwjovnjOFalx4vlBT1r+oXbO6eE0tmsntQ9VaGjwekRLe+zrqEYV2bkSNb1LWAykRoad0v+l0y4sQioyl/Nrhd5zpdsSlX1zrgpTQi7xp7wOQEnr9C2nxIgBSIhz+pp1P4azxnm0yKeGtPUaYigDSN0z1DPTKJwIgJfKJrk227g9r3fIihAKkRFxgx7AuSAm9oJv2vgcpode/kBYvAiAlwuFv2vkUzhrv2SAlvDHCiOAIgJQIjhlmJB8BkBIR+lD3h7VueRFCAVIiLrBjWBekhF7QTXvfg5TQ619IixcBkBLh8DftfApnjfdskBLeGGFEcARASgTHDDOSjwBIiQh9qPvDWre8CKEAKREX2DGsC1JCL+imve9BSuj1L6TFiwBIiXD4m3Y+hbPGezZICW+MMCI4AiAlgmOGGclHIHWkxLZt22j//v3Ut29fyztHjx61fl68eDHVqFGjgufKysqoUaNGGfN0u1f3h7UOeWz3hAkTspraokULWrp0KTVu3Fg3JEKeXzv8jsuLkj6Emq6fDxPyMgSkhF5YTdtnTErgyT8Ccxb/lYb1vTz/C2EFanrT0sSjYD8nojo3olrHFAeBlDDFE+nSA6REuvwJa/whkDpSgkmHhg0bUnFxsUCAL91MVPDvjxw5QnfffTc99thjjhdsHtuuXTtrbjYIcyExgn5Yz5gxg4YMGULnnnuuoypB5TkJ8WPzrFmzqHPnzhmY5WK/G55+7ZDjvHDxt/X1j/Jrh/6VzZYIUkKvf7DP9OKZFGnwe1I8ZYaeICWi8QNIiWhwLrRVQEoUmsdhLyOQGlJCRkOsW7cuw7O9evUSf+WXT+/evcU/mzVrRqWlpRljWcb9999PDz74oGM0hRwsowsWLVoUKLIi6JfKoqIi+uc//0mjRo2i++67rwI5EVSeGykRNFIiV/t1kRJeuMT11tbhj7h0z+e6ICX0oot9phfPpEiD35PiKTP0BCkRjR9ASkSDc6GtAlKi0DwOe1NFSrAxklT47LPPaPbs2VmJBSf3v/3228QkxpgxYxzJhpMnT9KIESOobt26YnrQdI+gXyofffRRGjt2LH3zzTeCPeK1VXIiqDw3UsIrOkRGStSvXz+U/bpICS9c4npr6/BHXLrnc12QEnrRxT7Ti2dSpMHvSfGUGXqClIjGDyAlosG50FYBKVFoHoe9qSMlOE3jlVdeISYXONph7ty5Vr2EyZMnW5ERTukIDAaneBw6dMia71R7Qm6bXNIXcvlSyTocO3ZMLFupUqUMcuK8886jM2fOhNrJftI33MiMoKSMLlKC5WTDxS3dJRRQPibn4l8fYhM/BKSEXhdin+nFMynS4PekeMoMPUFKROMHkBLR4Fxoq4CUKDSPw97UkRJ8wW7evDk9//zzFinBUQA1a9aktWvXUu3atUW9CSYu7DUSOMpi+PDhNGnSJHrttdfE7lCLZdq3S66khI5td/bZZ1PXrl1pxYoVoUkJSdA8/fTTrgUvS0pKiMdx2kQYUiYbKaETl+XLl+sQF1gGLg3OkIGUCLyVsk7APtOLZ1Kkwe9J8ZQZeoKUiMYPICWiwbnQVgEpUWgeh72pIiVkakV5ebnwbKdOnQQBIX/mSAn+y74bKcFREvv27RPRFH5qS+RKSgSNbGBChfXhJx+REm5RI15vj1zsz0ZK+MFF/ZKVDRdESnh5L9rXQUroxRuXU714JkUa/J4UT5mhJ0iJaPwAUiIanAttFZASheZx2JsqUkK6UyUUOH3DT6QEp3vYu3IwScGPW7RELpfyoF8quXbCuHHjRLHLfNSUYCJn+vTpVK1aNRo5cmTWd4Sa/sIDc7FfFynhhUtcb+2g/o1Lz6jXBSmhF3HsM714JkUa/J4UT5mhJ0iJaPwAUiIanAttFZASheZx2JtaUoKJhIMHD9JFF11E69evF552i5SQERb9+/fPaAXq9nu5bXK5lAf9UunVZSKoPPuWZzKG01q4gCY/bPPEiRNp0KBBov3nqlWrqGPHjhlpG2Hs10VKeOES11s7rD/i0jvf64KU0Isw9plePJMiDX5PiqfM0BOkRDR+ACkRDc6FtgpIiULzOOxNFSmhtgTl1A2OdLBHSsjLt0xZ4BQAJjCYkHCKiJAyOaWjuLg4Y8dEQUrMmDGDhgwZUqEVqFQk7JdUtcilWlODCQkmKHbu3Cm6mDh1MsnFfl2khBcucb21w/ojLr3zvS5ICb0IY5/pxTMp0uD3pHjKDD1BSkTjB5AS0eBcaKuAlCg0j8PeVJES0p329A3+/YQJE2jRokViSL9+/US9ifnz54sUBHuEhH1bZCMmgm4h3V8qw8hj0mHhwoXC/hMnTghSZt26dY4mtWjRgpYuXSqiJ/Lx+LXD77h86OhHpun6+bEhH2NASuhFFftML55JkQa/J8VTZugJUiIaPzApgccfArNXEw3v4m8sRhE1GRyuu16SMMTnW5K8lT9deR/wiXrGT6FBv2r43Vy6x/nVL65xfu31q59ueX7X1T3Orx1+x+nWz6880/Xza4fucSAl9CKKfaYXz6RIg9+T4ikz9AQpYYYfoMV3COAMw25wQwB7A3uDEQApEeE+0P2m0y0vQigylvJrh99xptsRl35xrQtSQi/ypr8P9FpbuNI4TW38+PH08MMP0z333CM+rPmPB1zod+zYsTRlyhQaNWpU4QIEy7MiAFICG8Q0BPDZZZpHzNEHe8McX8SpCUiJCNHX/abTLS9CKEBKxAV2DOuClNALelre93pRSZ+0zz//nGrUqEFnnXUWVa1aVbSGrl69uqj38/XXX4uf42p/nD6002cRSIn0+TTpFuGzK+kezJ/+2Bv5wzZJkkFKROgt3W863fIihAKkRFxgx7AuSAm9oKflfa8XlXRK45bQM2fOpC+//NIysFKlSqKF89SpU9NpNKzSggBICS0wQohGBPDZpRHMlInC3kiZQ3M0B6REjsDlMk33m063vFxs0jHHrx1+x+nQKRcZ+dJvyZIlVF5eTjt27KDTp0/nopqWOZUrV6aWLVtSSUkJ9enTx7dMkBK+ofI1MF/7zNfiGBQpAhwtUatWrYz3Pb8PDx8+jCiJSD2RvMVASiTPZ2nXGJ9dafdw7vZhb+SOXZpmJoKUqFKlCn3yySdUVFSUWOw55PbCCy+kU6dOabMhLW9iv3b4HacN4ICC8qHf6NGjadOmTcRtaTt27Bjre4D38Pr160XXmrZt29L06dN9IQRSwhdMvgflY5/5XhwDI0dAjZZAlETk8Cd2QZASiXVdahXHZ1dqXRvaMOyN0BCmQkAiSIkbbrhBhKt269YtsaCvWrVKhOFu3rxZmw1peRP7tcPvOG0ABxSkWz+OkOA9s2XLlljJCDsMTE60adNGvCf9REyAlAi4kTyG695nerWDNN0IqNESiJLQjW565YGUSK9vk2oZPruS6rn86429kX+Mk7BCIkgJUy9nfh0c9BLnV25a3sR+7fA7zi9+usfp1s9kMi4IyQZSQu9O073P9GoHaflAgKMluBsHd9tALYl8IJw+mSAl0ufTpFuEz66kezB/+mNv5A/bJElOBCnBgJoUxu7XwbmGu/uVn5Y3sV87/I7zi5/ucbr1MzltKUg6EkgJvTtN9z7Tqx2k5QMBjpYYOHAgLViwALUk8gFwCmWClEihUxNuEj67Eu7APKqPvZFHcBMkOjGkBGNqSsE/v/7NtTCgX/nsvLQ8Z86c8TTF9ENLt3665XkCHHCAX/1ASgQE1mO4X9z1ruoubc/zvaJaCusAgUgQaHrT0kjWyeciICXyiS5k54KAaZ9dudiAOflBAHsjP7gmTWqiSImkgQt99SJg+qGlWz/d8vR6g8ivfiAl9CLvF3e9q2YnJZq2/mVUy2EdIJBXBPZs/RWBlMgdYtPOp9wtwUzdCGBv6EY0PfKwN9LjyzCWgJQIgx7mRoqA6YeWbv10y9PtLL/6gZTQi7xf3PWuClIiKjyxTrwIgJQIh79p51M4azBbJwLYGzrRTJcs7I10+TNXa0BK5Ioc5kWOgOmHlm79dMvT7TC/+oGU0Iu8X9z1rgpSIio8sU68CICUCIe/aedTOGswWycC2Bs60UyXLOyNdPkzV2tASuSKHOZFjoDph5Zu/XTL0+0wv/qBlNCLvF/c9a4KUiIqPLFOvAiAlAiHv2nnUzhrMFsnAtgbOtFMlyzsjXT5M1drQErkihzmRY5A0EOrrKyMJkyYkFXPFi1a0NKlS6lx48ah7Qmqn9eCfuS9/fbbtHbtWhoxYoQljjtj8M/bt2/3tG3x4sXUsGFDKi4u9lKnwut+9ONJICUCQ5t1gl/c9a4KUiIqPLFOvAiAlAiHv2nnUzhrMFsnAtgbOtFMlyzsjXT5M1drQErkihzmRY5A0EOLSYl27dplvXDPmjWLOnfuLEgJlcRYtGgR9e3bN5CNQfWbMWMGDRkyxLXFnx9527Zto/3791u6Mskwbdo0QUbUrFlT/L60tNTCwE5COP3MRvux3Y9+ICUCbSFfg/3i7kuYhkHcfQOFLjUACRFGIABSIpwbTDufwlmD2ToRwN7QiWa6ZGFvpMufuVoDUiJX5DAvcgSCHlpBIiWOHDlCGzduFBf4o0ePVrjM+zE2qH5FRUX0z3/+k0aNGkX33XdfBXIimzwZDVFeXp6hWq9evQQhIZ9OnTqJSAh+mIBZuXJlRmQESAk/njVrTNB9lm/tQUrkG2HIjxIBkBLh0DbtfApnDWbrRAB7Qyea6ZKFvZEuf+ZqDUiJXJHDvMgRCHpoBY2UUA3iuY0aNfIVMSDnBdXv0UcfpbFjx9I333wjUhw45UIlJ7zkMTExceJEeu+99+iBBx7wlYKCSInIt632Bb32hfYFPQSClIgacayXTwRASoRD17TzKZw1mK0TAewNnWimSxb2Rrr8mas1ICVyRQ7zIkcg6KHlh5RwMiKqSAleu0aNGnTs2DGhRqVKlTLIifPOO4/OnDnjijPXk3j66afp888/p0GDBtFrr71G/fr1E+NLSkpEZARHY6hEBP9bjnET7Dd1xa8/so3r2LEjjRkzhjp06BD5fkrqgn5xj8o+kBJRIY11okAApEQ4lE07n8JZg9k6EcDe0IlmumRhb6TLn7laA1IiV+QwL3IEgh5asl4EX9zdCl6ql3c2SF7a7b/3Yyzrp+M5++yzqWvXrrRixYqspATrevz4cdq7d69FSvD6N954I82dO5datWpFhw4dEiq5FbNE+oYOj0UrI+j7IN/agZTIN8KQHyUCICXCoW3a+RTOGszWiQD2hk400yULeyNd/szVGpASuSKHeZEjEPTQUotYBlWWL+tbtmyxog38zA+qH8vkYpQcmcFP0EgJtWYGdxHhqAMucskPkyo9evQITEr4sVOO8WsvIiWCoOo91i/u3pL0jAApoQdHSDEDAZAS4fxg2vkUzhrM1okA9oZONNMlC3sjXf7M1RqQErkih3mRIxDk0OJ6C9OnT6dq1arRyJEjs+o6efJkUeBSfbirBV/6mZzgFAs/TxD9WB7XlBg3bpwodslzg9aUYBmyroRM3+DfuUVKXHXVVQKToUOHWjbZIyWYIOEoi9GjR4vUj2yPX3tBSvjZPf7H+MXdv8RwI0FKhMMPs81CAKREOH+Ydj6FswazwyDAHcbGjx9PDz/8MN1zzz1We3BZT2vKlCmi0DceIIBzA3uAEQApgX2QGASCHFpcb2Ht2rXiom+/vHP7z1WrVonIAnnx5sv5vn37LHKCCQl+7GSFjku6lBGm+4aUoXbhUDtvOEVKgJRIzFbXQgZFZS1IiaiQxjpRIABSIhzKQT6nw62E2aYjwPWu+I86Z511FlWtWlVEhVavXl38MeXrr78WP5977rmmmwH9IkAA50YEICdgCZASCXASVPwWgSCHllrkkj/4hg8fTpMmTRIdKvgDcefOnTR79mzxn4yEUNMhcq0pka0wpd2P/FeEIUOGuH4oZ7NXJSM4dYPbgHKhS35kpISMdpDRECAl0vFOCvI+iMJikBJRoIw1okIApEQ4pE07n8JZg9lhEeBo0JkzZ9KXX35pieJUVY5gnTp1aljxmJ8SBHBupMSRIc0AKRESQEyPDgG/hxZf2BcuXEj9+/enEydOiLae69atc1RUXuiZrAj7+NXP7zp+5NnTN3bt2kXr168X9STatWtHrVu3Jmlj/fr1ReRIeXl5VhX8EjJ+9PMik9B9w+9u+G6cX9yDS85tRtJIicVPPy8M7XvrTeL/J0+epumPLaShd95CNaqfnwECj+03ODO1y45Sp/bX0eL5U+jI0U/prXf2U8d2rSx5L/zvn6hh/e+JKRs3v0ql9w7OmP72uwdo7fptNGJYHyp7ZB5NePDXjk7Yun4+NbmsIc397TIafXd/KiqqTOpcddKsOUuoc8dianxpA2HbxIfKadCAbuJnfnje/CdX0QP3lQg56mN/7eixz6w13/vgYMa8bdt3UeuOgyroW3JHd+rRrT1tf+UNoasbtrnttvzPAikRDmPTzqdw1mB2WAQ4WqJWrVp0+vRpS1TlypXp8OHDiJIIC26K5uPcSJEzQ5gCUiIEeJgaLQKmH1q69dMtz4+3UFPCD0rxjoljX2SzOEmkhLyksz3THn3S1Sy+WM+aOopWrt4oxkgCw04E2AkNJjFq16ouLuTVqlWl2rUuFHP590xOFLdq4UpKqGSCOojJinY3XCPmMhEgyQ1VF5VoUeXIMXfd0YNGjJtB5f+z0pX0YPmSlLh3xM/p/slzXMdLfE6cPCXGPThhmCBkpG5ST5AS8Z0V9nMiqnMjqnXiQxYrB0VAjZZAlERQ9ApjPM6NwvCzl5UgJbwQwuvGIGD6oaVbP93ydDvSr37ZxiFSIrhX/OIeXHJuM5JESqiXemmtV6SEX1KCoyKcoir+8NQMenzeclq34WULYL7UM3nBhAM/HG3RsMHFnqQBj5WkA/9bRlk4kRL169WxohSYMNj/3t/pxv/744xoCxUDO2lhj86wR0rwXI6kACmR2/sm37NASuQbYcj3i4AaLYEoCb+oFdY4077XFBb65lgLUsIcX0ATDwRMP7R066dbnu4N5lc/kBJ6kfeLu95V3aUlhZRg8oEv3m1+/ENxOe87aHwGUSAtbHHlZbT0iaki3SFI+oZM/Viy7AVa/fxLdP551axoiy1/+rP4txpZwOPVaAe3SAk35L0iJTidhJ+rWjSh9Ru30xfHT2SQJjLtRE1ZYXulrjt3veWYnsHz5s8ppbJfzXMlUSbff5dYG5ESUb0LK64DUiI+7LFyRQQ4WoLraHG3DdSSwA6xI2Da9xp4KB4EQErEgztWzQEB0w8t3frplpcD5Fmn+NUPpIRe5P3irnfV5JMSkmBYNK8sI2KALZN1D6oWVcmowWCvP5EtfYPnMukh6yk0v+JS+vjQUTp+4hR9dPAIcUoEEwVqPQc3UsJe20ESKpx+wfpzSogXKfH0yhdFjQqVZJHEhxpFoZISsq4FkwqcMuJUM0IlM1Q9mcRA+kZU7zrvdUBKeGOEEdEhwNESAwcOpAULFqCWRHSwJ2Yl077XJAa4lCmaKFJiyZIlokjfjh07MormmOoTDlNr2bIlceHAPn36aFeTnZeWx0/XCtMPLd366Zane6/41Q+khF7k/eKud9XkkxK/feIZkTLBEQNBIiXUWhDZSIknn1ojCkzKC//Afl1p7fqt1L/3zSJSgQtVMinBaRRqjYpet4+jVtdcQeedW821zoVTjQsvUoIjPTi9gskSWRhTEiIqESNJCZbHRTFZ/0sa1aOPDx2jRv9e19KV59hTXZjEkGOCpsZEtT+DroNCl0ERyxxv2vkUzhrv2W/NS8/3MG9rMSJKBJoMPhPlcrGuVWjnRqxgG7x4YkgJbm+4adMmKi0tJc5DLyoqMhjWb1XjzgjcCYFbTbZt25amT5+uVee0vIn92uF3nFaQAwjTrV+VKlXok08+MXKv896+8MIL6dSpU54IgZTwhCjQAN37LNDiDoOTkr7BqvPFWSUF7Bdtp0gJv903+HLv1O1CrstRBPxwBAKnVMgaDhyVwGkOapcMtw4ZauSGSgI41ZSoWeMCK0WFoyWGDu5JJfc85Ohurh/B+l1Uuzrt3feB6MyRLX2Du42ohS1VG7nDCJMhMj1GEir2Th9h912+5oOUCIesaedTOGu8ZzMp0eTmb9tx4wECuhB4a82PCKSELjQhJykIJIKU4AgJ7nO8ZcsWIy9oXs7mC1ybNm1EX2adERNp+fD3a4ffcV7+yNfruvW74YYbxJ7p1q1bvlTOWe6qVavEe3Lz5s2eMkBKeEIUaIDufRZocYfBSSUlZFcLe6tN1US18wX/PlukBLfrtLf0lBdynsskBD9cW0Je0KW8AbfdLApGNr60IY0cNzMDZXuNi+PHT4rX/71hXTp0+JjV3YN/xxEYMkXjtT/vpoVPrRXtSu2tTp2Ke65as5kafP9i4poY9nahfutduHUZCbvHopwPUiIc2qadT+Gs8Z4NUsIbI4wIjgBIieCYYUbyEUgEKWHy5czvFghyifMrMy0f/n7t8DvOL366x+nWz1QyLijJBlJC707Tvc/CapdUUoLtljUUZJ0GFQuni3s2UoJTMyZNLafZ0+8VKRNMQnDqBrfalJED3GHDiZTgtA9OreC0icub/iCjdahKCMi6GDKyQbYKdWsJyvbw2sNHP0KTxpUQExVcyJJbeDKJwvNn/2ap0FkW3mQ97r6rNw0eXuZYCJRlSrKFa3HYiRj7fkKkRNh3WG7z7edEVOdGVOvkhor+WSAl9GMKiUQgJbALChGBRJASJoex+900QcLd/cpMy4e/Xzv8jvOLn+5x+dDPpLSlXNORQEro3Wn52GdhNEw6KVGtWlVa978vi5acKmHA6RELf7/GkUQYMezbGkF24kJNW+DX1YKRTCRw6ojsbiHrPHBbzy++OCFqM/BjTxdRIyVk5AanZqgFM91agjIxsv/ARyJagkkIfji9QtVbJVPshTglccNpHfwwyZItDQOREmHeSXrngpTQi6ebNJAS0eBcaKuAlCg0j8NeRiARpIRpX8Jz3Tq67dAtL1e7ws7za4ffcWH1yXV+vvQzpcBrroVbQUrkuqOc5+Vrn+WqZdJIib/u+Zuol8CdLJgo4EgGfjgKgotO7nrjHUEm8CMjESQ2MlKCIxvkWDVqYMWzG612ojyHiQ0mEtQUCkl2cNFNfm3m1JGClOC6EitXbyS1sCbLsKdOuNWtkDrK8Ux2sJ5c8FI+ahcPpwgGWcuiQ7uW1LHbMDFNYqTiw8QGp44whn6eJEVLIH3Dj0fdx5h2PoWzxns2SAlvjDAiOAIgJYJjhhnJYMOETQAAIABJREFURwCkRIQ+1P1hrVtehFBkLOXXDr/jTLcjLv3iWhekhF7kTXsfJImU0OsJSEsjAiAlwnnVtPMpnDXes0FKeGOEEcERACkRHDPMSD4CICUi9KHuD2vd8iKEAqREXGDHsC5ICb2gm/a+Bymh17+QFi8CICXC4W/a+RTOGu/ZICW8McKI4AiAlAiOGWYkHwGQEhH6UPeHtW55EUIBUiIusGNYF6SEXtBNe9+DlNDrX0iLFwGQEuHwN+18CmeN92w7KXHy1GmaOL2cBt3WjRr/4NvUqcUrn6eG3/8eFV/zbaqYfLa9uos2bn2VRv+iP42YOIPKF36XDjV5zF1UOmJwxnz+Yf/7f6e+3W+qoNjbfztAs36zmD77xxc0/I5eYi3+3Vt791PHG1rR9McX0tDbb6EX/vgnoQs/vLZcQwrkOWs3bKMRQ/pQ2ax5NGHarx1B2LpqvrWGHC8HMgZsz/bX36Sl5VMtHFRBjMm+Ax9WWN++GOsz/6lV9MDoEiqqUpmOfvIZzX1imcDsvQ8PZrzGeLbuNqiCviX9u1OPm9vT9tffEPMkFjUuPF+MlWt0uL4ldez9bdqa+vD8WQ+Mop1vvOUon8dKPPjfjFu71teEwgekhPd7DyPShwBIiQh9qvvDWre8CKHIWMqvHX7HmW5HXPrFtS5ICb3Im/Y+ACmh17+QFi8CICXC4W/a+RTOGu/ZXqSE20VZXmL59VXrvm2tLYkMSQxc+8PLBQnBjyQ1+MLbqEHdCsSEnHPXgB4ZpAhf/mvXrC4u5NXOqUq1a14o5roRJSopMes3S6hz++IKpIJ66Wb9VaKE5U6bu1CQETWrX0B9h40XxIOdkGGbeCw/TiSLRF4SBvcO+znd//CcDOLGiTg4cfKUGPfg2GGCkJHEi0oAqaSESiIdOfZpBaLGTorwmlKWSuioZAnLl6RErviAlPB+72FE+hBIHSmxbds22r9/P/Xt29fy1tGjR62fFy9eTDVq1KjgybKyMmrUqFHGPN3u1v1hrUMe2z1hwoSsprZo0YKWLl1KjRs31g2JkOfXDr/j8qKkD6Gm6+fDhLwMASmhF1bT9hlICb3+hbR4EQApEQ5/086ncNZ4z5akhLzc9vnZjbTkmRcEwfDart0VogH4krpw+Rrxl3f+yz8/cm63TjeI1/r3vJle+fNfyYmU4LE8Zu/+D2ja3CddFeRICyYv+g0vrTDmDwtm0OO/W07rNr1svcbRAExeMOHAT6e211HD71/sSgJsWPY4Pf3sixVe79W1Iy19dr0lV8rhX6g2q3arUSVyooy2UKNHmMhpcklD10gJnsvkQBBSwk6wuEVaSN1ZL0lqMIkho0TspETxtS1C4QNSwvu9hxHpQyB1pASTDg0bNqTi4mLhLb50M1HBvz9y5Ajdfffd9NhjjzlesHlsu3btrLl2d3NLxBEjRlB5ebl4qaSkhGbNmkVFRUW+dkbQD+sZM2bQkCFD6Nxzz3WUH1SekxAvm8UHyaxZ1LlzZ6pfv34o+91A8muHHOeFiy9n5GGQXzvysLTRIkFK6HWPafsMpIRe/0JavAiAlAiHv2nnUzhrvGerkRJ8MR1+3yN05gxRu9Y/onOqfvvdUKYp8AX4w4OHrMu5jHro3rmdiG7wQ0q4aaReiiXZIccySbJ6/Ut0/nnVxNor126kLTv+LP6tRhZwOoOfSAmVOGC93/vgID0wpsQxTSMbgqwzR1JwFIU9jUTO42gKqatb+gQTH/NnlFLZf81zJVGYpOFHTd/gSAqO8vhRi2YiDYTTNziiRNXFHilhjzCRP6tkiYyUuOrKJsKvueADUsL7vYcR6UMgNaSEjIZYt25dhpd69eol/sovn969e4t/NmvWjEpLMxlklnH//ffTgw8+6BhNwcQGPxyFIQmKNm3a+I6uCPphzWTHP//5Txo1ahTdd999FciJoPKctm+QSInXXnstlP1ubx+/dshxXrjE9Tb1a0dc+sW1LkgJvcibts9ASuj1L6TFiwBIiXD4m3Y+hbPGe7ZX+ob6F3+17gBLlq9xvYMXX9qRlZS4+KKa1l/e7XJYlhMpocrny3bzZpfSx4eP0vETp+ijQ0eIUyL4r/1qzQY3UsIpjYF/x9ESnx8/YUWGyMgMWYeBCZJsNTXsqSt2xGVdCyYVOCXCKZKBSYnFc6aQJFWkPUxieKVv8HoyTYWxyBYpwQQOkyhqhAnP5/UfmzKGlq5ab5EerCunr+SKD0gJ7/ceRqQPgdSQEuJQ/hep8Nlnn9Hs2bMdiYVsLnz77beJSYwxY8b4IhqYpNiyZYvvaImgH9aPPvoojR07lr755huR4sBRGio5EVSeGymRLTpEHNj/ipSwp28EtV8XKeGFS1xvUx3+iEv3fK4LUkIvuqbtM5ASev0LafEiAFIiHP6mnU/hrPGebScl+KJ+9/hpoqjkxGnfRtXKYo9q6L8ssijJCb+REvKCz3/hV1MzZk4aSV8cPyEuxTJSQl6269etI1IOBvbuSms3bBXpIes3bxepEHwRV2tCsP69SsZRq6uvoPPOreaaIsKkQ8urrqSvvvpKpJLIdBW258af/FikWLS6+ko6dOSYwMBe6FMSJqwLP25FNxnD+vXq0CUN69HHh49VqKdhx1StueFU+8E+Xo3EsEeYZPO+SrQwZvwwASEjMZiUYFyPnziZEz4gJbzfexiRPgRSRUpwmsYrr7xCTC5wtMPcuXOtegmTJ0+2IiOyXbIPHTpkzXeqPaFuAY4y4McecRH28q3OZx2OHfv2UK9UqVIGOXHeeefRGY4TDPH4Sd9wEx/U/rC4qF92suHilu4SAiZfUwvty5gvUDxqhnTs2FGQgB06dPArruDHmbbPQEoU/JZMFQAgJcK507TzKZw13rNVUoIvvL9+cgW9/bf9xKH7Jb98yFWAjCTgVAp5ceX0Db6cd+l4Pf1x22uONSXUy7B6wa5aVKVCVwle3KkbCP9eXtj533yBZn1lBxCOSuDLtdpFxClSQu3O0aLZZdSxbSuLxJAdL9xICbW2Butg71jCv2P5F9WqLi713H0jW/oGR0qohS1VGzkdQ6aKcJSDvZsG/8yFMbMV0mRMbu3aQRA2u3a/k+FXtn3O1HutTioyfYN9KbuXBMUHpIT3ew8j0odAqkgJviQ3b96cnn/+eYuU4CiAmjVr0tq1a6l27dqi3gQTF1wjQf3LP0dZDB8+nCZNmkRqmoKby5kA4fXcCmc6zWOwdTxnn302de3alVasWBGalJAEzdNPP+1a8NKpdkYu9mcjJXTisnz5ch3iAssotC9jfgFCpIRfpPyNM22fgZTw5zeMSgYCICXC+cm08ymcNd6zVVJCdrrgVAyOHOAIBfWy7RQpwdEMPyn+kSiOKaMB+PLLBRSdCl1KUkKkGlz7HyIigaMyOPLC3i3DqaWnvJCzZUxC8KMWoJTpGwNuuVlc0hv/oCGNnDSzwiVcjf6QNnJhT368IiUkQaB25XCKauDUjgb1LhbYyJagUhG3ziB2j7mljvC43y5+hppd1kh0P7HL59fdCB1+zS7XrfuGKsMvPiwfpIT3ew8j0odAakgJexHKTp06CQJCFqXkSAnuruFGSjC5sG/fPhH14FVbgi/kw4YNC9yRIpcPayZUWB9+8hEp4RY1km2r52p/NlLCT8SHil82XBApYdZBBVJCrz9yOUf0apApDaREPtGF7KgRACkRDnHTzqdw1njPVrtvcFcMrg/xyJzfWe091UupTKOQJILaKYIjHWSkwqLZZRltMtULMP+bC2fyoxZtZFJCttiUhRu51ebD/72AZj90L0n5nC7BhSUlMcAdNpxICW4FyrUZmCi5vPEPMlp6qoSAWjND7byRLVLCra2p0+9lhMbdg3rT4FFlFeo5SA9JsoWjFGR0gpv31HoXUj4XuezYe5irw9U5TqSEOlHt6JELPiAlvN93GJFOBFJDSkj3qIQCp2/4iZTgdA97Vw61qKXqev79woULA0VIyPlBP6y5dsK4ceNEsct81JRgImf69OlUrVo1GjlyZNYdLtNfwtivi5TwwiWut2pQ/8alZ9TrgpTQi7hp+wykhF7/Qlq8CICUCIe/aedTOGu8Z3sVulQl2CMlZFTCXQN6CEKiTcsfCjLCfjm3kxKyGwXLlkQGF1vkyIPZ/7OUht/RS7QUHTGkT0baAo9XC0ZywUyueyDlcU0FqRPXp+CWovzY24pyKsLvHnuAHv/dMtHtgn/myAl7JICsbyH1lykidevUduy2IS/wEgde2y1thNM6+GGSJVstiGyREk7y1YgNr0gJiYu0v/EPGgid2H9qS1C/+DBZJB9ESni/9zAifQikkpTg7hgHDx6kiy66iNav/7ZfslukhIyw6N+/f0YrUKffh01ZCPph7dVlIqg8+/ZlMobTWriAJj9s88SJE2nQoEEitWXVqlXEOf+y5WlY+3WREl64xPU2DeuPuPTO97ogJfQibNo+Aymh17+QFi8CICXC4W/a+RTOGu/ZfkgJp3oGfJHmC/Bf3/6bqJUgIxjEd7FTp0XaB0cpcF0K9dIroxSYAOBLMZMMagtLvoTz75lw4JoGK9ZstAptsmxeky/NsluF/B1HedSuWV28phbN5JoX9iKV9kgJNX1j1+53af2m7dTj5nZWtwypPxeCZKKDiRe3x05MOEUyyO4jsign13hgDLh+BZMkfh4Z+fDehwczuo9IokLWjlA7e0hseYw9ckKNiFDn2NM3suEjSQ2WD1LCjxcxJm0IpIaUUFuCcuoG/0XfHikhL98yZYFTAJjAYEKC/29/pExO6SguLhY1JCZMmJAxzKneQtjLt5w/Y8YMGjJkSIVWoPL1sB/+apFLtaYGExJMUOzcuVN0MZGdTMLaHxYXaa8XLnG9ScP6Iy69870uSAm9CJu2z0BK6PUvpMWLAEiJcPibdj6Fs8Z7tp2U8J6BEUDAGwGQEt4YYUT6EEgNKSFdY0/f4N8zkbBo0SIxpF+/fsSkxfz58wXJYI+Q8CImwmwB3R/WYeQx6cBpKGz/iRMnBCmzbt06R/NatGgRuH5GEJz82uF3XJC1dY41XT+dtgaRBVIiCFreY03bZ0xK4Mk/AnMW/5WG9b08/wthBWp609LEo2A/J6I6N6JaxxQHgZQwxRPp0gOkRLr8CWv8IZA6UsKf2fGM0v1hrVtePKiQqJcRtNBlXLpmW9evHSbqnk+dQEroRRf7TC+eSZEGvyfFU2boCVIiGj+AlIgG50JbBaREoXkc9jICICUi3Ae6v1TqlhchFBlL+bXD7zjT7YhLv7jWBSmhF3nT3wd6rYU0iQD8jr0QBAGQEkHQyn0sSAl/2HkVnPQnpXBGgZQoHF/D0u8QACkR4W7Q/aVSt7wIoQApERfYMawLUkIv6Gl53+tFJf3S4Pf0+1inhSAldKLpLgukhDM2dhLC6Weema3oZTQeNHMVkBJm+gVa5RcBkBL5xTeny7dfldLyJdWvHX7H+cVP9zjT9dNtr195ICX8IuVvHPaZP5zSNgp+T5tH82sPSIn84iulg5QAKZGPnQZSIh+oQqbpCICUiNBDur9U6pYXIRQ5kTWm22u6fib6l1vOjhkzhjp06BCXeolbF/sscS7TojD8rgXGghECUiIaV4OUACmRj50GUiIfqEKm6QgkgpSoUqUKffLJJ1RUVGQ6nq76cbeLCy+8kE6dOqXNhrR8SfVrh99x2gAOKMh0/QKao204IiW0QSkEYZ/pxTMp0uD3pHjKDD1BSkTjB5AS7qREv+GlWZ2waHYZ0jdcEAIpEc37F6uYhUAiSIkbbriBRo4cSd26dTMLvQDarFq1imbOnEmbN28OMCv70LR8SfVrh99x2gAOKMh0/QKao204SAltUIKU0AtloqThfEmUu2JXFqRENC4AKeEPZ9SU8IeTHAVSIhheGJ0OBBJBSixZskRc6Lds2ZLIaAmOkmjTpo0gVvr06aNt56TlS6pfO/yO0wZwQEGm6xfQHG3DQUpogxKkhF4oEyUN50ui3BW7siAlonEBSAl/OKP7hj+cQEoEwwmj04VAIkgJhnz06NG0adMmKi0tJc5DT0IqB5MR69evp7KyMmrbti1Nnz5d6+5Jy5dUv3b4HacV5ADCTNcvgClah4KU0Aon0jf0wpkYaThfEuMqIxQFKRGNG0BKVMT55KnTNP3xhTT09luoxoXniwF2UuLoJ5/R3CeW0ehf9KeiKpWjcVaCVkGkRIKcBVW1IZAYUoIt5oiJ8vJy2rFjB50+fVobCPkSVLlyZWrZsiWVlJRojZCQ+rLz0vKcOXPG05Qk2OvHDk9DUzYApIReh+JyqhfPpEiD35PiKTP0BCkRjR9ASoCUyMdOAymRD1Qh03QEEkVKmA4m9AMCQKAiAiAl9O4KXE714pkUafB7Ujxlhp4gJaLxA0gJkBL52GkgJfKBKmSajgBICdM9BP2AQMIRACmh14G4nOrF01RpM2bMoPHjx9PDDz9M99xzj5W28+ijj9LYsWNpypQpNGrUKFPVh14xIwBSIhoHgJRwJiVGTJxB5QtXZnVCSf/uNOuBUUjfcEAJpEQ071+sYhYCICXM8ge0AQKpQwCkhF6XgpTQi6ep0j7//HOqUaMGnXXWWVS1alU6evQoVa9enbhW0ddffy1+Pvfcc01VH3rFjABIiWgcAFIiN5xRUyI7biAlcttXmJVsBEBKJNt/0B4IGI8ASAm9LgIpoRdPk6WNGzdOdJ768ssvLTUrVaokOjlNnTrVZNWhW8wIgJSIxgEgJaLBudBWASlRaB6HvYwASAnsAyAABPKKAEgJvfCClNCLp8nSOFqiVq1aGYWduYDy4cOHESVhsuMM0A2kRDROACkRDc6FtgpIiULzOOwFKYE9AASAQN4RACmhF2KQEnrxNF2aGi2BKAnTvWWOfiAlovEFSIlocC60VUBKFJrHYS9ICewBIAAE8o4ASAm9EIOU0Iun6dLUaAlESZjuLXP0AykRjS9ASkSDc6GtAlKi0DwOe0FKYA8AASCQdwRASuiFGKSEXjyTII2jJbgbB3fbQC2JJHgsfh1BSkTjA5AS0eBcaKuAlCg0j8NekBLYA0AACOQdAZASeiEGKaEXzyRI42iJW265hZYtW4ZaEklwmAE6gpSIxgkgJaLBudBWASlRaB6HvSAlsAeAABDIOwIgJfRCDFJCL56mS3v77bdp9uzZ9Oabb9IVV1xBw4cPp8aNG5uuNvSLGQGQEtE4gEkJPP4QmL2aaHgXf2MxiqjJ4DMFAwO+1xSMq7Maiu4b2AdAAAjkFQGQEnrhxYe3XjxNlbZjxw6aM2cOrV69moYNG0a33norPf300+J3Xbp0Eb9r2bKlqepDr5gRACkRswOwfAUE8NmFTeGGAPYG9gYjAFIC+wAIAIG8IgBSQi+8+PDWi6dp0tavXy8iI/7yl7+IqAgmH4qKiiw1T548KYgJHtO8eXMxpmPHjqaZAX1iRgCkRMwOwPIgJbAHfCOA7zW+oUr1QJASqXYvjAMC8SMAUkKvD/DhrRdPU6RxvQgmGj799FNBNNx5550Zqu3Zs4eaNm2a8bvf/va3Ys4FF1wg5nDdCTxAQP7F6cyZ78K/ozo3oloHXk4eAtgbyfNZVBpjb0SFtNnrgJQw2z/QDggkHgGQEnpdiA9vvXjGLU0lFmSahqrT66+/Tr/5zW+Ia0twLYkhQ4bQ1VdfnaG2F6ERt41YP3oEECkRPeZYMTsC+OzCDnFDAHsDe0OS6Vyl54zKqIeFxu/m8jsurD6YDwSAQHwIgJTQiz3OTb14xiHt1KlTIsIhWwrGM888I8iI3bt3CyKiR48etGLFCvG7Zs2aid/97Gc/y1DfnvrB0RNVqlSJw0SsGTMCICVidgCWr4AAPruwKUBKYA9kQwCREtgfQAAI5BUBkBJ64cUXO714Rint4MGDFhnRtWvXCsUqmaxg0oH/45QMJh4GDBhQQcUnn3xSjOFUDx7D/6nkgyyS+eyzz4q0Dv6vTp06UZqKtWJGAKREzA7A8iAlsAd8I4DvNb6hSvVAkBKpdi+MAwLxIwBSQq8P8OGtF88opMm2nhwZIUkCta3nO++8Y5ERP/3pTwXJ0LZtW0/VNm3aJOY999xzFjlx2WWXWfO81vVcAAMSiwBIicS6LrWK47Mrta4NbRj2RmgIUyEApEQq3AgjgIC5CICU0OsbfHjrxTOf0uxtPe0RCxs2bBCkwosvvmiRCo0aNQqs0r59+yxSo0OHDkJW+/btLTkyQoO7djDpwXqgnWhgmBM1AaREotxVEMris6sg3JyTkdgbOcGWukkgJVLnUhgEBMxCAKSEXn/gw1svnvmQ5lXbYcGCBYJEOHHihEVGnH322aFV+eqrryxyomrVqkL2wIEDLbl+almEVgICjEAApIQRboASCgL47MJ2cEMAewN7gxGInZSAG4AAEEg/Am6FdDt27Ehjxowh/usuHn8I4MPbH05xjMrWBeOjjz6yCIOrrrpKEAZdunTJm5qrV68W6+3cudMiPi6++GJrPbQTzRv0RggGKWGEG6AESAnsAR8I4HuND5AKYEispEQB4AsTgQAQyIIASIng2wMf3sExy/eMbG09X3nlFUEOPPHEE4IcKCkpoRYtWuRbJUv+rl27qLy8XOhw++23Cx2uvfZa63W0E43MFZEuBFIiUrixmA8E8NnlA6QCHYK9UaCOt5kNUgL7AAgAgdgQACkRHHp8eAfHLB8zvFIhli9fLoiAvXv3WpEK1atXz4cqvmQeO3bMitS45JJLhE49e/a05nqlnPhaBIOMQQCkhDGugCL/QgCfXdgKbghgb2BvMAIgJbAPgAAQiA0BkBLBoceHd3DMdM7I1tbz+PHj4uLPkQncgpMv/n369NG5vBZZS5YsEXp+/PHHFmFyzjnnCNloJ6oF4tiFgJSI3QVQwIYAPruwJUBKYA9kQwCkBPYHEAACsSEAUiI49PhiFxwzHTOytdfcs2ePFYXQvXt3cdFv06aNjmXzKmPLli1C75UrV1rkRNOmTcWaaCeaV+jzLhykRN4hxgIBEcBnV0DACmg49kYBOTuLqSAlsA+AABCIDQGQEsGhx4d3cMzCzMgWObBu3TpxqX/ppZesS32DBg3CLBfL3AMHDlikyvXXXy9s6dSpk9Alre1Et23bRq1bt/aF99atW6m4uNjXWFMGgZQwxRPQQyKAzy7sBTcEsDewNxgBkBLYB0AACMSGAEiJ4NDjwzs4ZrnMyFZjYd68eeIS//XXX4vClXyJZ78k/eEuObIo5llnnSXsGjx4sDDLq4ZG0m1n/cvKyoQZpaWliTcHpETiXZg6A/DZlTqXajMIe0MblIkWBFIi0e6D8kAg2QiAlAjuP3x4B8csyAy3bhQffPCBFU3QqlUrcWHv3LlzENGJGrt27Vph7/bt260okHr16gkbsnUbSZSR/1KWU1V69epFTZo0oXbt2ok2qpx+07dv3ySaI3QGKZFY16VWcXx2pda1oQ3D3ggNYSoEgJRIhRthBBBIJgIgJYL7DR/ewTHzM8Ptov3yyy+Ly/lTTz1lXc6vuOIKPyJTMebNN9+0yJjbbrtNYHDdddcJ25LeTvTo0aOCeGjYsCHNmjVLkBH79+8Xv1u8eDH169ePFi1alEhyAqREKt5+qTICn12pcqdWY7A3tMKZWGEgJRLrOigOBJKPAEiJ4D7Eh3dwzNxmZEtJWLp0qbiMv/feexYZcf755+tbPGGSPvvsM4ucqF+/vsCEowv4SWI7UU7V4LoSTD7UqFFD2ME/S1JCuiepKR0gJRL2BisAdfHZVQBOztFE7I0cgUvZtFhJiQceeIAmTZokIOX/T5w4UfwbvwcO2A/pe184nZ0gJYJ/ouDDOzhm9hluxRuzXbzDr5oeCW6EDdqJmuNjkBLm+AKafIsAPruwE9wQwN7A3pBnBFfnOsMFrnQ9fjcXkw+SiNC1NuQAASCQHARASgT3ld/zNbjk9M9wa3OZLUUh/ajkbqFbaktS2ol6deBo0aIFMQHTuHHj3EGKaSZIiZiAx7KuCOCzC5sDpAT2QDYEYo2UwAGFzQkE0o9ANvIRpERw/+PcDI6Z21/wsxVzDL5K4c5wKwIqI1Jmz55NXbt2pWHDhlHLli2NAYpJiY0bN7p22+A6E1zMFKSEf5fhfPKPVdpHzpgxg8aPH08PP/ww3XPPPVakxKOPPkpjx46lKVOm0KhRo9IOA+zzgQDODR8gFcAQkBIF4GSYCATiRCDbhw1IieCewYe3f8ycah1UrlzZte2lf8kY6YaAU7vU06dPExMT/F/z5s1p+PDhxO/9uB+QEvo9gPNJP6ZJlfj555+Lei3cXrhq1arEhWWrV69OJ0+eFO2U+edzzz03qeZBb40I4NzQCGaCRcVKSiB9I8E7B6oDAZ8IgJTwCZTPYfjw9gbKqSvEgQMHrEKN119/vSjU2KlTJ29hGJETAuvWrRN4v/TSS1ah0AYNGhjVThTpGzm5NusknE/6MU2yxHHjxtHMmTPpyy+/tMyoVKkSjRw5kqZOnZpk06C7RgRwbmgEM8GiYiUlEowbVAcCQMAnAkjf8AmUz2H48HYHSm3ryX+Nv+WWW2jLli3icrxy5Urrcty0aVOfaGNYWAT27NljkUHdu3cXPmjTpo0R7UTTHClhP3ejOjeiWifsvsT8aBDgaIlatWoRR0vJh6PVDh8+jCiJaFyQiFVwbiTCTXlXEqRE3iHGAkAACLghgPSN4HsDH96ZmLm19VyyZIm4DH/88ccWGXHOOecEBxwztCBw/Phx4Y/y8nKqU6eO8EmfPn0S2U5UCyB5FPLNN9+IcHl+b8gnqnMjqnXyCB9Ea0ZAjZZAlIRmcFMiDudGShwZ0oxYSQmkb4T0HqYDgYQjAFIiuAPx4f0tZk5tPS+99FLrr/KXXHKJuPj27NkzOMiYkVcEli9fLvy0d+9eizB69913ac6cObR69WpREJMjXZhmuHDaAAAgAElEQVS8wBMcgb///e+ioOj7778PUiI4fJihGQE1WgJREprBTYk4fK9JiSNDmhErKYFNGNJ7mA4EEoAA0jf0OqnQz02ndpP8F2H+CzxfdG+//XZx0b322mv1Ag9p2hF45ZVXhM+eeOIJ4bOSkhKqUqWKVRSTiQn+L4ndL7SDFUDgiy++KDoebNiwAaREANwwNH8IcLQEd+PgbhuoJZE/nJMqudC/1yTVb7r1BimhG1HIAwJAIAMBFLrUuyEK9cPbqa3nq6++Ki61O3futP7ifvHFF+sFHNLyjsBHH31kRbhcddVVwpfXXHONRU6Y2E4076CEWOC+++6j//N//g+VlZWBlAiBI6bqQ4CjJQYOHEgLFixALQl9sKZGUqF+r0mNAzUZEispgfQNTV6EGCBgMAIgJfQ6p9A+vO1tPfmv6U8++aS4xHLePF9g+cuun4db0PXt25e4M4TTw904Fi9eLNrYeXVmUOdv3bpV/Lhx40YqLS3NEO1WTDGbfJZXXFws5PDFsl27dtbP3E5v+vTpNHToUKHnrFmzqHPnzq7RBDx+xIgRVLduXUs3Xnv//v0CC6eH1/zwww+F7KKioqzQOsnyKiCZTSBfWti3J06cEL4dMGCAiIIxrZ2on/0W15hGjRrR0qVLBbEjn6jOjajWiQtb+7pvzfs3U1SBHilDoMngMymzyN2cQjs3CsaxAQ2NlZQIqCuGAwEgkEAEkL6h12mF8uFtb+vZvn1766/pHTp0EBdW/l2Qh0mJ+++/nx588EFxoVcf+2Xf7bLOv7cTD3KsnUDg33td0J1eZz3nzp1Lo0ePFgSEGylx5MgRmj9/PvF7zI08YJKlYcOGQsWFCxcKouHXv/61K5GRjSxRSRtps0qKyH+zXk4ETRBfceoBkxOcisC+5v/4d0xOXHDBBaLuxK233hpEZEGMZR9s2rSJVq1alWFvVOdGVOuY4kwmJZrc/Jop6kCPlCDw1pofEUiJlDgTZvhGAKSEb6gwEAgAAd0IoNBlcETT/qXf3taT28nx5fS5556zLqeXXXZZcOCIKEikhLoA17Ho1asXNWnSRBAEnC7CbS3tkQZOxEY2UkIdzxf5tWvXiqgGJ1KiZs2a4vW77rrLipRg4mLChAkVsJg8ebIgTuxRDPwzX1Y5+mTXrl3WPI4+4css28Vzq1evLi7/kriR0RZ2mxkXSYpwZIMkUlhOWFJCKvfOO+9YZNRPf/pTsQe4nSDr9+mnn4qaE3feeWdO+yFtk9asWSPa4HJa0+WXXw5SIgIHg5SIAOQCXAKkRAE6HSZTrKQE0jewA4FAYSMAUiK4/9NISvCllzsvqCH63F2DyQi+eMq/lHMRxDBP0EgJSWJwpIG8tMu0B45A6NevHy1atKgCOSFfc9NVpmfIKAaZqiF/ZvLDHilhJyWaN29O//mf/0lqqocateAU8cC67tu3T5AVvBY/cp333nsvg2BgwoWJDV6XCRn2j9RT2sUyWJ4kQFq3bu1oshNGQf3IxUx5P/B/HCnBe4K7c/Ce+ctf/iLICY6e8Eo3CbpuUsaz7zkKiCOMbr755gpqR3VuRLWOKX4BKWGKJ9KlB0iJdPkT1vhDIFZSotA+vPy5BKOAQLoQQPqGXn+m6dzcvXs3LVmyRFx4u3TpIi5T3CaSL57NmjUTF8+f/exn2gAMEinBqRjy8i4jBpzqJ/C4r776ig4dOiRqH9gv4G71G9x04RSJxx57TNQEUNM37KQEF47jtqfnnHOOIEWY2Jk4cSINGjRI1JfgiAgm/dRLOq/5yCOP0D/+8Q8RkcGPW/qHSmqoxId0htSfiQrWU13bK2UlrEOfeeYZsUd4//Ae4VawHEkj24n26dNH7J+0Pt98841oifvXv/6V/vjHP9Lvf/97uvLKK+mhhx6qECEhMYjq3IhqHVN8C1LCFE+kSw+QEunyJ6zxhwBICX84YRQQAAI5IoBClzkC5zItTV/6f/KTn9CxY8fERfnGG2+ktm3biss9dw/gKISkPW6kBdvhVoeCX1MjJjglgp+nn346KynBhS75WblypUhfUFM+mIiQqRV8QeeLqz3tg9NQ+JFpFkyuqKkgMgWExzi9xsUUOQWEu51woU2ZesLj801KyH3BBBBfxGvXri3qKLzwwgt07733CtKFI1rS+lSuXJk4rYnTmH784x8TdydRi1o62R3VuRHVOqb4FqSEKZ5Ilx4gJdLlT1jjD4FYSQmkb/hzEkYBgSQjAFJCr/fS9KXfHinBNQPefffdvERKeKVUqF5SazK4pSTw+BYtWoiIBo5MkJdxtasFX875Qs/RD9zxQ3b24LGyToVa20HK5MgRJguyRUrYu29wTQp1bRk50a1bN1Hgsn///sRj+GfWi3933nnniZ/taRkSi2xdOjgSo0GDBoLwkFEX6jxdNSWc3j32SAmOGOF6CoUQKfHll19SpUqVAh8qUZ0bUa0TGIA8TQApkSdgC1wsSIkC3wAFan6spESBYg6zgUBBIYD0Db3uTuOX/qhqStg94fUXfa/X7e041Us8/5trHEjSQpIQbrUZuG6FJAfcCl1yqgXXT+BHEhwyIuL999+nSZMmZbQG5TEcRbB9+3bidA+Z2iFTL1Q5/G97RITTzlUjKHhtjpC49tprKRt5Iwtphqn3gJoS4c6RqM6NqNYJh4a+2SAl9GEJSd8hAFICu6EQEQApUYheh81AwBAEUOgyuCPS/qU/n9035MVbtth0KgapXqBzJSW4+OOHH34oimPaazpwQUYn8kAlJdRdIduMchQERzfMmzePFixYQDJSQq3t4JYiokaJcH0IWbySC0Wq0RtOpI0afWF/XZIS+YyUQPeN4GeE04yozo2o1tGDSngpICXCYwgJFREAKYFdUYgIxEpKIH2jELccbAYC3yEAUiL4biiUL/1cU4GjCmTbx/bt21vdFzp06CAKHPLvgjzycq62wMyWZuBEWqjrqekbauFKp8KQ2fRUSQN7SogkJWQUhdpGlGsoTJs2TURjcGqGGpmhylSLb8poCNaRCQc5X01BYfJD7TbChAlHQtiLeOaTlNiwYYPw94svvmh1X+HfcbcN7r7B5A63v8TjD4Gozo2o1vFndf5HgZTIP8aFuAJIiUL0OmyOlZQotA8vbDcgUIgIIH1Dr9cL7dxcv359RttHJhSefPJJcWGtWrWquLAOHDjQE2S+jMvohZ07d2ZNN1BrSmQjLdT0DflvVoRbaNprRagKsnwuFCmLedrTG5h44OgD7ubB9SjUaAZJSrAtdevWzSigKefZfy/XZjlbtmzJiOCQ9SVatmxJd9xxB7FuHEki0zFUgsXeBjUfpARHgbBvT5w4IXw7YMAAgYPaLpbJTDzBEIjq3IhqnWDW5280SIn8YVvIkkFKFLL3C9d2kBKF63tYDgQiQQCFLvXCXGhf+iV6O3bsEJETzz77rPgrOf/36quvigsskwx8geX/uBsEnmQh8NFHH1lRMFdddZXwI3eTYCKC/+PuEhwFwsQJntwQiOrciGqd3FDQPwukhH5MIZEIpAR2QSEiECspgfSNQtxysLnQEAApodfjhfal344e/3VeXlYlOcFFEPmv6UxQ3H777eJSy8UX8ZiNwCuvvCJ89sQTTwifccRIlSpVKvhXppaYbY3Z2kV1bkS1jilog5QwxRPp0gOkRLr8CWv8IRArKeFPRYwCAkAgyQggfUOv9wrtS78begcPHhSXV46e6NKli/hL+qWXXmr9xZ3bRPJFt2fPnnodAGmhEVi+fLnw0969e60IF24Fy/587rnnhC+ZcOJCnHj0IBDVuRHVOnpQCS8FpER4DCGhIgIgJbArChEBkBKF6HXYDAQMQQCFLoM7otC+9HshxFESMnKiefPm4jLL+2rJkiXi4svkBf8FngmKc845x0scXs8TAsePH7cIo4suukj4o0+fPmSvGcL+42gJPHoRiOrciGodvejkLg2kRO7YYaY7AiAlsDsKEYFYSQmkbxTiloPNQOA7BEBKBN8NhfalPwhC9nai3J2BCzsyObFy5Urrr/JNmzYNIhZjQyCwZ88ei4zo3r278EGbNm1o2bJlgkyS3VXuvPPOEKtgqhcCUZ0bUa3jZW9Ur4OUiArpwloHpERh+RvWfotArKREoX14YdMBgUJEAOkber2Oc9MbT3s7Ub7wHjhwwLocX3/99eJyzJ0t8OQHgXXr1gm8X3rpJYsMatCgATkRR/nRAFJVBKI6N6JaxxTvgpQwxRPp0gOkRLr8CWv8IQBSwh9OGAUEgECOCKDQZY7AuUwrtC/9YdBzSg2oXLmyuCxzYcyzzjpLXJgHDx4cZhnMVRCYN2+ewPfrr7+2ileePn3aMcUGwEWHQFTnRlTrRIdc9pVASpjiiXTpAVIiXf6ENf4QiJWUQPqGPydhFBBIMgIgJfR6r9C+9OtAz6mdKBdRXLt2rbhAb9++3fprfr169XQsWVAyPvjgAysKpVWrVgLLzp07i3oeaOtpxlaI6tyIah0zUCUCKWGKJ9KlB0iJdPkT1vhDIFZSwp+KGAUEgECSEUD6hl7vFdqXfp3oObUT5XaTb775pnWpvu2228Sl+rrrrtO5dCplvfzyywK3p556yiJ1rrjiCnLDOZUgJMSoqM6NqNYxBXaQEqZ4Il16gJRIlz9hjT8EQEr4wwmjgAAQyAMCKHQZHNRC+9IfHCHvGW5/wf/ss88scqJ+/friot2rVy9vgQU2YunSpQKn9957zyIjzj//fOKIFLT1NHMzRHVuRLWOKSiDlDDFE+nSA6REuvwJa/whECspgfQNf07CKCCQVgRASgT3bKF96Q+OkP8Zbu1EWYLbxdu/9HSNzEbYoK2n+b6O6tyIah1TEAcpYYon0qUHSIl0+RPW+EMgVlKi0D68/LkEo4BAuhBA+oZef+Lc1IunlObWFcItRSE/WpgnNVtqi1OXE/MsgEaMQFTnRlTrmOJVkBLBPbF45fPU8Pvfo+JrWojJRz/5jOY+sYxG/6I/FVWpHFxgCmeAlEihU2GSJwIgJTwhwgAgAATCIIBCl2HQqzi30L7060XPW5rbRdutmKO3xGSOyFYEFG09k+fTqM6NqNYxxQMqKeF0uebf3f/wHHpw7DCqceH5jmrP+s0S6ty+mBr/oIH1utPv+MW3/3aA5j+1ih4YXSIu8Oqa7314MOO1ba/uotbdBlVYs6R/d+pxc3va/vobggiY/vhCGnr7LUI/lr92wzYaMaSPNe/kqdM0YuIM2v76m7S0fGqGnnbhdsLB/jrL4vWaN7uU/nPgKFc3Th5zF5WO+LYrEtvYd9h4OnjoqOv6UsfyhSstmSxjwrRfV1ijRbPLMuSoOvO/+w0vzZijjs83PnJhkBKmvMOhR5QIxEpKIH0jSldjLSAQDwIgJfTiXmhf+vWi519atpQEp7aX7JekP2fOnHFtl5ot1SXpdheC/lGdG1GtY4rPwpISblECfPmdNL2cZj90bwaZIUmJe4f9XJAd6iVcxYSJh1kPjKITJ09ZpMhbe/fTxq2viss+Exb8bzspwb/f//7fqW/3m4Q4vqRPm7tQXOJrVr9AkAM8X0Y52EkIp59ZjpTndKl3w0AlCLaumi/WdCIfWL58XZUvbWR9pV5XXdmEJk4vp0G3daPXdu3OICA6tb2O+L9rf3i5ZR+vJ8czaZRvfEBKmPLOhh5xIBArKRGHwVgTCACBaBFA+oZevAvtS79e9IJLy1a8cd26deIS/9JLL1kFHxs0+O6vncFXi2fGgQMHrAKf119/vbClU6dOQhm09YzHJ7pXjerciGod3fjkKi8XUqJs1jwqvrYFPf3sixmkQu9uHYUav1+1voI6fLE+dORYxni+iDe5pKGV+mCPlGAhaqRGNlLijt5dqey/5lUgOXp17UhLn/1OH760N/z+xUI/Jj1Wrt2YkYrhRUrw6/x079xORF84kSqSUJGpHKpMGWkhIztYFuPZrvU1gkiwkxJOkSJq5IMkOfr3vFnMd4uU+N1jD9Djv1uWd3xASuT6TsS8NCAAUiINXoQNQCChCKDQZXDHFdqX/uAI5WdGtjaXe/bssS713bt3F5f6Nm3a5EcRjVK3bNki9F65cqVFqjRt2lSsgLaeGoE2QFRU50ZU6xgAqVAhKCnBF+hGDepmRCKo9RUkkVC1qIqQz5EOatoHX5q37PizIAR2vvGWY3oGEwfzZ5Q6kgwSN05t4EeNlOA1OSrgvQ8O0gNjSrKmaUg5QSIlZBpG/56dBSmhRiBIefb0FP59GFJCRoY4RUrIyAdJXCyaXSbUUP2hRkrUr1snr/ioexrpG6a8w6FHlAjESkogfSNKV2MtIGAeAiAlgvuk0L70B0covzOyRQ4cP37cIicuuugicdHv0+e73Oz8auZf+pIlS4SebEtJSYnQ85xzzhECODJkzpw59Oyzz9Lw4cPFf3Xq1PEvHCONRCCqcyOqdUwB2U5KcHrDuk0vW+r9YcEMen7jNhpZ0o/uHj8tI/VBpi20uvpKUd+BoyHkxV2mSDCJwY+sr8A/c50EJhU4OsApEoBJicVzplg1ImQNCiYxsqVvHDn2qYje+Pz4iQrpDWr0glcNBrtv+LLP6Rs8b/X6LdSlYxvPSImHxg2n+6bOrhCZUP6r++jjw8esGhi8loyUYNtkDQmOhhh6e08q+eVDFbaKjJSQJAMP6HB9S+GDaudUpZGTZmbMkeP5l/nEB6TEGVPe1tAjJgRiJSUK7cMrJh/7Wnbx4sViXN++fX2NP3nyJI0YMYL69+9PxcXFnnP4r26TJk0SPexr1KjhOV580JSVUaNGjRx12rZtm3id9VblsV4TJ06kQYMGUePGjX2tg0H5RQDpG3rxxbmpF89cpXnVWFi+fLm4+O/du9eKQqhevXquy4Wed+zYMYswueSSS4ROPXv2tOSirWdoiI0WENW5EdU6poDtJ1KCiQp+JFEgdZf1Cfgv83yh5pQEp6KYsjbCrV070MRp5VS/Xh26pGE9cTlXoy5Yrj29QY3MUGssSB3U8S/88U90/MRJ2rv/A4uU4HE3/uTHIkWEyRNOIeHHHt0h5WVL31i1bjN9fPgonVO1yHekhJ2kCZq+kS1SgkkYfp0xlPbY9VcjJbgGRT7xUfc0IiVMeYdDjygRACkRJdqGrcUX+n79+mXVatGiRYIUYFKhV69etGvXrqzjW7RoQUuXLhWEAM+ZP38+8aW0qKhIEAj8sDwmD6ZPn05Dhw51JSmOHj0q/krHZIYTweD0OkgJwzaZRys6REoE91ehfekPjlD0M7J1o3jllVcEGfDEE08IIoAjE/icjOrhM7u8vFzocPvttwsdrr32Wmt5tPWMyhPxrhPVuRHVOvGi+d3qfkgJt+4b9voFHI3AXTp4vKxxoNZL4H9fVKu6IA24+0a29A0mQNQaEqyxSkrIyz5HdcgoCO6KoUYadGzbiqbNfVIYKzt2BCUl7H4KWlOCu5B8dOiI0IMjLjjtQ+0WwvLdakqoazt1Bfnt4meEPCZjVFLCrfsGR0nkGx+pM0gJU97h0CNKBGIlJZC+EaWrK67FJEHDhg1dIx04GmH//v0WKaESDG6az5o1izp37ixIBDtBoBIRPH/u3Lk0evRoQVhw1MOECRN8ATJ58mQqLf2uZROTE0x0cNE5p2fr1q2+ojl8LY5BgRFA943AkGWdUGhf+vWil19py5YtE9Fgn376qSBU77zzTmvBjz76yIpUuOqqqwQ50KVLl7wptHr1arHezp07rUiNiy/+tkAdP2jrmTfojRQc1bkR1TqmgJwLKWHvQGGPYOCfFy5fQ3cN6ElLnnnBav/JkQYN6l2c8TuJg1sLUTtOflp2qt0peL5bpAR3srATBHb59s4aKinhVVOCSRfuBMKPjCaRqS5+Cl06Fa2UeMhuHSo+9k4bTnvMHjmhGx+5JkgJU97h0CNKBGIlJaI0FGtVRCBIpESu+LmlhaiER4UPTR+pJG6pHYiUyNVT+ZuH9A292Bbal3696EUjzSsVYsGCBYIwOHHihEUYnH322aGV++qrryzio2rVqkL2wIEDLbleKSehFYAAYxGI6tyIah1TgHYjJVg/vnR363SDIBg4AkIWrLS3leSfuTaE2hWC//q/Ys1G0YqTCzLKRxaCvHtQbxo8qiyjfoWKiVP0gxtmar0IteWm2nnDKVIiLCnh1X1j0Yq1FSIZ/KRv9CoZJ0xVsXMiY9TOJE8uW0Od2xeLtqcysoV/x6kd7B+OTOFuIPnGB6SEKe9s6BEHAiAl4kDdkDWDREr4ITCkWTLlg3+2p3Dw77yIAy+95Do8bt++fRlRE16yDYEeavwLAaRvBN8KhfalPzhC5szI1k6UtdywYYMgEV588UWLnOA6OkEfPgdZDv/XoUMHIat9+/aWGFmckwtYcnTGsGHDqGXLlkGXwfgEIxDVuRHVOqa4wk5KPDLnd/T+hwdpz7v7xaVYveRKUoIvyF9+9RXt2PmmVciRC1dyMUt56d3++psiVWP95u2k/lXfqTuFTOtgTDjtQ7bSdMLILVJCvWxLcoRrKPAjIyW4UwfLVjtZ5DNSwq0lqBOZsWHZ41aLVacoCCe71QgVe6SJSn5w7QluXfqPL47T/CV/sMijfOADUsKUdzb0iAOBWEkJpG/E4fLv1vS6/GeLZpCEw9q1a0XBy2yPPVqC5W7cuDGDTFDnu6VyqPUq/IyXYziHm9NKOE0Ej1kIgJQI7o9C+9IfHCHzZni113znnXcsUuGnP/2pIBXatm3racimTZvEvOeee84iNS677DJrnte6ngtgQGoQiOrciGodUxyjkhJMGHCHjcemjMmIbpAdM6TOancM/p28HPNf5bmegXqplrUfiq9pIUgLSUpwt4iOvYcJkXI8v8ZRArt2vyPGcv0Hvkz7eWS0BI9V0zd27X6X1m/aTj1ubmd1+1C7V7hFO6hr2jt3HDryiYjwULuU2HV06/bhFSkh5ahYONnP8hs1qCciWTgSxSnVQxJF6nx7+oZufORaSN/ws2sxJm0IxEpKFNqHl2mbx0/0gxr1wPqrRAZ/4fVDSqgFKWvWrJm1eKVbpAPLuP/+++nBBx+0CmM6kRtO0ROm4V5o+iB9Q6/HcW7qxTNKadnaibIenF4hIx4uuOACQTQMGDCggopPPvmkGMe1K3gM/1elShVrHNp6RunVZKwV1bkR1TqmoK6SEqboZJIe9poSJulmgi5u+ICUMME70CFqBEBKRI24QesFjZSwEwZOHTncohLUsdkKT7q1+nQiJez6q2PeeuutrNEYBrkh9aqg0KVeFxfal3696JkhzU9th2eeeUYQD7t37xakQ48ePWjFihXid82aNRO/+9nPfpZhkFctCzOshxZxIBDVuRHVOnFg6LQmSAlTPJEuPUBKpMufsMYfArGSEkjf8OekfI0KSkowYdC6dWuSpILfSAnWX87lf7uREkx6cCpImzZtRDcN9bHXprC3FHWKsOA1+SkuLs4XhJDrAwGQEj5ACjCk0L70B4AmkUO9umC8/vrrgojgM5C7GjEZcfXVV2fYiraeiXR9pEpHdW5EtU6k4GVZTAcp4dWxwhRboUd0CICUiA5rrGQOArGSEubAUJiaBEnfkCkY3OaOaz7079+ffvSjH3mmb8g11DaesmaESk5IQoI94VT/gQmGhQsXWq/ZCRGW2a5dO+JWe0xslJeXC6d26tRJpJzUqFGjMJ1sgNVI39DrhEL70q8XPXOlZWsnylrv2bOHmjZtmmGAF6FhrrXQLGoEojo3olonavzc1gtLSsgaCc2bXUr/OXCUq1lO9Q28MOC6Cm/t3S/qJsjaFG51HNQ6FrJtZ9/uN4klnOo4yLXthTfVdIT3PjxI859aZXWukF1G7HrLzh7bX3+DuJimLJ7J4+Y+sUz8jote2lupSjlqkUqntp5OxUFVHZyKYLoVBM3WZlTKXDS7jCR2Xj5y3VdrfkRNBp/JdXri5hXauZE4B0WkMEiJiIA2cZkgkRLy0i+jDtyKUbKdTEDwM2HCBLLXpFBxkDLkeH6ttLT02w/Bf0VNSHLBXuRS1V2NwrCPY/KCUzm6detmogsKXicUugy+BfDhHRyzJM2wp2Bwpwy1SC+fjdxFY/bs2dS8eXNRo4ffR3iAQDYEojo3olrHFG+HJSWcLto66zBwkc12ra8hLpQpH6eLe7bX/JAS9w77uWil6VZYUxauPHHylNVykwmTjVtfFUU5ZbFPlZTgbiVqhwwVK5U4UUkJOeauAT0oWxFOezFRlfzIho+dsPH6Odd9ikiJXJHDvCQjECspgfSNJG8d6A4EwiMAUiI4hoX2pT84QumYIYtVrl69WrTwvPXWW0mmaaCtZzp8HKUVUZ0bUa0TJXbZ1gpLSshLbffO7Vwv0WoniqB28wV74fI11Ll9a1rw+2dF1AE/ssMGd55QiQtJAvCYCdN+7brcoD78h55/Ey0y5cMX/SaXNLSiG+yREjyOCRcmLx4cO0xEcXiREjxHkg7877UbttGIIX1Etwx+OCJBvl6/bh0ryoJl73//7xXamaoG2bui8GvcWeSBMSU0cVq56GIiHxmpgkiJoDvQ3/hCOzf8oVJ4o2IlJbAJC2/DweLCQwDpG3p9jnNTL56mS5NtPbntJ7cL5cgIri2Rj4fT9Liez7p16xzFIx0uH6hHIzOqcyOqdaJBzXuVMKSETKno37MzMSmhEgVyZa/UA28NvxvBhANf1NW1jhz71CIGmMDg6IK6dWqL6AX5ZIuU4Ev6lh1/plkPjKKdb7xFrbsNqqASt0CdP6OUyv5rnmskBV/6+bFHSqjCvCIl2BZ+rrqyCa3fvJ2+OH5CtFiVj70VK/+efVC16NvORRzFwdEZTFbwwxjYo1a8IiPsrwfxjzoWkRK5Iod5SUYApESSvQfdgUACEEChS71OKrQv/XrRS660KPzu1OXIupicPEnTp0+noUOHokZPArdRFPuHYYlqHVNcEJNnv2wAABYLSURBVIaU4Avs6vVbqEvHNoIocEs3yCVSQhIMnE4haxxIcmFg76702PzfU5+f3Uir179EQ2+/RVzGWZ9du9+li2vXFNEIfkgJGW3ApAKnibiREovnTBFrqCQLkxhukRJ39O5qkRhSfy9S4ulnXxTRHRztsLR8KnEUiFMUBeshCYm+w8YL8qFBvYtpyn/No5vaFYuUkXPPqSoIEo72kNEZPAeREvl55xXauZEfFJMvNVZSAukbyd9AsAAIeCEAUsILoWCv48M7GF5JHT1jxgwaP348Pfzww3TPPfdYl71HH32Uxo4dS1OmTKFRo9wL4+ViNyIlckEtGXOiOjeiWscU1MOQEqvWbaaPDx+lc6oW5S1SQkZHqIUXnWomyDSPa394Bf1x22uUrSaDJEn4ws5pDvXr1aFLGtajjw8fo0YN6mYUebRHWTCJIceo9SLcCBA18sCLlGASQkY+yMKYstAmy5cFNJmUcIr+UKMifv3kCurcvphe27VbqOZWuFJXZIR9PyNSwpR3OPSIEoFYSYkoDcVaQAAIxIMA0jf04l5oX/r1opccaZ9//rmISDjrrLOoatWqxIRB9erVRRHgr7/+Wvx87rnnajUIkRJa4TRKWFTnRlTrmAJuGFKCbch3TQlJSuw78GHWGhEq0cCRAUxKOKWTqBd3vuRfVKs67d3/geiwkS19gyMl1BoSbLtKSqjdQdTIEPXSr453qilRs/oFxJEP3GGEoyWG3t6TSn75kONWkYUuJUnCkSoqacHyj584KWwbdFs3EXXhJ0pCLpZLtxRVUZASprzDoUeUCICUiBJtrAUEgEAGAih0GXxDFNqX/uAIpWfGuHHjaObMmfTll19aRlWqVIlGjhxJU6dO1W4oIiW0Q2qMwKjOjajWMQVYnaREPmpK+I2UkHiq3Su8SAmu28BpD0ueecFq+ynlqB0xsvnKrfWmnCPJAf753+vXpUNHjomoBSdSgqMaFi5fSzJVRF03W10MmYJi78jBBAd3LVHra0iZMtpE/szjuPWqrgekhC4kISdJCMRKSiB9I0lbBboCAf0IgJQIjmmhfekPjlB6ZnC0RK1atej06dOWUZUrV6bDhw9rj5JID2qwxAmBqM6NqNYxxcs6SQm/NSXUFAgvHCQp0fD73xND+fKcreVlEFJCTZG4e1BvGjyqTEQpOD0y+oGjEbJ19eC59kgJLlbJhAHXn5DtTd1agvJ8jroYft8jNGl0iUi/4EKc3O2D237y/Nn/s5RmP3SvqHHBj4yAUKMbGDeuj2Gv5yFrdWx//U1Rt0Kmd7AcqafaftXLP26vg5TIFTnMSzICsZIShfbhleSNAt2BQK4IIH0jV+Sc5+Hc1Iun6dLUaIl8RkksXryY+vXr5wuOyZMnU2npd1XtfU3CoFgRiOrciGqdWMFUFtdJSviJlMhGKDhhIi/X6oXbLynhhyRx6g7CpAmndfDTv+fNxOSF2+MVKSHblXJqhqwPwfLcWoKyzvvf/0hESzAJwQ9HOqiREtylY9L0ckFMqGMk2cNzps1dKEgHLp754cFDorsIEyor1my0imhKQoP/L2tOqIU/nSIs/O5bkBJ+kcK4NCEAUiJN3oQtQMBABFDoUq9TCu1Lv170kidNjZaIOkpi27ZttHHjRhAQyds2FTSO6tyIah1TXKKDlDh05BMRYeAWZcC2yr/Yc9tKvkhzZ4hsl32Jj1MhRr+khFf6hhop0eH6ltSx9zCxrEyDYMKiV8k42rX7HUEMcOoFdwPx86gRCl5EjEwV4VoYXJyS6z/IR+1CYpfJBEablj/MKGKptjiV+Dr9Lhu+fuzzGgNSwgshvJ5GBGIlJZC+kcYtBZuAQCYCICX07ohC+9KvF71kSuNoCe7Gwd028lFLQkWlrKyM2rVrR8XFxcSkROvWrTNAKykpoVmzZlFRUVEywSxQraM6N6JaxxQ3hiUlTLEDepiFAEgJs/wBbaJBIFZSIhoTsQoQAAJxIoD0Db3oF9qXfr3oJVMaR0sMHDiQFixYkNdaEjKFQxIPO3fuRKREMrdMBa2jOjeiWscUt4CUMMUT6dIDpES6/Alr/CEAUsIfThgFBIBAHhBAocvgoJr2pX/P872CG4EZxiHw+FO76dDRk3TvkP+g3Xs/oX6jN7rq+P/0v4J+cVsz42zQpVDTm5bqEmWMnKjOjajWMQVYkBKmeCJdeoCUSJc/YY0/BGIlJZC+4c9JGAUE0ooASIngnjXtSz+TEk1b/zK4IZgBBAxEYM/WXxFIidwdY9r5lLsl/maClPCHE0YFQwCkRDC8MDodCMRKShTah1c6tgysAALBEED6RjC8vEabdm6ClPDyGF5PEgIgJcJ5y7TzKZw13rNBSnhjhBHBEQApERwzzEg+AiAlku9DWAAEjEYAhS71use0L/0gJfT6F9LiRQCkRDj8TTufwlnjPRukhDdGGBEcAZASwTHDjOQjECspgfSN5G8gWAAEvBAAKeGFULDXTfvSD1IimP8w2mwEQEqE849p51M4a7xng5TwxggjgiMAUiI4ZpiRfARiJSWSDx8sAAJAwAsBpG94IRTsddO+9IOUCOY/jDYbAZAS4fxj2vkUzhrv2SAlvDHCiOAIgJQIjhlmJB8BkBLJ9yEsAAKJRQCFLoO7zrQv/SAlgvsQM8xFAKREON+Ydj6Fs8Z7NkgJb4wwIjgCICWCY4YZyUcgVlIC6RvJ30CwAAiEQQCkRHD0TPvSD1IiuA8xw1wEQEqE841p51M4a7xng5TwxggjgiMAUiI4ZpiRfARiJSUK7cMr+dsFFgCB4AggfSM4ZtlmmHZugpTQ619IixcBkBLh8DftfApnjfdskBLeGGFEcARASgTHDDOSjwBIieT7EBYAAaMRQKFLve4x7Us/SAm9/oW0eBEAKREOf9POp3DWeM8GKeGNEUYERwCkRHDMMCP5CMRKSiB9I/kbCBYAAS8EQEp4IRTsddO+9IOUCOY/jDYbAZAS4fxj2vkUzhrv2SAlvDHCiOAIgJQIjhlmJB+BWEmJ5MMHC4AAEPBCAOkbXggFe920L/0gJYL5D6PNRgCkRDj/mHY+hbPGezZICW+MMCI4AiAlgmOGGclHAKRE8n0IC4BAYhFAocvgrjPtSz9IieA+xAxzEQApEc43pp1P4azxng1SwhsjjAiOAEiJ4JhhRvIRiJWUQPpG8jcQLAACYRAAKREcPdO+9IOUCO5DzDAXAZAS4Xxj2vkUzhrv2SAlvDHCiOAIgJQIjhlmJB+BWEmJQvvwSv52gQVAIDgCSN8Ijlm2GaadmyAl9PoX0uJFAKREOPxNO5/CWeM9G6SEN0YYERwBkBLBMcOM5CMAUiL5PoQFQMBoBFDoUq97TPvSn3ZSYvHTz9Px4ydp5663qPx/VlZwZskd3WnW1FFUVFTZeu3tdw/QpKnlNHv6vVSj+vmuG4DHzX9yFT1wX4mYf/TYZzT3t8to9N396b0PDma8tm37LmrdcZDj+j26taftr7wh5k1/bCENvfOWCut66cSvv/XOfurYrpUl44X//RM1rP89sebGza9S6b2D9W5mA6WBlAjnFNPOp3DWeM8GKeGNEUYERwCkRHDMMCP5CMRKSiB9I/kbCBYAAS8EQEp4IRTsddO+9KeZlDh58jRNfKic+txyIy1Z9gINGtCNGl/aIIN8kKQCkwETHvy1L2dKIkMSD/eO+DndP3mOI+nBAuX4EydPiXEPThgmCARJFDBhwf92IiXYhhHjZgi9JHlS9sg8avTvdanvrTdl6MsETO1a1QXBUa1aVapd60Ixhn/P5ERxqxa+7EvyIJAS4bxn2vkUzhrv2SAlvDHCiOAIgJQIjhlmJB+BWEmJ5MMHC4AAEPBCAOkbXggFe920L/1pJiVkJAOTBo/M+l1WUkJGSnC0w/DRj9CkcSUZBIbqZUkUqJEXW9fPpyaXNXSNlOD5LDsIKcHj+w4aT+s2vOy4ySbff5cV/cDEQ7/BpRXG/eGpGfT4vOUZMpyiQ4LtYnNHg5QI5xvTzqdw1njPBinhjRFGBEcApERwzDAj+QiAlEi+D2EBEEgsAih0Gdx1pn3pTzMpwRd1frp3aSeiDfykb3DUwqo1m+kfn3/hOL5T++to8fwpIr2C5W/5059FBAOnhzilZ/D4+XNKqexX81wjKZhc4Cdb+oaMplBTMJwiIDgiZPXzL9H551UTeq1cvdHSUY3UyJaWEnxXmzMDpEQ4X5h2PoWzxns2SAlvjDAiOAIgJYJjhhnJRyBWUgLpG8nfQLAACIRBAKREcPRM+9KfVlJCRhn0v62zICU4jYPTN2rWuMCKVjhy9NOMug8y3cOe5sFeljUhOCJCpkFwGgWnfDCp0O6Ga1xJCUliqDUomMTIlr7BuvW6fRzteuMdz022aF6ZRbzI+hTNr7iUPj50lI6fOEUfHTxCHC1it9dTcAIHgJQI5zTTzqdw1njPBinhjRFGBEcApERwzDAj+QjESkoU2odX8rcLLAACwRFA+kZwzLLNMO3cTCspwVEEq5/fQl1uapNRe0FNobBHC/CchU+ttSIhpB/ViAiZ5sEEAxMd9evVoUsa1aOPDx2rUOeBSQ61cKVaC8Ip8sE+nteXqSJMNqxYtYH2H/iIfjG4J/3lzXczClfOmrOEOncsFvrwmgP7daW167dS/9430/qN20VqCZMS+9/7e4VaFHp3eLzSQEqEw9+08ymcNd6zmZTAAwTygUCTwWfyIdZImYV2bhjpBAOUAilhgBOgAhBIMwIodKnXu6Z9eKeVlOAUDI4U4Met84b0LNdY+MWgW+jnd02kOrVrUKf/ex2NHDfT1fE8ngtK1vtebdq77wPRfSNb+gZHSqiFLVmwSkqotSPUeg9MfKjREhylwZEe8ndqKokkMGREiFrQU67FYziiI80FL0FKhDuvTDufwlmD2UAACESBAM6NKFA2f41YSQmkb5i/QaAhEAiLAEiJsAhmzjftwzutpASjLmtKyC4VMhJh6/b/l3p0bUdDBna3nMORBtdefTkt/P0a0R1DjaJwqt3ApEeD718sunrIlqBSmIxaUIkBp12UrSsGEwmsy/2jBwkigjt9MBnBz9InporfySKYsiaFvXuIJDh4jr2Dh95dbY40kBLhfGHa+RTOGswGAkAgCgRwbkSBsvlrxEpKmA8PNAQCQCAsAkjfCIsgSAm9CPqXZiclVOLhpg7F9MXxE75SO9zIA1kj4u67etPg4WWuXTIkOeCn7agaKWHvvsGREle1aCIIBk7jkLUqGBHWZdLUcpo9/V6qWlRFjOHUDY6KkHIaNrjYaivqH8VkjQQpEc5fuFyEww+zgUAhIoBzoxC9XtFmkBLYB0AACMSGAApdBofetA/vQoiUkN03+JLOtRVkW84X/vdPtO//+9CqzeBWb8KLlFAjJbhuxEW1q4uNwevJGhROOyVbpIQc//4HH9P3611kFdpsceVlIlLCKQrDTmKoBTiZ0OB6ErJbSDa9gu9qc2aAlAjnC9POp3DWYDYQAAJRIIBzIwqUzV8jVlKC/4I6adIkgRL/f+LEieLf+D1wwH5I3/vC6TgEKRH8Q8K0D++0kxLHj58U9R7UqAFJSnCKhr22g/qa7K7hRgTISIkO7VpSx27DxGaQ3TnUehDcxvPQ4WOuLUHtu0hGS3ALTzVFQ20Hap/Duq54dmMGYcG28e/ViAqZFsLtQtNITICUCH4mqTNMO5/CWYPZQAAIRIEAzo0oUDZ/jVhJCfPh+f/bsYPbNmIgCqBqxAWkC+vgQ4p0AanCKi1wYBg+5CBiVqPP2eezuSTfF4bAd0ICBB4poJRY1017vCeXEuvpWLG7gFKilmDafKrdxmoCBDoEzI0O5fw9lBL5GTkhgbECSon1aNMeb6XEeoZW5AooJWrZpM2n2m2sJkCgQ8Dc6FDO30MpkZ+RExIYK6CUWI827fFWSqxnaEWugFKilk3afKrdxmoCBDoEzI0O5fw9lBL5GTkhgbECSon1aNMeb6XEeoZW5AooJWrZpM2n2m2sJkCgQ8Dc6FDO30MpkZ+RExIYK6CUWI827fFWSqxnaEWugFKilk3afKrdxmoCBDoEzI0O5fw9lBL5GTkhgbECSon1aNMeb6XEeoZW5AooJWrZpM2n2m2sJkCgQ8Dc6FDO30MpkZ+RExIYK6CUWI827fFWSqxnaEWugFKilk3afKrdxmoCBDoEzI0O5fw9lBL5GTkhgbECSon1aNMeb6XEeoZW5AooJWrZpM2n2m2sJkCgQ8Dc6FDO30MpkZ+RExIYK6CUWI827fFWSqxnaEWugFKilk3afKrdxmoCBDoEzI0O5fw9lBL5GTkhgbECSon1aNMeb6XEeoZW5AooJWrZpM2n2m2sJkCgQ8Dc6FDO30MpkZ+RExIYK6CUWI827fFWSqxnaEWugFKilk3afKrdxmoCBDoEzI0O5fw9lBL5GTkhgbECSon1aNMeb6XEeoZW5AooJWrZpM2n2m2sJkCgQ8Dc6FDO30MpkZ+RExIYK6CUWI827fFWSqxnaEWugFKilk3afKrdxmoCBDoEzI0O5fw9lBL5GTkhgbECSon1aNMeb6XEeoZW5AooJWrZpM2n2m2sJkCgQ8Dc6FDO3+MhpcT1er3cbrf82zshAQJPFXh5ebm8v79f3t7ennqOnTZPe7w/Swl/BCYJ/Pr9Z9J1/t2la2507TMuIBcicGIBc+PE4f+4+kNKCbQECBAg8BgBj/djXH2VwGSBrrnRtc/krNyNwNkEzI2zJf7/+yol/A4IECCwkYDHe6OwHJVAiEDX3OjaJ4TVMQgQOEDA3DgAccAnlBIDQnQFAgTOI+DxPk/WbkrgKIGuudG1z1EuvkOAwPMFzI3nZ5BwAqVEQgrOQIAAgTsFPN53Qvk3AgS+BbrmRtc+oiVAYI6AuTEny8pNlBIVPWsJECDQLODxbga3HYEBAl1zo2ufAZG4AgECXwLmhp/Cp4BSwu+AAAECGwl4vDcKy1EJhAh0zY2ufUJYHYMAgQMEzI0DEAd8QikxIERXIEDgPAIe7/Nk7aYEjhLomhtd+xzl4jsECDxfwNx4fgYJJ1BKJKTgDAQIELhTwON9J5R/I0DgW6BrbnTtI1oCBOYImBtzsqzcRClR0bOWAAECzQIe72Zw2xEYINA1N7r2GRCJKxAg8CVgbvgpfAooJfwOCBAgsJHA9Xq93G63jU7sqAQIPFvg9fX18vHx8fBjmE8PJ7YBgXECXfNpHNywCyklhgXqOgQIECBAgAABAgQIECBAYBcBpcQuSTknAQIECBAgQIAAAQIECBAYJqCUGBao6xAgQIAAAQIECBAgQIAAgV0ElBK7JOWcBAgQIECAAAECBAgQIEBgmIBSYligrkOAAAECBAgQIECAAAECBHYRUErskpRzEiBAgAABAgQIECBAgACBYQJKiWGBug4BAgQIECBAgAABAgQIENhFQCmxS1LOSYAAAQIECBAgQIAAAQIEhgkoJYYF6joECBAgQIAAAQIECBAgQGAXge9SYpcDOycBAgQIECBAgAABAgQIECAwR+Av+he3nJMWBW4AAAAASUVORK5CYII=)"
      ]
    },
    {
      "cell_type": "code",
      "metadata": {
        "id": "qhkTCxm6KG5E"
      },
      "source": [
        "# 模型模板\r\n",
        "class MyModel(tf.keras.Model):\r\n",
        "  def __init__(self):\r\n",
        "    super().__init__() # python2下使用super(MyModel, self).__init__()\r\n",
        "    # 此处添加初始化代码（包含call()方法中会用到的层），例如\r\n",
        "    # layer1 = tf.keras.layers.BuiltInLayer(...)\r\n",
        "    # layer2 = MyCustomLayer(...)\r\n",
        "  \r\n",
        "  def call(self, input):\r\n",
        "    output = None\r\n",
        "    # 此处添加模型调用的代码（处理输入并返回输出），例如\r\n",
        "    # x = layer1(input)\r\n",
        "    # output = layer2(x)\r\n",
        "    return output\r\n"
      ],
      "execution_count": null,
      "outputs": []
    },
    {
      "cell_type": "markdown",
      "metadata": {
        "id": "xEM08qwcYsAq"
      },
      "source": [
        "继承tf.keras.Model类后，就 可以使用父类的一些属性和方法。  \r\n",
        "比如：model = Model()，可以通过model.variables获得模型所有变量"
      ]
    },
    {
      "cell_type": "markdown",
      "metadata": {
        "id": "vUn0B6fnZMOF"
      },
      "source": [
        "## 4.1 将$y_{pred} = a\\times x+b$写成模型形式"
      ]
    },
    {
      "cell_type": "code",
      "metadata": {
        "id": "dPc6wM5fYntN"
      },
      "source": [
        "X = tf.constant([[1.0, 2.0, 3.0],[4.0, 5.0, 6.0]])\r\n",
        "y = tf.constant([[10.0],[20.0]])"
      ],
      "execution_count": null,
      "outputs": []
    },
    {
      "cell_type": "code",
      "metadata": {
        "id": "wFjvHJb8aI_X"
      },
      "source": [
        "class Linear(tf.keras.Model):\r\n",
        "  def __init__(self):\r\n",
        "    super().__init__()\r\n",
        "    self.dense = tf.keras.layers.Dense(\r\n",
        "        units = 1,\r\n",
        "        activation = None,\r\n",
        "        kernel_initializer = tf.zeros_initializer(),\r\n",
        "        bias_initializer = tf.zeros_initializer()\r\n",
        "    )\r\n",
        "  def call(self, input):\r\n",
        "    output = self.dense(input)\r\n",
        "    return output"
      ],
      "execution_count": null,
      "outputs": []
    },
    {
      "cell_type": "code",
      "metadata": {
        "colab": {
          "base_uri": "https://localhost:8080/"
        },
        "id": "3p7wvhqucbu6",
        "outputId": "5f6d0629-32fc-4076-a2c2-8170c14e1432"
      },
      "source": [
        "model = Linear()\r\n",
        "model.variables\r\n",
        "# 未显示，没有初始化参数"
      ],
      "execution_count": null,
      "outputs": [
        {
          "output_type": "execute_result",
          "data": {
            "text/plain": [
              "[]"
            ]
          },
          "metadata": {
            "tags": []
          },
          "execution_count": 93
        }
      ]
    },
    {
      "cell_type": "code",
      "metadata": {
        "id": "X61Pm-zraVTs"
      },
      "source": [
        "lr = 1e-3\r\n",
        "num_epochs = 1000\r\n",
        "model = Linear()\r\n",
        "optimizer = tf.keras.optimizers.SGD(learning_rate=lr)\r\n",
        "\r\n",
        "#记录变量变化\r\n",
        "L_progress = []\r\n",
        "\r\n",
        "for i in range(num_epochs):\r\n",
        "  with tf.GradientTape() as tape:\r\n",
        "    y_pred = model(X)\r\n",
        "    loss = tf.reduce_sum( tf.square( y_pred - y))\r\n",
        "  grads = tape.gradient(loss, model.variables)\r\n",
        "  optimizer.apply_gradients( grads_and_vars = zip( grads,model.variables))\r\n",
        "  L_progress.append(loss.numpy())"
      ],
      "execution_count": null,
      "outputs": []
    },
    {
      "cell_type": "code",
      "metadata": {
        "colab": {
          "base_uri": "https://localhost:8080/",
          "height": 279
        },
        "id": "tTf_0xFdpOyV",
        "outputId": "00245d87-2128-48ec-a85e-04a5a9713dd6"
      },
      "source": [
        "plt.plot(list(range(num_epochs)), L_progress, 'r-')\r\n",
        "plt.xlabel(r'iteration')\r\n",
        "plt.ylabel(r'loss')\r\n",
        "plt.show()"
      ],
      "execution_count": null,
      "outputs": [
        {
          "output_type": "display_data",
          "data": {
            "image/png": "[encoded data removed]",
            "text/plain": [
              "<Figure size 432x288 with 1 Axes>"
            ]
          },
          "metadata": {
            "tags": [],
            "needs_background": "light"
          }
        }
      ]
    },
    {
      "cell_type": "markdown",
      "metadata": {
        "id": "HkC-Sf37soj9"
      },
      "source": [
        "## 4.2 多层感知机  \r\n",
        "运用Tensorflow模型框架实现MLP"
      ]
    },
    {
      "cell_type": "markdown",
      "metadata": {
        "id": "a6pVMPs1uKQp"
      },
      "source": [
        "### 4.2.1 数据预处理tf.keras.datasets"
      ]
    },
    {
      "cell_type": "code",
      "metadata": {
        "id": "oX6Nv5B3ubq2"
      },
      "source": [
        "class MNISTLoader():\r\n",
        "  def __init__(self):\r\n",
        "    mnist = tf.keras.datasets.mnist\r\n",
        "    (self.train_data, self.train_label), (self.test_data, self.test_label) = mnist.load_data()\r\n",
        "    self.train_data = np.expand_dims(self.train_data.astype(np.float32)/255.0, axis = -1)\r\n",
        "    self.test_data = np.expand_dims(self.test_data.astype(np.float32)/255.0, axis = -1)\r\n",
        "    self.train_label = self.train_label.astype(np.int32)\r\n",
        "    self.test_label = self.test_label.astype(np.int32)\r\n",
        "    self.num_train_data, self.num_test_data = self.train_data.shape[0], self.test_data.shape[0]\r\n",
        "\r\n",
        "  def get_batch(self, batch_size):\r\n",
        "    index = np.random.randint(0, np.shape(self.train_data)[0], batch_size)\r\n",
        "    return self.train_data[index,:], self.train_label[index]"
      ],
      "execution_count": null,
      "outputs": []
    },
    {
      "cell_type": "code",
      "metadata": {
        "id": "NTEUOmizpTtL"
      },
      "source": [
        "class MLP(tf.keras.Model):\r\n",
        "  def __init__(self):\r\n",
        "    super().__init__()\r\n",
        "    self.flatten = tf.keras.layers.Flatten()\r\n",
        "    self.dense1 = tf.keras.layers.Dense(units = 100, activation = tf.nn.relu)\r\n",
        "    self.dense2 = tf.keras.layers.Dense(units = 10)\r\n",
        "\r\n",
        "  def call(self, inputs):\r\n",
        "    x = self.flatten(inputs)\r\n",
        "    x = self.dense1(x)\r\n",
        "    x = self.dense2(x)\r\n",
        "    output = tf.nn.softmax(x)\r\n",
        "    return output"
      ],
      "execution_count": null,
      "outputs": []
    },
    {
      "cell_type": "code",
      "metadata": {
        "id": "PTeBakfXtXWZ"
      },
      "source": [
        "#\r\n",
        "num_epochs = 50\r\n",
        "batch_size = 50\r\n",
        "lr = 1e-3\r\n",
        "loss_progress = []"
      ],
      "execution_count": null,
      "outputs": []
    },
    {
      "cell_type": "code",
      "metadata": {
        "id": "yeX-IgEPx3r7"
      },
      "source": [
        "model = MLP()\r\n",
        "data_loader = MNISTLoader()\r\n",
        "optimizer = tf.keras.optimizers.SGD(learning_rate=lr)"
      ],
      "execution_count": null,
      "outputs": []
    },
    {
      "cell_type": "code",
      "metadata": {
        "id": "tKRv2_VR095k"
      },
      "source": [
        "def one_hot_encoding( inputs, depth):\r\n",
        "  one_hot = np.zeros((inputs.shape[0], depth))\r\n",
        "  one_hot[(np.arange(one_hot.shape[0]), inputs)] = 1\r\n",
        "  return one_hot"
      ],
      "execution_count": null,
      "outputs": []
    },
    {
      "cell_type": "code",
      "metadata": {
        "colab": {
          "base_uri": "https://localhost:8080/"
        },
        "id": "gmh6QXu71cb-",
        "outputId": "9c262f7c-0f98-44e5-beaa-d958a6d956a3"
      },
      "source": [
        "a = list(range(10))\r\n",
        "ont_hot_encoding(np.array(a), 10)"
      ],
      "execution_count": null,
      "outputs": [
        {
          "output_type": "execute_result",
          "data": {
            "text/plain": [
              "array([[1., 0., 0., 0., 0., 0., 0., 0., 0., 0.],\n",
              "       [0., 1., 0., 0., 0., 0., 0., 0., 0., 0.],\n",
              "       [0., 0., 1., 0., 0., 0., 0., 0., 0., 0.],\n",
              "       [0., 0., 0., 1., 0., 0., 0., 0., 0., 0.],\n",
              "       [0., 0., 0., 0., 1., 0., 0., 0., 0., 0.],\n",
              "       [0., 0., 0., 0., 0., 1., 0., 0., 0., 0.],\n",
              "       [0., 0., 0., 0., 0., 0., 1., 0., 0., 0.],\n",
              "       [0., 0., 0., 0., 0., 0., 0., 1., 0., 0.],\n",
              "       [0., 0., 0., 0., 0., 0., 0., 0., 1., 0.],\n",
              "       [0., 0., 0., 0., 0., 0., 0., 0., 0., 1.]])"
            ]
          },
          "metadata": {
            "tags": []
          },
          "execution_count": 162
        }
      ]
    },
    {
      "cell_type": "code",
      "metadata": {
        "colab": {
          "base_uri": "https://localhost:8080/"
        },
        "id": "E9qdgZGlyKu2",
        "outputId": "3a832177-6bb9-4b48-82ef-d20039d557ae"
      },
      "source": [
        "num_batches = int(data_loader.num_train_data // batch_size * num_epochs)\r\n",
        "for epoch in range(num_epochs):\r\n",
        "  for itr in range(data_loader.num_train_data//batch_size):\r\n",
        "    X, y = data_loader.get_batch(batch_size = batch_size)\r\n",
        "    with tf.GradientTape() as tape:\r\n",
        "      y_pred = model(X)\r\n",
        "      #loss = tf.reduce_sum( tf.nn.softmax_cross_entropy_with_logits(one_hot_encoding(y, 10), y_pred, axis = -1) )\r\n",
        "      loss = tf.keras.losses.sparse_categorical_crossentropy(y_true = y, y_pred = y_pred)\r\n",
        "      loss = tf.reduce_mean(loss)\r\n",
        "    grads = tape.gradient(loss, model.variables)\r\n",
        "    optimizer.apply_gradients(grads_and_vars = zip( grads, model.variables))\r\n",
        "  print('Epoch %d Loss %f'%(epoch, loss.numpy()))\r\n",
        "  loss_progress.append(loss.numpy())"
      ],
      "execution_count": null,
      "outputs": [
        {
          "output_type": "stream",
          "text": [
            "Epoch 0 Loss 0.859288\n",
            "Epoch 1 Loss 0.839983\n",
            "Epoch 2 Loss 0.570361\n",
            "Epoch 3 Loss 0.447669\n",
            "Epoch 4 Loss 0.463764\n",
            "Epoch 5 Loss 0.587014\n",
            "Epoch 6 Loss 0.387574\n",
            "Epoch 7 Loss 0.420844\n",
            "Epoch 8 Loss 0.459220\n",
            "Epoch 9 Loss 0.308882\n",
            "Epoch 10 Loss 0.399030\n",
            "Epoch 11 Loss 0.418317\n",
            "Epoch 12 Loss 0.375267\n",
            "Epoch 13 Loss 0.477444\n",
            "Epoch 14 Loss 0.241123\n",
            "Epoch 15 Loss 0.353803\n",
            "Epoch 16 Loss 0.300701\n",
            "Epoch 17 Loss 0.286820\n",
            "Epoch 18 Loss 0.218796\n",
            "Epoch 19 Loss 0.313626\n",
            "Epoch 20 Loss 0.244513\n",
            "Epoch 21 Loss 0.456707\n",
            "Epoch 22 Loss 0.498148\n",
            "Epoch 23 Loss 0.587246\n",
            "Epoch 24 Loss 0.193012\n",
            "Epoch 25 Loss 0.283111\n",
            "Epoch 26 Loss 0.504135\n",
            "Epoch 27 Loss 0.621668\n",
            "Epoch 28 Loss 0.229532\n",
            "Epoch 29 Loss 0.356168\n",
            "Epoch 30 Loss 0.198845\n",
            "Epoch 31 Loss 0.280969\n",
            "Epoch 32 Loss 0.268773\n",
            "Epoch 33 Loss 0.414477\n",
            "Epoch 34 Loss 0.273968\n",
            "Epoch 35 Loss 0.234665\n",
            "Epoch 36 Loss 0.395774\n",
            "Epoch 37 Loss 0.312089\n",
            "Epoch 38 Loss 0.290877\n",
            "Epoch 39 Loss 0.293107\n",
            "Epoch 40 Loss 0.295849\n",
            "Epoch 41 Loss 0.182665\n",
            "Epoch 42 Loss 0.267717\n",
            "Epoch 43 Loss 0.275648\n",
            "Epoch 44 Loss 0.505358\n",
            "Epoch 45 Loss 0.378178\n",
            "Epoch 46 Loss 0.265547\n",
            "Epoch 47 Loss 0.264031\n",
            "Epoch 48 Loss 0.231362\n",
            "Epoch 49 Loss 0.246371\n"
          ],
          "name": "stdout"
        }
      ]
    },
    {
      "cell_type": "code",
      "metadata": {
        "id": "TA3kyAN4_5FC"
      },
      "source": [
        "loss_progress = loss_progress[-50:]"
      ],
      "execution_count": null,
      "outputs": []
    },
    {
      "cell_type": "code",
      "metadata": {
        "colab": {
          "base_uri": "https://localhost:8080/",
          "height": 265
        },
        "id": "ZFkl2k4m3D93",
        "outputId": "ef2a53a4-0c67-4acf-a519-767687242de0"
      },
      "source": [
        "plt.plot(list(range(num_epochs)), loss_progress, 'r-')\r\n",
        "plt.show()"
      ],
      "execution_count": null,
      "outputs": [
        {
          "output_type": "display_data",
          "data": {
            "image/png": "[encoded data removed]",
            "text/plain": [
              "<Figure size 432x288 with 1 Axes>"
            ]
          },
          "metadata": {
            "tags": [],
            "needs_background": "light"
          }
        }
      ]
    },
    {
      "cell_type": "code",
      "metadata": {
        "id": "Tj23aeut5_cQ"
      },
      "source": [
        "# loss = tf.keras.losses.categorical_crosstropy(\r\n",
        "#    y_true = tf.one_hot(y, depth = tf.shape(y_pred)[-1]),\r\n",
        "#    y_pred = y_pred\r\n",
        "#)"
      ],
      "execution_count": null,
      "outputs": []
    },
    {
      "cell_type": "markdown",
      "metadata": {
        "id": "bQ0972Pg87lB"
      },
      "source": [
        "## 4.3 模型评估  \r\n",
        "使用tf.keras.metrics中的SparseCategoricalAccuracy"
      ]
    },
    {
      "cell_type": "code",
      "metadata": {
        "colab": {
          "base_uri": "https://localhost:8080/"
        },
        "id": "KlB75MII73ef",
        "outputId": "97ebb273-c1c0-469f-d27f-1d89693b4ea9"
      },
      "source": [
        "sparse_categorical_accuracy = tf.keras.metrics.SparseCategoricalAccuracy()\r\n",
        "num_batches = int(data_loader.num_test_data//batch_size)\r\n",
        "for batch_index in range(num_batches):\r\n",
        "  start_index, end_index = batch_index * batch_size, (batch_index + 1)*batch_size\r\n",
        "  y_pred = model.predict(data_loader.test_data[start_index:end_index])\r\n",
        "  sparse_categorical_accuracy.update_state(\r\n",
        "      y_true = data_loader.test_label[start_index:end_index],\r\n",
        "      y_pred = y_pred\r\n",
        "  )\r\n",
        "print(\"Test accuracy: %f\"%sparse_categorical_accuracy.result())"
      ],
      "execution_count": null,
      "outputs": [
        {
          "output_type": "stream",
          "text": [
            "Test accuracy: 0.929200\n"
          ],
          "name": "stdout"
        }
      ]
    },
    {
      "cell_type": "markdown",
      "metadata": {
        "id": "oWc5Z3RxAQs6"
      },
      "source": [
        "## 4.4 卷积神经网络  \r\n",
        "卷积层、池化层、全连接层"
      ]
    },
    {
      "cell_type": "markdown",
      "metadata": {
        "id": "YfJgEcHeAj0r"
      },
      "source": [
        "### 4.4.1 使用keras实现卷积神经网络"
      ]
    },
    {
      "cell_type": "code",
      "metadata": {
        "id": "zmthmOXrQsXN"
      },
      "source": [
        "import tensorflow as tf\r\n",
        "import matplotlib.pyplot as plt\r\n",
        "import numpy as np"
      ],
      "execution_count": null,
      "outputs": []
    },
    {
      "cell_type": "code",
      "metadata": {
        "id": "UF0aK9Co_Jzg"
      },
      "source": [
        "class CNN(tf.keras.Model):\r\n",
        "  def __init__(self):\r\n",
        "    super().__init__()\r\n",
        "    self.conv1 = tf.keras.layers.Conv2D(\r\n",
        "        filters = 32,\r\n",
        "        kernel_size = [5,5],\r\n",
        "        padding = 'same',\r\n",
        "        activation = tf.nn.relu\r\n",
        "    )\r\n",
        "    self.pool1 = tf.keras.layers.MaxPool2D(pool_size = (2,2), strides = 2)\r\n",
        "    self.conv2 = tf.keras.layers.Conv2D(\r\n",
        "        filters = 64,\r\n",
        "        kernel_size = [5,5],\r\n",
        "        padding = 'same',\r\n",
        "        activation = tf.nn.relu\r\n",
        "    )\r\n",
        "    self.pool2 = tf.keras.layers.MaxPool2D( pool_size=(2,2), strides = 2)\r\n",
        "    self.flatten = tf.keras.layers.Flatten()\r\n",
        "    self.dense1 = tf.keras.layers.Dense(units = 1024, activation = tf.nn.relu)\r\n",
        "    self.dense2 = tf.keras.layers.Dense(units=10)\r\n",
        "\r\n",
        "  def call(self, inputs):\r\n",
        "    x = self.conv1(inputs)\r\n",
        "    x = self.pool1(x)\r\n",
        "    x = self.conv2(x)\r\n",
        "    x = self.pool2(x)\r\n",
        "    x = self.flatten(x)\r\n",
        "    x = self.dense1(x)\r\n",
        "    x = self.dense2(x)\r\n",
        "    output = tf.nn.softmax(x)\r\n",
        "    return output"
      ],
      "execution_count": null,
      "outputs": []
    },
    {
      "cell_type": "markdown",
      "metadata": {
        "id": "jyKgE8L3N53M"
      },
      "source": [
        "使用前面的训练、测试模板对模型进行训练和评估"
      ]
    },
    {
      "cell_type": "code",
      "metadata": {
        "colab": {
          "base_uri": "https://localhost:8080/"
        },
        "id": "2szayy3MN5hl",
        "outputId": "ddb5a846-4e66-4abe-ad33-ed0179af43ab"
      },
      "source": [
        "num_epochs = 50\r\n",
        "batch_size = 64\r\n",
        "lr = 1e-3\r\n",
        "Loss_progress = []\r\n",
        "optimizer = tf.keras.optimizers.SGD(learning_rate=lr)\r\n",
        "data_loader = MNISTLoader()\r\n",
        "\r\n",
        "model = CNN()\r\n",
        "\r\n",
        "for epoch_idx in range(num_epochs):\r\n",
        "  for idx in range(int(data_loader.num_train_data//batch_size)):\r\n",
        "    X, y = data_loader.get_batch(batch_size)\r\n",
        "    with tf.GradientTape() as tape:\r\n",
        "      y_pred = model(X)\r\n",
        "      loss = tf.keras.losses.sparse_categorical_crossentropy(\r\n",
        "          y_true = y,\r\n",
        "          y_pred = y_pred\r\n",
        "      )\r\n",
        "      loss = tf.reduce_mean(loss)\r\n",
        "    grads = tape.gradient( loss, model.variables)\r\n",
        "    optimizer.apply_gradients(grads_and_vars=zip(grads, model.variables))\r\n",
        "  Loss_progress.append(loss.numpy())\r\n",
        "  print(\"Epoch %d Loss %f\"%( epoch_idx, loss.numpy()))"
      ],
      "execution_count": null,
      "outputs": [
        {
          "output_type": "stream",
          "text": [
            "Epoch 0 Loss 2.077006\n",
            "Epoch 1 Loss 0.793056\n",
            "Epoch 2 Loss 0.591769\n",
            "Epoch 3 Loss 0.417728\n",
            "Epoch 4 Loss 0.280251\n",
            "Epoch 5 Loss 0.193021\n",
            "Epoch 6 Loss 0.223529\n",
            "Epoch 7 Loss 0.129333\n",
            "Epoch 8 Loss 0.169597\n",
            "Epoch 9 Loss 0.148418\n",
            "Epoch 10 Loss 0.100614\n",
            "Epoch 11 Loss 0.104290\n",
            "Epoch 12 Loss 0.152859\n",
            "Epoch 13 Loss 0.077907\n",
            "Epoch 14 Loss 0.082257\n",
            "Epoch 15 Loss 0.110603\n",
            "Epoch 16 Loss 0.136516\n",
            "Epoch 17 Loss 0.095091\n",
            "Epoch 18 Loss 0.299606\n",
            "Epoch 19 Loss 0.108360\n",
            "Epoch 20 Loss 0.085134\n",
            "Epoch 21 Loss 0.055096\n",
            "Epoch 22 Loss 0.025816\n",
            "Epoch 23 Loss 0.125406\n",
            "Epoch 24 Loss 0.080554\n",
            "Epoch 25 Loss 0.147145\n",
            "Epoch 26 Loss 0.082579\n",
            "Epoch 27 Loss 0.158249\n",
            "Epoch 28 Loss 0.141315\n",
            "Epoch 29 Loss 0.016933\n",
            "Epoch 30 Loss 0.136265\n",
            "Epoch 31 Loss 0.117167\n",
            "Epoch 32 Loss 0.035248\n",
            "Epoch 33 Loss 0.028594\n",
            "Epoch 34 Loss 0.047068\n",
            "Epoch 35 Loss 0.060061\n",
            "Epoch 36 Loss 0.081311\n",
            "Epoch 37 Loss 0.049536\n",
            "Epoch 38 Loss 0.099812\n",
            "Epoch 39 Loss 0.117309\n",
            "Epoch 40 Loss 0.188267\n",
            "Epoch 41 Loss 0.040734\n",
            "Epoch 42 Loss 0.013568\n",
            "Epoch 43 Loss 0.034474\n",
            "Epoch 44 Loss 0.013453\n",
            "Epoch 45 Loss 0.036949\n",
            "Epoch 46 Loss 0.043263\n",
            "Epoch 47 Loss 0.139740\n",
            "Epoch 48 Loss 0.283980\n",
            "Epoch 49 Loss 0.043559\n"
          ],
          "name": "stdout"
        }
      ]
    },
    {
      "cell_type": "code",
      "metadata": {
        "colab": {
          "base_uri": "https://localhost:8080/",
          "height": 279
        },
        "id": "f1czASZiN1O_",
        "outputId": "71f8b228-edf7-4645-9d8f-7b78b7889935"
      },
      "source": [
        "plt.plot(list(range(num_epochs)), Loss_progress, 'r-')\r\n",
        "plt.xlabel(r'epochs')\r\n",
        "plt.ylabel(r'loss')\r\n",
        "plt.show()"
      ],
      "execution_count": null,
      "outputs": [
        {
          "output_type": "display_data",
          "data": {
            "image/png": "[encoded data removed]",
            "text/plain": [
              "<Figure size 432x288 with 1 Axes>"
            ]
          },
          "metadata": {
            "tags": [],
            "needs_background": "light"
          }
        }
      ]
    },
    {
      "cell_type": "code",
      "metadata": {
        "colab": {
          "base_uri": "https://localhost:8080/"
        },
        "id": "DNKrPdR6R8sn",
        "outputId": "b6b0fe3a-41a1-499a-cce3-2653782fbc00"
      },
      "source": [
        "sparse_categorical_accuracy = tf.keras.metrics.SparseCategoricalAccuracy()\r\n",
        "num_batches = int(data_loader.num_test_data//batch_size)\r\n",
        "for batch_index in range(num_batches):\r\n",
        "  start_index, end_index = batch_index * batch_size, (batch_index + 1)*batch_size\r\n",
        "  y_pred = model.predict(data_loader.test_data[start_index:end_index])\r\n",
        "  sparse_categorical_accuracy.update_state(\r\n",
        "      y_true = data_loader.test_label[start_index:end_index],\r\n",
        "      y_pred = y_pred\r\n",
        "  )\r\n",
        "print(\"Test accuracy: %f\"%sparse_categorical_accuracy.result())"
      ],
      "execution_count": null,
      "outputs": [
        {
          "output_type": "stream",
          "text": [
            "Test accuracy: 0.980268\n"
          ],
          "name": "stdout"
        }
      ]
    },
    {
      "cell_type": "markdown",
      "metadata": {
        "id": "LNW4syr0TcOy"
      },
      "source": [
        "### 4.4.2 使用keras预定义的经典神经网络结构  \r\n",
        "    \r\n",
        "[tf.keras.applications](https://www.tensorflow.org/api_docs/python/tf/keras/applications?hl=en) 包括：densenet、resnet、mobilenet(v1、v2、v3）、vgg（16、19）、Xception等"
      ]
    },
    {
      "cell_type": "code",
      "metadata": {
        "id": "aN4ehyLfSTRG"
      },
      "source": [
        "model = tf.keras.applications.VGG16()"
      ],
      "execution_count": null,
      "outputs": []
    },
    {
      "cell_type": "code",
      "metadata": {
        "colab": {
          "base_uri": "https://localhost:8080/"
        },
        "id": "CbOSEsOOUUf3",
        "outputId": "a58e2550-03e6-416b-ff4a-b82c528af0ab"
      },
      "source": [
        "# 查看模型结构\r\n",
        "model.summary()"
      ],
      "execution_count": null,
      "outputs": [
        {
          "output_type": "stream",
          "text": [
            "Model: \"vgg16\"\n",
            "_________________________________________________________________\n",
            "Layer (type)                 Output Shape              Param #   \n",
            "=================================================================\n",
            "input_1 (InputLayer)         [(None, 224, 224, 3)]     0         \n",
            "_________________________________________________________________\n",
            "block1_conv1 (Conv2D)        (None, 224, 224, 64)      1792      \n",
            "_________________________________________________________________\n",
            "block1_conv2 (Conv2D)        (None, 224, 224, 64)      36928     \n",
            "_________________________________________________________________\n",
            "block1_pool (MaxPooling2D)   (None, 112, 112, 64)      0         \n",
            "_________________________________________________________________\n",
            "block2_conv1 (Conv2D)        (None, 112, 112, 128)     73856     \n",
            "_________________________________________________________________\n",
            "block2_conv2 (Conv2D)        (None, 112, 112, 128)     147584    \n",
            "_________________________________________________________________\n",
            "block2_pool (MaxPooling2D)   (None, 56, 56, 128)       0         \n",
            "_________________________________________________________________\n",
            "block3_conv1 (Conv2D)        (None, 56, 56, 256)       295168    \n",
            "_________________________________________________________________\n",
            "block3_conv2 (Conv2D)        (None, 56, 56, 256)       590080    \n",
            "_________________________________________________________________\n",
            "block3_conv3 (Conv2D)        (None, 56, 56, 256)       590080    \n",
            "_________________________________________________________________\n",
            "block3_pool (MaxPooling2D)   (None, 28, 28, 256)       0         \n",
            "_________________________________________________________________\n",
            "block4_conv1 (Conv2D)        (None, 28, 28, 512)       1180160   \n",
            "_________________________________________________________________\n",
            "block4_conv2 (Conv2D)        (None, 28, 28, 512)       2359808   \n",
            "_________________________________________________________________\n",
            "block4_conv3 (Conv2D)        (None, 28, 28, 512)       2359808   \n",
            "_________________________________________________________________\n",
            "block4_pool (MaxPooling2D)   (None, 14, 14, 512)       0         \n",
            "_________________________________________________________________\n",
            "block5_conv1 (Conv2D)        (None, 14, 14, 512)       2359808   \n",
            "_________________________________________________________________\n",
            "block5_conv2 (Conv2D)        (None, 14, 14, 512)       2359808   \n",
            "_________________________________________________________________\n",
            "block5_conv3 (Conv2D)        (None, 14, 14, 512)       2359808   \n",
            "_________________________________________________________________\n",
            "block5_pool (MaxPooling2D)   (None, 7, 7, 512)         0         \n",
            "_________________________________________________________________\n",
            "flatten (Flatten)            (None, 25088)             0         \n",
            "_________________________________________________________________\n",
            "fc1 (Dense)                  (None, 4096)              102764544 \n",
            "_________________________________________________________________\n",
            "fc2 (Dense)                  (None, 4096)              16781312  \n",
            "_________________________________________________________________\n",
            "predictions (Dense)          (None, 1000)              4097000   \n",
            "=================================================================\n",
            "Total params: 138,357,544\n",
            "Trainable params: 138,357,544\n",
            "Non-trainable params: 0\n",
            "_________________________________________________________________\n"
          ],
          "name": "stdout"
        }
      ]
    },
    {
      "cell_type": "code",
      "metadata": {
        "id": "hfh2f0w9VCMy"
      },
      "source": [
        "import tensorflow as tf\r\n",
        "import tensorflow_datasets as tfds"
      ],
      "execution_count": null,
      "outputs": []
    },
    {
      "cell_type": "code",
      "metadata": {
        "id": "tgq2Tt64Vuge"
      },
      "source": [
        "num_epochs = 5\r\n",
        "batch_size = 24\r\n",
        "lr = 1e-6"
      ],
      "execution_count": null,
      "outputs": []
    },
    {
      "cell_type": "code",
      "metadata": {
        "id": "saWYlJJLafrG"
      },
      "source": [
        "dataset = tfds.load(\"tf_flowers\", split = tfds.Split.TRAIN, as_supervised=True)"
      ],
      "execution_count": null,
      "outputs": []
    },
    {
      "cell_type": "code",
      "metadata": {
        "id": "JDGSc1mjba4t"
      },
      "source": [
        "dataset = dataset.map(lambda img, label: ( tf.image.resize(img, (224, 224))/255.0, label)).shuffle(1024).batch(batch_size)"
      ],
      "execution_count": null,
      "outputs": []
    },
    {
      "cell_type": "code",
      "metadata": {
        "id": "sOsJ_TvCbela"
      },
      "source": [
        "#model = tf.keras.applications.MobileNetV2(weights = None, classes = 5)"
      ],
      "execution_count": null,
      "outputs": []
    },
    {
      "cell_type": "code",
      "metadata": {
        "id": "sXnDWhq9b2ut"
      },
      "source": [
        "optimizer = tf.keras.optimizers.Adam(learning_rate=lr)"
      ],
      "execution_count": null,
      "outputs": []
    },
    {
      "cell_type": "code",
      "metadata": {
        "colab": {
          "base_uri": "https://localhost:8080/"
        },
        "id": "b8OIBxEPcAYa",
        "outputId": "280bb8b6-814a-4921-e2f7-e538c07bc8b7"
      },
      "source": [
        "loss_progress = []\r\n",
        "cnt = 0\r\n",
        "for e_idx in range(num_epochs):\r\n",
        "  loss = None\r\n",
        "  print(\"=\"*10, end = '')\r\n",
        "  print(\"Epoch %d\"%e_idx, end = '')\r\n",
        "  print(\"=\"*10)\r\n",
        "  for images, labels in dataset:\r\n",
        "    with tf.GradientTape() as tape:\r\n",
        "      y_pred = model(images)\r\n",
        "      loss = tf.keras.losses.sparse_categorical_crossentropy(\r\n",
        "          y_true = labels,\r\n",
        "          y_pred = y_pred\r\n",
        "      )\r\n",
        "      loss = tf.reduce_mean(loss)\r\n",
        "    grads = tape.gradient(loss, model.trainable_variables)\r\n",
        "    optimizer.apply_gradients(grads_and_vars=zip(grads, model.trainable_variables))\r\n",
        "    \r\n",
        "    #print(\"Iteration %3d Loss %f\"%(cnt, loss.numpy()))\r\n",
        "    #cnt += 1\r\n",
        "  optimizer.apply_gradients(grads_and_vars=zip(grads, model.trainable_variables))\r\n",
        "  loss_progress.append(loss.numpy())\r\n",
        "  print(\"Epoch %d Loss %f\"%(e_idx, loss.numpy()))"
      ],
      "execution_count": null,
      "outputs": [
        {
          "output_type": "stream",
          "text": [
            "==========Epoch 0==========\n",
            "Epoch 0 Loss 1.180372\n",
            "==========Epoch 1==========\n",
            "Epoch 1 Loss 0.853532\n",
            "==========Epoch 2==========\n",
            "Epoch 2 Loss 0.716593\n",
            "==========Epoch 3==========\n",
            "Epoch 3 Loss 0.425987\n",
            "==========Epoch 4==========\n",
            "Epoch 4 Loss 0.384968\n"
          ],
          "name": "stdout"
        }
      ]
    },
    {
      "cell_type": "code",
      "metadata": {
        "colab": {
          "base_uri": "https://localhost:8080/",
          "height": 279
        },
        "id": "4neYV-QldoQj",
        "outputId": "0cf73777-9f96-4888-bda8-9c7596fe16df"
      },
      "source": [
        "plt.plot(list(range(len(loss_progress))), loss_progress, 'r-')\r\n",
        "plt.xlabel(r'iteration')\r\n",
        "plt.ylabel(r'loss')\r\n",
        "plt.show()"
      ],
      "execution_count": null,
      "outputs": [
        {
          "output_type": "display_data",
          "data": {
            "image/png": "[encoded data removed]",
            "text/plain": [
              "<Figure size 432x288 with 1 Axes>"
            ]
          },
          "metadata": {
            "tags": [],
            "needs_background": "light"
          }
        }
      ]
    },
    {
      "cell_type": "code",
      "metadata": {
        "id": "ZFtGL5FHgfoc"
      },
      "source": [
        "test_dataset = tfds.load(\"tf_flowers\", split = tfds.Split.TRAIN, as_supervised=True)\r\n",
        "sparse_categorical_accuracy = tf.keras.metrics.SparseCategoricalAccuracy()"
      ],
      "execution_count": null,
      "outputs": []
    },
    {
      "cell_type": "code",
      "metadata": {
        "id": "F316Tna6jsMf"
      },
      "source": [
        "test_dataset = test_dataset.map(lambda img, label: ( tf.image.resize(img, (224, 224))/255.0, label)).batch(batch_size)"
      ],
      "execution_count": null,
      "outputs": []
    },
    {
      "cell_type": "code",
      "metadata": {
        "colab": {
          "base_uri": "https://localhost:8080/"
        },
        "id": "ernn0i5thTl5",
        "outputId": "50a8948e-4ab6-4a6c-875c-0d1d6d9df64d"
      },
      "source": [
        "for images, labels in test_dataset:\r\n",
        "  y_pred = model.predict(images)\r\n",
        "  sparse_categorical_accuracy.update_state(\r\n",
        "      y_true = labels,\r\n",
        "      y_pred = y_pred\r\n",
        "  )\r\n",
        "print(\"Train Accuracy: %f\"%sparse_categorical_accuracy.result())"
      ],
      "execution_count": null,
      "outputs": [
        {
          "output_type": "stream",
          "text": [
            "Train Accuracy: 0.873025\n"
          ],
          "name": "stdout"
        }
      ]
    },
    {
      "cell_type": "markdown",
      "metadata": {
        "id": "YUxb1YKAmune"
      },
      "source": [
        "## 4.5 循环神经网络  \r\n",
        "Recurrent Neural Network，处理序列数据"
      ]
    },
    {
      "cell_type": "code",
      "metadata": {
        "id": "fFo6WF2u8Wzs"
      },
      "source": [
        "import tensorflow as tf\r\n",
        "import numpy as np\r\n",
        "from collections import Counter"
      ],
      "execution_count": null,
      "outputs": []
    },
    {
      "cell_type": "code",
      "metadata": {
        "colab": {
          "base_uri": "https://localhost:8080/"
        },
        "id": "8sVYQgmwCUGy",
        "outputId": "2faa18fd-d2c8-4590-f69a-f39a2aa8b724"
      },
      "source": [
        "A = \"akdfjsafjasdlasdjfkl saddjflkasdjflasjdf \"\r\n",
        "A = A.replace(' ','')\r\n",
        "A_cnt = Counter(A).items()\r\n",
        "A_cnt\r\n",
        "sorted(A_cnt, key = lambda x:x[1],reverse=True)"
      ],
      "execution_count": null,
      "outputs": [
        {
          "output_type": "execute_result",
          "data": {
            "text/plain": [
              "[('a', 7), ('d', 7), ('f', 6), ('j', 6), ('s', 6), ('l', 4), ('k', 3)]"
            ]
          },
          "metadata": {
            "tags": []
          },
          "execution_count": 19
        }
      ]
    },
    {
      "cell_type": "code",
      "metadata": {
        "id": "0mNlwGTRirCP"
      },
      "source": [
        "class DataLoader():\r\n",
        "  def __init__(self):\r\n",
        "    path = tf.keras.utils.get_file('nietzsche.txt', origin = 'https://s3.amazonaws.com/text-datasets/nietzsche.txt')\r\n",
        "    with open(path, encoding = 'utf-8') as f:\r\n",
        "      self.raw_text = f.read().lower()\r\n",
        "    #encoding by most used\r\n",
        "    #raw_text_cnt = Counter(self.raw_text).items()\r\n",
        "    #chars_sorted = sorted(raw_text_cnt, key=lambda x:x[1], reverse=True)\r\n",
        "    #self.chars = [x[0] for x in chars_sorted]\r\n",
        "    self.chars = sorted(list(set(self.raw_text)))\r\n",
        "    self.char_indices = dict((c,i) for i,c in enumerate(self.chars))\r\n",
        "    self.indices_char = dict((i,c) for i,c in enumerate(self.chars))\r\n",
        "    self.text = [self.char_indices[c] for c in self.raw_text]\r\n",
        "\r\n",
        "  def get_batch(self, seq_length, batch_size):\r\n",
        "    seq = []\r\n",
        "    next_char = []\r\n",
        "    for i in range(batch_size):\r\n",
        "      index = np.random.randint(0, len(self.text) - seq_length)\r\n",
        "      seq.append(self.text[index:index+seq_length])\r\n",
        "      next_char.append(self.text[index+seq_length])\r\n",
        "    return np.array(seq), np.array(next_char)"
      ],
      "execution_count": null,
      "outputs": []
    },
    {
      "cell_type": "code",
      "metadata": {
        "id": "APd0Y0O9ra3h"
      },
      "source": [
        "class RNN(tf.keras.Model):\r\n",
        "  def __init__(self, num_chars, batch_size, seq_length):\r\n",
        "    super().__init__()\r\n",
        "    self.num_chars = num_chars\r\n",
        "    self.seq_length = seq_length\r\n",
        "    self.batch_size = batch_size\r\n",
        "    self.cell = tf.keras.layers.LSTMCell(units=256)\r\n",
        "    self.dense = tf.keras.layers.Dense(units=self.num_chars)\r\n",
        "\r\n",
        "  def call(self, inputs, from_logits = False):\r\n",
        "    inputs = tf.one_hot(inputs, depth=self.num_chars)\r\n",
        "    state = self.cell.get_initial_state( batch_size = self.batch_size, dtype = tf.float32)\r\n",
        "    for t in range(self.seq_length):\r\n",
        "      output, state = self.cell(inputs[:, t, :], state )\r\n",
        "    logits = self.dense(output)\r\n",
        "    if from_logits:\r\n",
        "      return logits\r\n",
        "    else:\r\n",
        "      return tf.nn.softmax(logits)\r\n",
        "  \r\n",
        "  def predict(self, inputs, temperature = 1.):\r\n",
        "    batch_size,_ = tf.shape(inputs)\r\n",
        "    logits = self(inputs, from_logits = True)\r\n",
        "    prob = tf.nn.softmax(logits/temperature).numpy()\r\n",
        "    return np.array([np.random.choice(self.num_chars, p = prob[i,:]) for i in range(batch_size.numpy())])\r\n",
        "  "
      ],
      "execution_count": null,
      "outputs": []
    },
    {
      "cell_type": "code",
      "metadata": {
        "id": "tjg9rOXiD9ki"
      },
      "source": [
        "data_loader = DataLoader()"
      ],
      "execution_count": null,
      "outputs": []
    },
    {
      "cell_type": "code",
      "metadata": {
        "id": "f5WX8506EZxN"
      },
      "source": [
        "num_batches = 2000\r\n",
        "seq_length = 40\r\n",
        "batch_size = 100\r\n",
        "num_epoch = 10\r\n",
        "learning_rate = 1e-3"
      ],
      "execution_count": null,
      "outputs": []
    },
    {
      "cell_type": "code",
      "metadata": {
        "id": "BYjqmfCNEhS-"
      },
      "source": [
        "model = RNN(\r\n",
        "    num_chars=len(data_loader.chars),\r\n",
        "    batch_size = batch_size,\r\n",
        "    seq_length = seq_length)\r\n",
        "optimizer = tf.keras.optimizers.Adam(learning_rate=learning_rate)"
      ],
      "execution_count": null,
      "outputs": []
    },
    {
      "cell_type": "code",
      "metadata": {
        "id": "UdBm4c_FFOsP"
      },
      "source": [
        "X, y = data_loader.get_batch(seq_length, batch_size)"
      ],
      "execution_count": null,
      "outputs": []
    },
    {
      "cell_type": "code",
      "metadata": {
        "colab": {
          "base_uri": "https://localhost:8080/"
        },
        "id": "SCr2-zCHFW6i",
        "outputId": "a5421566-4fab-4607-dfff-7f31a5d4c807"
      },
      "source": [
        "X.shape, y.shape"
      ],
      "execution_count": null,
      "outputs": [
        {
          "output_type": "execute_result",
          "data": {
            "text/plain": [
              "((100, 40), (100,))"
            ]
          },
          "metadata": {
            "tags": []
          },
          "execution_count": 78
        }
      ]
    },
    {
      "cell_type": "code",
      "metadata": {
        "id": "shYkkr3yLxmD"
      },
      "source": [
        "import matplotlib.pyplot as plt\r\n",
        "import time"
      ],
      "execution_count": null,
      "outputs": []
    },
    {
      "cell_type": "code",
      "metadata": {
        "colab": {
          "base_uri": "https://localhost:8080/",
          "height": 1000
        },
        "id": "HxlJoUAqEyqN",
        "outputId": "b40cbaa9-821c-408e-c68a-19fb50dd9750"
      },
      "source": [
        "for e_idx in range(num_epoch):\r\n",
        "  loss_process = []\r\n",
        "  print('='*10, end='')\r\n",
        "  print('Epoch %d'%(e_idx), end='')\r\n",
        "  print('='*10)\r\n",
        "  time_start = time.time()\r\n",
        "  for batch_idx in range(num_batches):\r\n",
        "    X, y = data_loader.get_batch(seq_length, batch_size)\r\n",
        "    with tf.GradientTape() as tape:\r\n",
        "      y_pred = model(X)\r\n",
        "      loss = tf.keras.losses.sparse_categorical_crossentropy( y_true = y, y_pred = y_pred)\r\n",
        "      loss = tf.reduce_mean(loss)\r\n",
        "    print('\\rEpoch %d batch %d: loss %f'%( e_idx, batch_idx, loss.numpy()), end = '')\r\n",
        "    grads = tape.gradient(loss, model.variables)\r\n",
        "    optimizer.apply_gradients(grads_and_vars=zip(grads, model.variables))\r\n",
        "    loss_process.append(loss.numpy())\r\n",
        "  print()\r\n",
        "  time_end = time.time()\r\n",
        "  print('Time cost: %d'%(time_end - time_start))\r\n",
        "  #plt.subplot( 5, 2, e_idx+1)\r\n",
        "  plt.plot(list(range(num_batches) ), loss_process, 'r-')\r\n",
        "  plt.xlabel(r'batch idx')\r\n",
        "  plt.ylabel(r'loss')\r\n",
        "  plt.show()"
      ],
      "execution_count": null,
      "outputs": [
        {
          "output_type": "stream",
          "text": [
            "==========Epoch 0==========\n",
            "Epoch 0 batch 1999: loss 2.134439\n",
            "Time cost: 138\n"
          ],
          "name": "stdout"
        },
        {
          "output_type": "display_data",
          "data": {
            "image/png": "[encoded data removed]",
            "text/plain": [
              "<Figure size 432x288 with 1 Axes>"
            ]
          },
          "metadata": {
            "tags": [],
            "needs_background": "light"
          }
        },
        {
          "output_type": "stream",
          "text": [
            "==========Epoch 1==========\n",
            "Epoch 1 batch 1999: loss 1.844952\n",
            "Time cost: 138\n"
          ],
          "name": "stdout"
        },
        {
          "output_type": "display_data",
          "data": {
            "image/png": "[encoded data removed]",
            "text/plain": [
              "<Figure size 432x288 with 1 Axes>"
            ]
          },
          "metadata": {
            "tags": [],
            "needs_background": "light"
          }
        },
        {
          "output_type": "stream",
          "text": [
            "==========Epoch 2==========\n",
            "Epoch 2 batch 1999: loss 1.682746\n",
            "Time cost: 137\n"
          ],
          "name": "stdout"
        },
        {
          "output_type": "display_data",
          "data": {
            "image/png": "[encoded data removed]",
            "text/plain": [
              "<Figure size 432x288 with 1 Axes>"
            ]
          },
          "metadata": {
            "tags": [],
            "needs_background": "light"
          }
        },
        {
          "output_type": "stream",
          "text": [
            "==========Epoch 3==========\n",
            "Epoch 3 batch 1999: loss 1.600793\n",
            "Time cost: 136\n"
          ],
          "name": "stdout"
        },
        {
          "output_type": "display_data",
          "data": {
            "image/png": "[encoded data removed]",
            "text/plain": [
              "<Figure size 432x288 with 1 Axes>"
            ]
          },
          "metadata": {
            "tags": [],
            "needs_background": "light"
          }
        },
        {
          "output_type": "stream",
          "text": [
            "==========Epoch 4==========\n",
            "Epoch 4 batch 1999: loss 1.487493\n",
            "Time cost: 137\n"
          ],
          "name": "stdout"
        },
        {
          "output_type": "display_data",
          "data": {
            "image/png": "[encoded data removed]",
            "text/plain": [
              "<Figure size 432x288 with 1 Axes>"
            ]
          },
          "metadata": {
            "tags": [],
            "needs_background": "light"
          }
        },
        {
          "output_type": "stream",
          "text": [
            "==========Epoch 5==========\n",
            "Epoch 5 batch 1999: loss 1.490467\n",
            "Time cost: 137\n"
          ],
          "name": "stdout"
        },
        {
          "output_type": "display_data",
          "data": {
            "image/png": "[encoded data removed]",
            "text/plain": [
              "<Figure size 432x288 with 1 Axes>"
            ]
          },
          "metadata": {
            "tags": [],
            "needs_background": "light"
          }
        },
        {
          "output_type": "stream",
          "text": [
            "==========Epoch 6==========\n",
            "Epoch 6 batch 1999: loss 1.709647\n",
            "Time cost: 137\n"
          ],
          "name": "stdout"
        },
        {
          "output_type": "display_data",
          "data": {
            "image/png": "[encoded data removed]",
            "text/plain": [
              "<Figure size 432x288 with 1 Axes>"
            ]
          },
          "metadata": {
            "tags": [],
            "needs_background": "light"
          }
        },
        {
          "output_type": "stream",
          "text": [
            "==========Epoch 7==========\n",
            "Epoch 7 batch 1999: loss 1.446940\n",
            "Time cost: 137\n"
          ],
          "name": "stdout"
        },
        {
          "output_type": "display_data",
          "data": {
            "image/png": "[encoded data removed]",
            "text/plain": [
              "<Figure size 432x288 with 1 Axes>"
            ]
          },
          "metadata": {
            "tags": [],
            "needs_background": "light"
          }
        },
        {
          "output_type": "stream",
          "text": [
            "==========Epoch 8==========\n",
            "Epoch 8 batch 1999: loss 1.581140\n",
            "Time cost: 138\n"
          ],
          "name": "stdout"
        },
        {
          "output_type": "display_data",
          "data": {
            "image/png": "[encoded data removed]",
            "text/plain": [
              "<Figure size 432x288 with 1 Axes>"
            ]
          },
          "metadata": {
            "tags": [],
            "needs_background": "light"
          }
        },
        {
          "output_type": "stream",
          "text": [
            "==========Epoch 9==========\n",
            "Epoch 9 batch 1999: loss 1.478311\n",
            "Time cost: 138\n"
          ],
          "name": "stdout"
        },
        {
          "output_type": "display_data",
          "data": {
            "image/png": "[encoded data removed]",
            "text/plain": [
              "<Figure size 432x288 with 1 Axes>"
            ]
          },
          "metadata": {
            "tags": [],
            "needs_background": "light"
          }
        }
      ]
    },
    {
      "cell_type": "code",
      "metadata": {
        "colab": {
          "base_uri": "https://localhost:8080/",
          "height": 265
        },
        "id": "y9BktDZeGYnL",
        "outputId": "934356da-f52c-4171-9fd6-1f07c1ee3fb2"
      },
      "source": [
        "#迭代1000次的显示结果\r\n",
        "import matplotlib.pyplot as plt\r\n",
        "plt.plot(list(range(len(loss_process))), loss_process, 'r-')\r\n",
        "plt.show()"
      ],
      "execution_count": null,
      "outputs": [
        {
          "output_type": "display_data",
          "data": {
            "image/png": "[encoded data removed]",
            "text/plain": [
              "<Figure size 432x288 with 1 Axes>"
            ]
          },
          "metadata": {
            "tags": [],
            "needs_background": "light"
          }
        }
      ]
    },
    {
      "cell_type": "code",
      "metadata": {
        "colab": {
          "base_uri": "https://localhost:8080/",
          "height": 35
        },
        "id": "zeFN5gDpVU9z",
        "outputId": "d9035d6b-0d3a-453d-bd91-71d48f7fb851"
      },
      "source": [
        "# 模型保存\r\n",
        "checkpoint = tf.train.Checkpoint(myModel = model)\r\n",
        "checkpoint.save('./model/model.ckptb')"
      ],
      "execution_count": null,
      "outputs": [
        {
          "output_type": "execute_result",
          "data": {
            "application/vnd.google.colaboratory.intrinsic+json": {
              "type": "string"
            },
            "text/plain": [
              "'./model/model.ckpt-1'"
            ]
          },
          "metadata": {
            "tags": []
          },
          "execution_count": 50
        }
      ]
    },
    {
      "cell_type": "code",
      "metadata": {
        "id": "sZpwxnOFV2o4"
      },
      "source": [
        "# 模型恢复\r\n",
        "num_batches = 2000\r\n",
        "seq_length = 40\r\n",
        "batch_size = 100\r\n",
        "model = RNN(\r\n",
        "    num_chars=len(data_loader.chars),\r\n",
        "    batch_size = batch_size,\r\n",
        "    seq_length = seq_length)\r\n",
        "checkpoint = tf.train.Checkpoint(myModel = model)\r\n",
        "checkpoint.restore(tf.train.latest_checkpoint('./model'))"
      ],
      "execution_count": null,
      "outputs": []
    },
    {
      "cell_type": "code",
      "metadata": {
        "colab": {
          "base_uri": "https://localhost:8080/"
        },
        "id": "bA7pZLc2VPwG",
        "outputId": "68b49c5e-b44e-4293-c470-49db087ee318"
      },
      "source": [
        "# 测试下batch值\r\n",
        "X, y = data_loader.get_batch(seq_length, batch_size)\r\n",
        "for j in range(X.shape[0]):\r\n",
        "  print(''.join([data_loader.indices_char[i] for i in X[j]]))"
      ],
      "execution_count": null,
      "outputs": [
        {
          "output_type": "stream",
          "text": [
            "ve that he was\n",
            "only giving names to thin\n",
            "eastful systems of worship, so in the er\n",
            "ion\n",
            "(perhaps because they did not know t\n",
            "ot that he may become moral but that he \n",
            "n of\n",
            "peculiar forms, incorporation, and \n",
            " the great number of [artistic] forms wh\n",
            " favor, when he has\n",
            "left them in the lur\n",
            "ant,\" without further thought. as\n",
            "regard\n",
            "the narration of noble,\n",
            "great-hearted de\n",
            "m the point\n",
            "of view of its usefulness, a\n",
            "rcumstances.\n",
            "\n",
            "\n",
            "71\n",
            "\n",
            "=hope.=--pandora brou\n",
            "imself--leads\n",
            "many, also, to strengthen \n",
            "ity has, point for point,\n",
            "recoiled from \n",
            "n could have done--owing to the\n",
            "circumst\n",
            "uch indiscreet billy-goat and ape, as in\n",
            "en,\n",
            "which is also emphasized, as though \n",
            " the track of thought, since the\n",
            "transit\n",
            "man is able to injure a powerful enemy b\n",
            "uch humble labor and that will oppose\n",
            "pe\n",
            "orse is skittish. thus will men in\n",
            "dange\n",
            "n the petty\n",
            "romanciers of the newspapers\n",
            "ead the riddle of that great liberation,\n",
            "\n",
            "knows! greece took a hundred years to f\n",
            " conclusions, and consequently of false \n",
            "the german soul has passages and galleri\n",
            " has hitherto been maintained\n",
            "in europe,\n",
            "wherever man has allowed himself to be\n",
            "p\n",
            "\n",
            "impossible for him to have spoken of th\n",
            " in fact, seriously and honestly. to pun\n",
            " through erroneous, and none would to-da\n",
            "nner activity of motives, the greater, c\n",
            "n of the \"good\n",
            "old time\" to which it bel\n",
            " i sought where-so the wind blows keenes\n",
            "andard? and is good perhaps evil? and go\n",
            "great\n",
            "laborious centres of trade and com\n",
            "ing-domain for a born psychologist and l\n",
            "main! indeed,\n",
            "what is it that forces us \n",
            " at last, refrain,\n",
            "even in moments of th\n",
            "i understand it, the rearing\n",
            "of a new ru\n",
            "n has to do with nature\n",
            "and intercourse \n",
            "he individual cannot extricate it from\n",
            "t\n",
            "with the aid of this\n",
            "corporeal element t\n",
            ", and self-deliverance.\n",
            "nothing but new \n",
            "\n",
            "must, however, go still further, and al\n",
            " at his own sorrow and its\n",
            "manifestation\n",
            "e, which is more\n",
            "\"natural\" than that of \n",
            ". from this\n",
            "world of conception it is in\n",
            "gs look like when they are overturned. i\n",
            "ng sublime,\n",
            "up to the highest and most d\n",
            "nevertheless a mask of him there--and\n",
            "th\n",
            "es unconditionally; all of them flavoure\n",
            " and art of flying as his privilege and \n",
            " \"when i analyze the process that is exp\n",
            "sition referred to may indeed be\n",
            "great--\n",
            "ty of an impression: the latter requires\n",
            "e interrogative mark\n",
            "which you place aft\n",
            "n when napoleon\n",
            "gave the too eloquent ma\n",
            " and as\n",
            "it were into this \"holy of holie\n",
            "d risk raising it? for there is risk\n",
            "in \n",
            "hich should\n",
            "refrain from all organic fun\n",
            "world known to us: so that\n",
            "throughout ph\n",
            "blic\n",
            "world took delight. the laws of the\n",
            "\n",
            "evidence of that which has hitherto bee\n",
            "n their presence \"that thought elevates \n",
            "s the value of those good and\n",
            "respected \n",
            "extent to which\n",
            "they wish to see its ima\n",
            "diating the notions \"master\" and \"servan\n",
            "ncy, language\n",
            "shows a tendency to approx\n",
            " been pushed to its\n",
            "furthest extent (to \n",
            "ed himself.\n",
            "passion will not wait: the t\n",
            "t through everyone must\n",
            "go through\" in w\n",
            "oo much, so that its\n",
            "root remains weak, \n",
            "ment and rapid\n",
            "flourishing of german phi\n",
            "ng,\" as if the will would then remain ov\n",
            " being virtues, would be the waste of vi\n",
            " one's bark, well! very good! now let us\n",
            ",\"\n",
            "as old kant wished (consequently the \n",
            "ture is\n",
            "complicated; for nearly always, \n",
            "es, or fears different from those of\n",
            "the\n",
            "eir dreams our present-day europe,\n",
            "the s\n",
            "\" the long and serious study of the aver\n",
            "vents and spiritual\n",
            "penitentiaries the b\n",
            "usic badly. when we hear\n",
            "another languag\n",
            "e been unskilled and unseemly methods fo\n",
            "m the illogical springs much that is goo\n",
            "eceiving, at least as long as\n",
            "possible, \n",
            "cians (not to mention the most cultured \n",
            "to\n",
            "the conclusion that a person is super\n",
            " the\n",
            "non-reasonable, the animate from th\n",
            "alist, and bird\n",
            "snarer--talk unmorally, \n",
            "f you think you love your mistress for t\n",
            "ever that of a proud spirit; next he cra\n",
            "never there is any celtic blood in their\n",
            "world would be undeceiving us most cruel\n",
            " invention, ideas, and\n",
            "words? what matte\n",
            "ogical\n",
            "temperament, which in ordinary la\n",
            "er we please with impunity.\" la rochefou\n",
            "lling--to such a degree\n",
            "that he who will\n",
            "and dangerous isolation, as a saint: for\n",
            " ready\n",
            "to become truths, so immortal do \n"
          ],
          "name": "stdout"
        }
      ]
    },
    {
      "cell_type": "code",
      "metadata": {
        "colab": {
          "base_uri": "https://localhost:8080/"
        },
        "id": "aBVgvmBzW-mo",
        "outputId": "3128a215-ebe9-4725-86be-ff3f000ec09f"
      },
      "source": [
        "X_, _ = data_loader.get_batch(seq_length, 1)\r\n",
        "for diversity in [0.2, 0.5, 1.0, 1.2]:\r\n",
        "  X = X_\r\n",
        "  print(\"diversity %f\"%diversity)\r\n",
        "  for t in range(400):\r\n",
        "    y_pred = model.predict(X, diversity)\r\n",
        "    print(data_loader.indices_char[y_pred[0]], end = '', flush = True)\r\n",
        "    X = np.concatenate([X[:,1:], np.expand_dims(y_pred, axis = 1)], axis = -1)\r\n",
        "  print('\\n')"
      ],
      "execution_count": null,
      "outputs": [
        {
          "output_type": "stream",
          "text": [
            "diversity 0.200000\n",
            "erism and the spirit and the same and the same and the spirit and the states of the same and the still to the struct and the struct and the same and the moral passions of the same and the same and the latter and spirit and in the conditional experience and the most subtlety and desirable the still to the same and the same and instinct that the still moral philosophy and pride still to the struct a\n",
            "\n",
            "diversity 0.500000\n",
            "ers, and against the respectable to the prisonal of the concealing the destrustion of the fact thereby! and wherever and subtlety thereby the spirit and pleasure and the will to a reverence of the good taste, in the condemperates and understands his self-allither, and therefore is to be a still in the fact, yhe particular to the world, as an about the same who have have not in the action which can\n",
            "\n",
            "diversity 1.000000\n",
            "er that the furthess of endow equals! ils doem, their rewards to probicite thereward with religions for him,\n",
            "we'e moration, for rook with morability, as soca arimate but always seevould\n",
            "thardinctic kind of german ploudbul, muctarying, ruch as _asrionar which\n",
            "essen in the\n",
            "hordured to the\n",
            "bonst of stmicts of demonration\n",
            "starst. but this camilowales.\n",
            "[295. every strange; to scalsel.=--such men promes\n",
            "\n",
            "diversity 1.200000\n",
            "ions! geasy, calringly, the same like, yrands turbvented, forress? to anstrick. but\n",
            "the mas for\n",
            "them blundeg's (witabystative! but one most as still a thinking can be armificit. from deneatey, explained who bend they are manquijually alwers\", that he has alure of knowledge and true\n",
            "still persam surn the state\n",
            "of sacrificia, took to pnearly like and petslitionaries. and. such \"should save and gromi\n",
            "\n"
          ],
          "name": "stdout"
        }
      ]
    },
    {
      "cell_type": "markdown",
      "metadata": {
        "id": "wTR-b_X3eghJ"
      },
      "source": [
        "# Keras Pipeline  \r\n"
      ]
    },
    {
      "cell_type": "markdown",
      "metadata": {
        "id": "ObGAH42aiQ5e"
      },
      "source": [
        "## 5.1 Keras Sequential/Functional API  \r\n",
        "\r\n",
        "\r\n",
        "```python\r\n",
        "model = tf.keras.models.Sequential([\r\n",
        "  tf.keras.layers.Flatten(),\r\n",
        "  tf.keras.layers.Dense(100, activation = tf.nn.relu),\r\n",
        "  tf.keras.layers.Dense(10),\r\n",
        "  tf.keras.layers.SoftMax()\r\n",
        "])\r\n",
        "```\r\n",
        "Functional API  \r\n",
        "```python\r\n",
        "inputs = tf.keras.Input(shape = (28,28,1))\r\n",
        "x = tf.keras.layers.Flatten()(inputs)\r\n",
        "x = tf.keras.layers.Dense(units=100, activation=tf.nn.relu)(x)\r\n",
        "x = tf.keras.layers.Dense(units=10)(x)\r\n",
        "outputs = tf.keras.layers.Softmax()(x)\r\n",
        "model = tf.keras.Model(inputs=inputs, outputs=outputs)\r\n",
        "```"
      ]
    },
    {
      "cell_type": "markdown",
      "metadata": {
        "id": "1FEeUj3hiWre"
      },
      "source": [
        "## 5.2 使用Keras的compile、fit和evaluate方法  \r\n",
        "```python\r\n",
        "model.compile(\r\n",
        "  optimizer = tf.keras.optimizers.Adam(leraning_rate = 0.001),\r\n",
        "  loss = tf.keras.losses.sparse_categorical_crossentropy,\r\n",
        "  metrices=[tf.keras.metrics.sparse_categorical_accuracy]\r\n",
        ")\r\n",
        "```\r\n",
        "tf.keras.Model.compile主要接受三个参数  \r\n",
        "* oplimizer:优化器，可从tf.keras.optimizers中选择  \r\n",
        "* loss:损失函数，可从tf.keras.losses中选择  \r\n",
        "* metrics:评估指标，可从tf.keras.metrics中选择  \r\n",
        "  \r\n",
        "```python\r\n",
        "model.fit(data_loader.train_data, data_loader.train_label, epochs=num_epochs, batch_size=batch_size)\r\n",
        "```  \r\n",
        "tf.keras.Model.fit主要接受五个参数  \r\n",
        "* x:训练数据  \r\n",
        "* y:目标数据(数据标签)\r\n",
        "* epochs:将训练数据迭代多少遍  \r\n",
        "* batch_size:批次的大小\r\n",
        "* validation_data:验证数据，可用于在训练过程中监控模型的性能 \r\n",
        "\r\n",
        "Keras支持使用tf.data.Dataset进行训练  \r\n",
        "此外，我们可以使用tf.keras.Model.evaluate评估训练效果，提供测试数据及标签即可  \r\n",
        "\r\n",
        "```python\r\n",
        "print(model.evaluate(data_loader.test_data, data_loader.test_label))\r\n",
        "```"
      ]
    },
    {
      "cell_type": "markdown",
      "metadata": {
        "id": "5NTxLDS9otsf"
      },
      "source": [
        "## 5.3 自定义层、损失函数和评估指标 \r\n",
        "自定义层需要继承tf.keras.layers类，并重写\\__init__、build和call三个方法  \r\n",
        "```python\r\n",
        "class MyLayer(tf.keras.layers.Layer):\r\n",
        "  def __init__(self):\r\n",
        "    super().__init__()\r\n",
        "    #初始化代码\r\n",
        "  \r\n",
        "  def build( self, input_shape):\r\n",
        "    #input_shape是一个TensorShape类型对象，提供输入的形状\r\n",
        "    #在第一次使用该层的时候调用该部分代码，\r\n",
        "    #在这里创建变量可以使得变量的形状自适应输入的形状\r\n",
        "    #而不需要使用者额外指定变量形状\r\n",
        "    #如果已经可以完全确定变量的形状，也可以在__init__部分创建变量\r\n",
        "    self.variable_0 = self.add_weight(...)\r\n",
        "    self.variable_1 = self.add_weight(...)\r\n",
        "  \r\n",
        "  def call(self, inputs):\r\n",
        "    #模型调用的代码（处理输入并返回输出)\r\n",
        "    return output\r\n",
        "```"
      ]
    },
    {
      "cell_type": "markdown",
      "metadata": {
        "id": "_qEQpnDIyVBW"
      },
      "source": [
        "## 5.4 自定义损失函数和评估指标  \r\n",
        "自定义损失函数需要继承tf.keras.losses.Loss类，重写call方法即可，输入真实值y_true和模型预测值y_pred，输出模型预测值和真实值之间通过自定义的损失函数计算出的损失值。  \r\n",
        "```python\r\n",
        "class MeanSquaredError(tf.keras.losses.Loss):\r\n",
        "  def call(self, y_true, y_pred):\r\n",
        "    return tf.reduce_mean(tf.square(y_pred-y_true))\r\n",
        "```  \r\n",
        "  \r\n",
        "自定义评估指标需要继承tf.keras.metrics.Metric类，并重写\\__init__、update\\_state、和result三个方法  \r\n",
        "```python\r\n",
        "class sparseCategoricalAccuracy(tf.keras.metrics.Metric):\r\n",
        "  def __init__(self):\r\n",
        "    super().__init__()\r\n",
        "    self.total = self.add_weight(name='total',dtype=tf.int32,initializer=tf.zeros_initializer())\r\n",
        "    self.count = self.add_weight(name='count',dtype=tf.int32,initializer=tf.zeros_initializer())\r\n",
        "\r\n",
        "  def update_state(self, y_true, y_pred, sample_weight = None_):\r\n",
        "    values = tf.cast(tf.equal(y_true, tf.argmax(y_pred, axis = -1, output_type = tf.int32)), tf.int32)\r\n",
        "    self.total.assign_add(tf.shape(y_true)[0])\r\n",
        "    self.count.assign_add(tf.reduce_sum(values))\r\n",
        "\r\n",
        "  def result(self):\r\n",
        "    return self.count/self.total\r\n",
        "```"
      ]
    },
    {
      "cell_type": "code",
      "metadata": {
        "id": "KifCNQLcXPH8"
      },
      "source": [
        ""
      ],
      "execution_count": null,
      "outputs": []
    }
  ]
}